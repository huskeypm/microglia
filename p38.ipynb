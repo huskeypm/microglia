{
 "metadata": {
  "name": "",
  "signature": "sha256:66967fb5bc1076d37c97e9be7dd2febcbefe8568eb73f0eedaef75a1cd7f7fac"
 },
 "nbformat": 3,
 "nbformat_minor": 0,
 "worksheets": [
  {
   "cells": [
    {
     "cell_type": "markdown",
     "metadata": {},
     "source": [
      "### p38 tomfoolery"
     ]
    },
    {
     "cell_type": "code",
     "collapsed": false,
     "input": [
      "%matplotlib inline"
     ],
     "language": "python",
     "metadata": {},
     "outputs": [],
     "prompt_number": 3
    },
    {
     "cell_type": "code",
     "collapsed": false,
     "input": [
      "import numpy as np\n",
      "from scipy.integrate import odeint"
     ],
     "language": "python",
     "metadata": {},
     "outputs": [],
     "prompt_number": 4
    },
    {
     "cell_type": "code",
     "collapsed": false,
     "input": [
      "def funcConstCa(ys,t,v=1):\n",
      "    Ca,pp38 = ys\n",
      "    kon = 1.\n",
      "    koff = 3.\n",
      "    Bmax = 10. \n",
      "    dcadt = 0.\n",
      "    dp38dt = kon * Ca * (Bmax-pp38)  - koff * pp38\n",
      "    return [dcadt,dp38dt] "
     ],
     "language": "python",
     "metadata": {},
     "outputs": [],
     "prompt_number": 40
    },
    {
     "cell_type": "code",
     "collapsed": false,
     "input": [
      "ts = np.linspace(1,10,1000)\n",
      "y0 = [1.,1.]\n",
      "\n",
      "\n",
      "ys = odeint(funcConstCa,y0,ts)"
     ],
     "language": "python",
     "metadata": {},
     "outputs": [],
     "prompt_number": 41
    },
    {
     "cell_type": "code",
     "collapsed": false,
     "input": [
      "plt.plot(ts,ys[:,0], label=\"Ca\")\n",
      "plt.plot(ts,ys[:,1], label=\"p38'\")\n",
      "plt.legend(loc=0)"
     ],
     "language": "python",
     "metadata": {},
     "outputs": [
      {
       "metadata": {},
       "output_type": "pyout",
       "prompt_number": 29,
       "text": [
        "<matplotlib.legend.Legend at 0x7f0cd367ef90>"
       ]
      },
      {
       "metadata": {},
       "output_type": "display_data",
       "png": "[encoded data removed]",
       "text": [
        "<matplotlib.figure.Figure at 0x7f0cd36f5ed0>"
       ]
      }
     ],
     "prompt_number": 29
    },
    {
     "cell_type": "code",
     "collapsed": false,
     "input": [
      "n=70\n",
      "Cas = 10**np.linspace(-1,5,n)\n",
      "\n",
      "pp38fs = np.zeros(n)\n",
      "for i,Cai in enumerate(Cas):\n",
      "        pp38 = 1. # [uM]\n",
      "        y0 = [Cai,pp38]\n",
      "        \n",
      "        ys = odeint(funcConstCa,y0,ts)\n",
      "        Caf,pp38f = ys[-1,]\n",
      "        #print Caf,pp38f\n",
      "        pp38fs[i] = pp38f"
     ],
     "language": "python",
     "metadata": {},
     "outputs": [],
     "prompt_number": 42
    },
    {
     "cell_type": "code",
     "collapsed": false,
     "input": [
      "plt.plot(Cas,pp38fs)\n",
      "plt.xscale('log')"
     ],
     "language": "python",
     "metadata": {},
     "outputs": [
      {
       "metadata": {},
       "output_type": "display_data",
       "png": "[encoded data removed]",
       "text": [
        "<matplotlib.figure.Figure at 0x7f0cd3030610>"
       ]
      }
     ],
     "prompt_number": 43
    },
    {
     "cell_type": "code",
     "collapsed": false,
     "input": [],
     "language": "python",
     "metadata": {},
     "outputs": []
    },
    {
     "cell_type": "code",
     "collapsed": false,
     "input": [],
     "language": "python",
     "metadata": {},
     "outputs": []
    },
    {
     "cell_type": "code",
     "collapsed": false,
     "input": [
      "Cas"
     ],
     "language": "python",
     "metadata": {},
     "outputs": [
      {
       "metadata": {},
       "output_type": "pyout",
       "prompt_number": 35,
       "text": [
        "array([  1.00000000e-01,   1.00000000e+00,   1.00000000e+01,\n",
        "         1.00000000e+02,   1.00000000e+03,   1.00000000e+04,\n",
        "         1.00000000e+05])"
       ]
      }
     ],
     "prompt_number": 35
    },
    {
     "cell_type": "code",
     "collapsed": false,
     "input": [
      "pp38fs"
     ],
     "language": "python",
     "metadata": {},
     "outputs": [
      {
       "metadata": {},
       "output_type": "pyout",
       "prompt_number": 36,
       "text": [
        "array([ 0.32258064,  2.5       ,  7.69230769,  9.70873786,  9.97008973,\n",
        "        9.9970009 ,  9.99970001])"
       ]
      }
     ],
     "prompt_number": 36
    },
    {
     "cell_type": "code",
     "collapsed": false,
     "input": [
      "def funcICa(ys,t,KDpump=3.):\n",
      "    Ca,pp38 = ys\n",
      "    kon = 0.1\n",
      "    koff = 0.3\n",
      "    Bmax = 10. \n",
      "    \n",
      "    Vmax = 1e1\n",
      "    r = 1/(1+KDpump/KDpump)\n",
      "    rExtrude = Vmax * (( 1/(1 + KDpump/Ca)) - r)\n",
      "    \n",
      "    # channel \n",
      "    tau = 1. \n",
      "    g = 10 # uM/s\n",
      "    iCa = g * np.exp(-t/tau)\n",
      "    #iCa = 0. \n",
      "    \n",
      "    dcadt = iCa - rExtrude\n",
      "    dp38dt = kon * Ca * (Bmax-pp38)  - koff * pp38\n",
      "    return [dcadt,dp38dt] "
     ],
     "language": "python",
     "metadata": {},
     "outputs": [],
     "prompt_number": 98
    },
    {
     "cell_type": "code",
     "collapsed": false,
     "input": [
      "ts = np.linspace(1,10,1000)\n",
      "y0 = [2.,1.]\n",
      "\n",
      "\n",
      "KDpump=3.\n",
      "ys = odeint(funcICa,y0,ts,args=(KDpump,))\n",
      "plt.plot(ts,ys[:,0], 'k-', label=\"Ca\")\n",
      "plt.plot(ts,ys[:,1], 'r-',label=\"p38'\")\n",
      "plt.legend(loc=0)\n",
      "\n",
      "\n",
      "KDpump=1.\n",
      "ys = odeint(funcICa,y0,ts,args=(KDpump,))\n",
      "plt.plot(ts,ys[:,0], 'k--', label=\"Ca\")\n",
      "plt.plot(ts,ys[:,1], 'r--',label=\"p38'\")\n",
      "plt.legend(loc=0)"
     ],
     "language": "python",
     "metadata": {},
     "outputs": [
      {
       "metadata": {},
       "output_type": "pyout",
       "prompt_number": 100,
       "text": [
        "<matplotlib.legend.Legend at 0x7f0cd1a15e90>"
       ]
      },
      {
       "metadata": {},
       "output_type": "display_data",
       "png": "[encoded data removed]",
       "text": [
        "<matplotlib.figure.Figure at 0x7f0cd1ab16d0>"
       ]
      }
     ],
     "prompt_number": 100
    },
    {
     "cell_type": "code",
     "collapsed": false,
     "input": [],
     "language": "python",
     "metadata": {},
     "outputs": []
    }
   ],
   "metadata": {}
  }
 ]
}