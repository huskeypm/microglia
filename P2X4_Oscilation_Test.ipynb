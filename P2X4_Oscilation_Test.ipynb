{
 "metadata": {
  "name": "",
  "signature": "sha256:3f4cdcb5fe7a07cef8415298110667916a4386d0300562f885f84b34d0260ebd"
 },
 "nbformat": 3,
 "nbformat_minor": 0,
 "worksheets": [
  {
   "cells": [
    {
     "cell_type": "code",
     "collapsed": false,
     "input": [
      "import scipy.integrate\n",
      "from scipy.integrate import odeint"
     ],
     "language": "python",
     "metadata": {},
     "outputs": [],
     "prompt_number": 2
    },
    {
     "cell_type": "code",
     "collapsed": false,
     "input": [
      "t = scipy.linspace(0.0, 4.0, 81)\n",
      "print t\n"
     ],
     "language": "python",
     "metadata": {},
     "outputs": [
      {
       "output_type": "stream",
       "stream": "stdout",
       "text": [
        "[ 0.    0.05  0.1   0.15  0.2   0.25  0.3   0.35  0.4   0.45  0.5   0.55\n",
        "  0.6   0.65  0.7   0.75  0.8   0.85  0.9   0.95  1.    1.05  1.1   1.15\n",
        "  1.2   1.25  1.3   1.35  1.4   1.45  1.5   1.55  1.6   1.65  1.7   1.75\n",
        "  1.8   1.85  1.9   1.95  2.    2.05  2.1   2.15  2.2   2.25  2.3   2.35\n",
        "  2.4   2.45  2.5   2.55  2.6   2.65  2.7   2.75  2.8   2.85  2.9   2.95\n",
        "  3.    3.05  3.1   3.15  3.2   3.25  3.3   3.35  3.4   3.45  3.5   3.55\n",
        "  3.6   3.65  3.7   3.75  3.8   3.85  3.9   3.95  4.  ]\n"
       ]
      }
     ],
     "prompt_number": 57
    },
    {
     "cell_type": "code",
     "collapsed": false,
     "input": [
      "a = 10\n",
      "b = -0.4\n",
      "c = 1.9\n",
      "d = -0.5\n",
      "f = 2.5"
     ],
     "language": "python",
     "metadata": {},
     "outputs": [],
     "prompt_number": 61
    },
    {
     "cell_type": "code",
     "collapsed": false,
     "input": [
      "fun1 = e**(-a * t)\n",
      "fun2 = b*e**(-c * t)\n",
      "fun3 = d*e**(-f * t)\n"
     ],
     "language": "python",
     "metadata": {},
     "outputs": [],
     "prompt_number": 73
    },
    {
     "cell_type": "code",
     "collapsed": false,
     "input": [
      "plt.plot(fun1, label=\"fun1\")\n",
      "plt.plot(fun2, label=\"fun2\")\n",
      "plt.plot(fun1+fun2, label=\"fun1+2\")\n",
      "plt.plot(fun1+fun2+fun3, label=\"fun1+2+3\")\n",
      "plt.legend()"
     ],
     "language": "python",
     "metadata": {},
     "outputs": [
      {
       "metadata": {},
       "output_type": "pyout",
       "prompt_number": 63,
       "text": [
        "<matplotlib.legend.Legend at 0x7f6751243650>"
       ]
      },
      {
       "metadata": {},
       "output_type": "display_data",
       "png": "[encoded data removed]",
       "text": [
        "<matplotlib.figure.Figure at 0x7f675131b150>"
       ]
      }
     ],
     "prompt_number": 63
    },
    {
     "cell_type": "code",
     "collapsed": false,
     "input": [
      "data = np.loadtxt(\"/home/AD/bdst227/ipython/ipython-notebooks/microglia/P2X4_gimp_data.txt\",skiprows=1)\n",
      "\n",
      "print data\n",
      "\n",
      "time = data[:,0]\n",
      "current = data[:,1]"
     ],
     "language": "python",
     "metadata": {},
     "outputs": [
      {
       "output_type": "stream",
       "stream": "stdout",
       "text": [
        "[[ 0.24489796  0.89180328]\n",
        " [ 0.36734694  0.89180328]\n",
        " [ 1.02040816  0.89180328]\n",
        " [ 1.06122449  0.88131148]\n",
        " [ 1.08163265  0.61901639]\n",
        " [ 1.10204082  0.43540984]\n",
        " [ 1.12244898  0.29377049]\n",
        " [ 1.2244898   0.3095082 ]\n",
        " [ 1.26530612  0.3304918 ]\n",
        " [ 1.34693878  0.35672131]\n",
        " [ 1.42857143  0.38295082]\n",
        " [ 1.63265306  0.43540984]\n",
        " [ 1.79591837  0.46163934]\n",
        " [ 1.91836735  0.48262295]\n",
        " [ 2.04081633  0.52459016]\n",
        " [ 2.10204082  0.58229508]\n",
        " [ 2.16326531  0.6347541 ]\n",
        " [ 2.20408163  0.68196721]\n",
        " [ 2.24489796  0.75540984]\n",
        " [ 2.36734694  0.82885246]\n",
        " [ 2.51020408  0.87081967]\n",
        " [ 2.69387755  0.89180328]\n",
        " [ 2.85714286  0.89180328]\n",
        " [ 4.          0.89180328]]\n"
       ]
      }
     ],
     "prompt_number": 67
    },
    {
     "cell_type": "code",
     "collapsed": false,
     "input": [
      "plt.plot(time,current,label=(\"P2X4_lit\"))\n",
      "plt.plot(t+1,fun1+fun2+fun3+0.7, label=\"fit\")\n",
      "plt.legend()"
     ],
     "language": "python",
     "metadata": {},
     "outputs": [
      {
       "metadata": {},
       "output_type": "pyout",
       "prompt_number": 80,
       "text": [
        "<matplotlib.legend.Legend at 0x7f6750806850>"
       ]
      },
      {
       "metadata": {},
       "output_type": "display_data",
       "png": "[encoded data removed]",
       "text": [
        "<matplotlib.figure.Figure at 0x7f6750861b90>"
       ]
      }
     ],
     "prompt_number": 80
    },
    {
     "cell_type": "code",
     "collapsed": false,
     "input": [],
     "language": "python",
     "metadata": {},
     "outputs": []
    },
    {
     "cell_type": "code",
     "collapsed": false,
     "input": [],
     "language": "python",
     "metadata": {},
     "outputs": []
    }
   ],
   "metadata": {}
  }
 ]
}