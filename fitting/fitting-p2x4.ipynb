{
 "metadata": {
  "kernelspec": {
   "display_name": "Python 2",
   "language": "python",
   "name": "python2"
  },
  "language_info": {
   "codemirror_mode": {
    "name": "ipython",
    "version": 2
   },
   "file_extension": ".py",
   "mimetype": "text/x-python",
   "name": "python",
   "nbconvert_exporter": "python",
   "pygments_lexer": "ipython2",
   "version": "2.7.5"
  },
  "name": "",
  "signature": "sha256:31a76f7786de857a1c663382d0a18fa449792d62ff6f8a5b206d694e8d0adecc"
 },
 "nbformat": 3,
 "nbformat_minor": 0,
 "worksheets": [
  {
   "cells": [
    {
     "cell_type": "markdown",
     "metadata": {},
     "source": [
      "### Genetic alg fitting.\n",
      "This notebook is used for fitting currents, etc via the genetic algorithm "
     ]
    },
    {
     "cell_type": "markdown",
     "metadata": {},
     "source": [
      "<code>\n",
      "source ../configgotran.bash \n",
      "</code>"
     ]
    },
    {
     "cell_type": "code",
     "collapsed": false,
     "input": [
      "%matplotlib inline\n",
      "%load_ext autoreload\n",
      "%autoreload 2"
     ],
     "language": "python",
     "metadata": {},
     "outputs": [],
     "prompt_number": 1
    },
    {
     "cell_type": "code",
     "collapsed": false,
     "input": [
      "import matplotlib.pylab as plt \n",
      "# routlines for analyzing odes\n",
      "import analyzeGotran as ao"
     ],
     "language": "python",
     "metadata": {},
     "outputs": [],
     "prompt_number": 2
    },
    {
     "cell_type": "markdown",
     "metadata": {},
     "source": [
      "#### Simple run (no fitting)\n",
      "Here we perform a quick simulation to examine the default behavior of the code.\n",
      "Run the following: \n",
      "<code> \n",
      "$export ODEFILEfitted=microgliav48.ode\n",
      "$ python2.7 daisychain.py -dt 0.1 -dSr 1000 -jit -odeName $ODEFILEfitted -T 20e3 -iters 1 -var V_ptxs -0.06 -var stim_amplitude 100 -var stim_period 60e3 -var stim_gap1 50e3 -var        stim_gap2 50e3 -var stim_low 1e3 -var stim_high 10e3 -name test\n",
      "</code>\n",
      "This will spit out a file called test_cat.pickle"
     ]
    },
    {
     "cell_type": "code",
     "collapsed": false,
     "input": [
      "data = ao.readPickle(\"test_cat.pickle\")\n",
      "keys = [\"Q1_ptxf\", \"Q2_ptxf\",\"D3_ptxf\",\"D4_ptxf\" ]#,\"D3_ptxf \",\"D4_ptxf \"]\n",
      "fig,ax1=  plt.subplots(1)\n",
      "\n",
      "for key in keys:\n",
      "    \n",
      "    stateLabel = key#  + Q2_ptxf\"\n",
      "    subData = ao.GetData(data,stateLabel)\n",
      "    # data is stored as\n",
      "    # subData.t - time\n",
      "    # subData.valsIdx - values of 'stateLabel' state\n",
      "    ax1.plot(subData.t,subData.valsIdx, label=key)\n",
      "\n",
      "stateLabel = \"I_f\"\n",
      "subData = ao.GetData(data,stateLabel)\n",
      "ax2 = plt.twinx(ax1)\n",
      "ax2.plot(subData.t,-1*subData.valsIdx, \"k--\")\n",
      "ax2.set_ylabel(\"P2X current\")\n",
      "ax1.legend()\n",
      "plt.gcf().savefig(\"x.png\")\n"
     ],
     "language": "python",
     "metadata": {},
     "outputs": [
      {
       "output_type": "stream",
       "stream": "stdout",
       "text": [
        "Reading test_cat.pickle\n"
       ]
      },
      {
       "metadata": {},
       "output_type": "display_data",
       "png": "[encoded data removed]",
       "text": [
        "<matplotlib.figure.Figure at 0x2e2ec90>"
       ]
      }
     ],
     "prompt_number": 3
    },
    {
     "cell_type": "markdown",
     "metadata": {},
     "source": [
      "#### Fitting the current to a single value (like a maximum current) \n",
      "For this first example, we'll assume we know that the peak current should be 6 pA \n",
      "<code>\n",
      "$python fittingAlgorithm.py -odeModel microgliav48.ode -fixedvars P2X4FitVar.yaml -myVariedParam k1_ptxf -variedParamTruthVal 1e-4 -timeStart 0e3 -jobDuration 20e3 -numRandomDraws 2  -numIters 2 -sigmaScaleRate 0.15 -outputParamName I -outputParamSearcher I_ptxf -outputParamMethod min -outputParamTruthVal -6e-9      -debug\n",
      "</code>\n",
      "\n",
      "- fixedVars YAML contains a set of parameter values that are supplied to the .ode file, but are NOT randomized. I use this to set the ATP profile characteristics, for instance\n",
      "- myVariedParam NAME defines the parameter I want to vary\n",
      "- variedParamTruthVal FLOAT defines the params starting value\n",
      "- timeStart FLOAT discards data before this timepoint\n",
      "- numRandomDraws INT  number of random draws per iteration (< #procs)\n",
      "- numIters INT number of iterations of search\n",
      "- sigmaScaleRate FLOAT controls rate at which 'range' of random variates decreases, as you hone in on a solution\n",
      "- outputParamSearcher ODESTATENAME provides the name of the output in the .ode file you want to analyze\n",
      "- outputParamMethod MIN/MAX/MEAN provides which quantity you want to compute from your output\n",
      "- outputParamTruthVal FLOAT value that you want to obtain \n",
      "\n",
      "If run from command line, you'll get an output like this:\n",
      "<code>\n",
      "           G12_ptxf            I   jobID jobNum       fitness\n",
      "0_3483  2.22064e-13 -4.86972e-09  0_3483      0  1.130285e-09\n",
      "1_3484  2.89325e-13  -6.3447e-09  1_3484      1  3.447005e-10\n",
      "jobFitnesses:  [  1.13028482e-09   3.44700454e-10]\n",
      "jobIndex:  1\n",
      "bestVarDict:  {'G12_ptxf': 2.8932524582876968e-13}\n",
      "iter 2  out of 2\n",
      "</code>\n",
      "\n",
      "In this case, the best value found so far is 2.89e-13 (higher in amplitude than what we started with, which makes sense since our current in pA was originally 5 and we wanted 6)\n"
     ]
    },
    {
     "cell_type": "markdown",
     "metadata": {},
     "source": [
      "#### 'Scalar' fitting within the notebook\n",
      "Below we'll do this in the notebook, which makes life a bit simpler "
     ]
    },
    {
     "cell_type": "code",
     "collapsed": false,
     "input": [
      "#python fittingAlgorithm.py \n",
      "import fittingAlgorithm as ga"
     ],
     "language": "python",
     "metadata": {},
     "outputs": [
      {
       "output_type": "stream",
       "stream": "stdout",
       "text": [
        "WARNING: ode idx is hardcoded\n"
       ]
      }
     ],
     "prompt_number": 3
    },
    {
     "cell_type": "markdown",
     "metadata": {},
     "source": [
      "Here we run everything. The best fit parameter is contained in results\n",
      "results['bestFitParam']"
     ]
    },
    {
     "cell_type": "code",
     "collapsed": false,
     "input": [
      "testState = \"I_f\"\n",
      "results = ga.run(\n",
      "    odeModel = \"microgliav53.ode\",\n",
      "    yamlVarFile = \"P2X4FitVar.yaml\" ,\n",
      "    myVariedParam = \"G12_ptxf\",\n",
      "    variedParamTruthVal = 2.12e-13  ,\n",
      "    timeStart = 1.5e3,\n",
      "    jobDuration = 30e3,\n",
      "    numRandomDraws = 2,\n",
      "    numIters = 1,\n",
      "    sigmaScaleRate = 0.15,\n",
      "    outputParamName = \"I\",\n",
      "    outputParamSearcher = testState,\n",
      "    outputParamMethod = \"min\",\n",
      "    outputParamTruthVal=-12.2e-9,\n",
      "    debug = True\n",
      ")"
     ],
     "language": "python",
     "metadata": {},
     "outputs": [
      {
       "output_type": "stream",
       "stream": "stdout",
       "text": [
        "\n",
        "WARNING: In debug mode.\n",
        "Fixing random seed\n",
        "\n",
        "timeRange:  [1.5, 30.0]\n",
        "WHY is this wrapper needde\n",
        "iter 1  out of 1\n",
        "Inputs:  G12_ptxf 2.12e-13\n",
        "Using 2 cores for 2 jobs\n",
        "Should probably rescale sigma by the tolerated error vs current error\n",
        "Multi-threading\n"
       ]
      },
      {
       "output_type": "stream",
       "stream": "stdout",
       "text": [
        "result:  -1.38107609793e-08 truthValue:  -1.22e-08\n",
        "result:  -1.56224593153e-08 truthValue:  -1.22e-08\n",
        "myDataFrame: \n",
        "            G12_ptxf            I    jobID jobNum       fitness\n",
        "0_20110  2.44604e-13 -1.38108e-08  0_20110      0  1.610761e-09\n",
        "1_20111  2.76692e-13 -1.56225e-08  1_20111      1  3.422459e-09\n",
        "jobFitnesses:  [  1.61076098e-09   3.42245932e-09]\n",
        "jobIndex:  0\n",
        "previousDraw:  1.61076097926e-09\n",
        "bestVarDict:  {'G12_ptxf': 2.4460436524359444e-13}\n",
        "iter 1  out of 1\n",
        "\n",
        "######\n",
        "\n",
        "Best fit parameters {'G12_ptxf': 2.4460436524359444e-13}\n",
        "Leaving!!\n",
        "Running demo with new parameters for comparison against truth\n",
        "Worker bee 19147, Job 0 \n",
        "Running with these varied parameters:\n",
        "   G12_ptxf 2.44604365244e-13\n",
        "Loaded ODE model 'microgliav53' with:\n",
        "Worker bee 20111, Job 1 \n",
        "Worker bee 20110, Job 0 \n",
        "Loaded ODE model 'microgliav53' with:\n",
        "Loaded ODE model 'microgliav53' with:\n",
        "     Num full states: 42\n",
        "     Num full states: 42\n",
        "      Num parameters: 126\n",
        "      Num parameters: 126\n"
       ]
      },
      {
       "output_type": "stream",
       "stream": "stderr",
       "text": [
        "INFO:ModelParameters:Loaded ODE model 'microgliav53' with:\n",
        "INFO:ModelParameters:Loaded ODE model 'microgliav53' with:\n",
        "INFO:ModelParameters:Loaded ODE model 'microgliav53' with:\n",
        "INFO:ModelParameters:     Num full states: 42\n",
        "INFO:ModelParameters:     Num full states: 42\n",
        "INFO:ModelParameters:      Num parameters: 126\n",
        "INFO:ModelParameters:      Num parameters: 126\n"
       ]
      },
      {
       "output_type": "stream",
       "stream": "stdout",
       "text": [
        "     Num full states: 42\n"
       ]
      },
      {
       "output_type": "stream",
       "stream": "stderr",
       "text": [
        "INFO:ModelParameters:     Num full states: 42\n"
       ]
      },
      {
       "output_type": "stream",
       "stream": "stdout",
       "text": [
        "      Num parameters: 126\n"
       ]
      },
      {
       "output_type": "stream",
       "stream": "stderr",
       "text": [
        "INFO:ModelParameters:      Num parameters: 126\n"
       ]
      },
      {
       "metadata": {},
       "output_type": "display_data",
       "png": "[encoded data removed]",
       "text": [
        "<matplotlib.figure.Figure at 0x7f1aadf71050>"
       ]
      }
     ],
     "prompt_number": 4
    },
    {
     "cell_type": "markdown",
     "metadata": {},
     "source": [
      "### Fitting a time-dependent profile (vector) \n",
      "A more complicated example in which a time-dependent profile is compared.\n",
      "Below we first load the reference data \n",
      "\n",
      "<font color=red>\n",
      "WARNING: I'm rescaling the Toulme data by a factor of 30, since their transgenic model behaves as if it is activated and we'd like values more apporpriate for resting glia. The 1e-9 factor is for converting into C/s \n",
      "</font>\n"
     ]
    },
    {
     "cell_type": "code",
     "collapsed": false,
     "input": [
      "import numpy as np\n",
      "scale = 1/30. * 1e-9\n",
      "expdata = np.loadtxt(\"../validation/Toulme2012_Fig6c.csv\",skiprows=4, delimiter=\",\")\n",
      "expdata[:,1]*=scale\n",
      "plt.plot(expdata[:,0],expdata[:,1])"
     ],
     "language": "python",
     "metadata": {},
     "outputs": [
      {
       "metadata": {},
       "output_type": "pyout",
       "prompt_number": 5,
       "text": [
        "[<matplotlib.lines.Line2D at 0x7f1aada258d0>]"
       ]
      },
      {
       "metadata": {},
       "output_type": "display_data",
       "png": "[encoded data removed]",
       "text": [
        "<matplotlib.figure.Figure at 0x7f1aadd01150>"
       ]
      }
     ],
     "prompt_number": 5
    },
    {
     "cell_type": "markdown",
     "metadata": {},
     "source": [
      "We chose an offset to account for any difference between the exp. data and when the channel fires in our data. This took some playing around. Easiest to debug this when looking at the best fit graph at the end of the calculation. Also, I interpolated the experimental over about 10 s. Need to also play around with interpolation points too so they fairly approximate the complete data "
     ]
    },
    {
     "cell_type": "code",
     "collapsed": false,
     "input": [
      "\n",
      "expInterpTs = np.linspace(0.3,30,4)  # point at t=0 was pretty bad\n",
      "expInterpVals = np.interp(expInterpTs,expdata[:,0],expdata[:,1])\n",
      "plt.plot(expdata[:,0],expdata[:,1])\n",
      "plt.scatter(expInterpTs,expInterpVals)\n",
      "\n",
      "\n",
      "# here I apply the offset to align with the model predictions\n",
      "# also the exptl data is in seconds \n",
      "expInterpTs*= 1e3\n",
      "offset = 1.55e3 # ms\n",
      "expInterpTs+= offset"
     ],
     "language": "python",
     "metadata": {},
     "outputs": [
      {
       "metadata": {},
       "output_type": "display_data",
       "png": "[encoded data removed]",
       "text": [
        "<matplotlib.figure.Figure at 0x7f1aada66090>"
       ]
      }
     ],
     "prompt_number": 6
    },
    {
     "cell_type": "code",
     "collapsed": false,
     "input": [
      "print offset\n",
      "print expInterpTs\n",
      "print expInterpVals"
     ],
     "language": "python",
     "metadata": {},
     "outputs": [
      {
       "output_type": "stream",
       "stream": "stdout",
       "text": [
        "1550.0\n",
        "[  1850.  11750.  21650.  31550.]\n",
        "[ -1.20281992e-08  -3.06823529e-09  -1.19745988e-09  -2.74093722e-10]\n"
       ]
      }
     ],
     "prompt_number": 7
    },
    {
     "cell_type": "code",
     "collapsed": false,
     "input": [
      "testState = \"I_f\"\n",
      "\n",
      "results = ga.run(\n",
      "    odeModel = \"microgliav48.ode\",\n",
      "    yamlVarFile = \"P2X4FitVar.yaml\" ,\n",
      "    myVariedParam = \"H2_ptxf\",\n",
      "    variedParamTruthVal = 0.00026  , # was 2.22e-13 in code, but bumping it up a bit\n",
      "    timeStart = offset,\n",
      "    jobDuration = 35e3,\n",
      "    numRandomDraws = 2,\n",
      "    numIters = 4,\n",
      "    sigmaScaleRate = 0.15,\n",
      "    outputParamName = \"I\",\n",
      "    outputParamSearcher = testState,\n",
      "    outputParamMethod = \"val_vs_time\",\n",
      "    outputParamTruthTimes=expInterpTs,\n",
      "    outputParamTruthVal=expInterpVals,\n",
      "    debug = True\n",
      ")"
     ],
     "language": "python",
     "metadata": {
      "scrolled": false
     },
     "outputs": [
      {
       "output_type": "stream",
       "stream": "stdout",
       "text": [
        "\n",
        "WARNING: In debug mode.\n",
        "Fixing random seed\n",
        "\n",
        "timeRange:  [1.55, 35.0]\n",
        "WHY is this wrapper needde\n",
        "iter 1  out of 4\n",
        "Inputs:  H2_ptxf 0.00026\n",
        "Using 2 cores for 2 jobs\n",
        "Should probably rescale sigma by the tolerated error vs current error\n",
        "Multi-threading\n"
       ]
      },
      {
       "output_type": "stream",
       "stream": "stdout",
       "text": [
        "result:  [ -1.14250242e-08  -2.56446311e-09  -1.51222409e-09  -1.24371687e-09] truthValue:  [ -1.20281992e-08  -3.06823529e-09  -1.19745988e-09  -2.74093722e-10]\n",
        "result:  [ -1.13925931e-08  -2.54739146e-09  -1.50462251e-09  -1.23868636e-09] truthValue:  [ -1.20281992e-08  -3.06823529e-09  -1.19745988e-09  -2.74093722e-10]\n",
        "myDataFrame: \n",
        "             H2_ptxf                                                  I  \\\n",
        "0_20133  0.000299986  [-1.14250241964e-08, -2.56446311313e-09, -1.51...   \n",
        "1_20134  0.000339339  [-1.13925931274e-08, -2.54739146489e-09, -1.50...   \n",
        "\n",
        "           jobID jobNum       fitness  \n",
        "0_20133  0_20133      0  1.287188e-09  \n",
        "1_20134  1_20134      1  1.303864e-09  \n",
        "jobFitnesses:  [  1.28718767e-09   1.30386397e-09]\n",
        "jobIndex:  0\n",
        "previousDraw:  1.28718766659e-09\n",
        "bestVarDict:  {'H2_ptxf': 0.00029998648567610634}\n",
        "iter 1  out of 4\n",
        "\n",
        "######\n",
        "\n",
        "iter 2  out of 4\n",
        "Inputs:  H2_ptxf 0.000299986485676\n",
        "Using 2 cores for 2 jobs\n",
        "Should probably rescale sigma by the tolerated error vs current error\n",
        "Multi-threading\n",
        "Worker bee 20133, Job 0 \n",
        "Worker bee 20134, Job 1 \n",
        "Loaded ODE model 'microgliav48' with:\n",
        "Loaded ODE model 'microgliav48' with:\n",
        "     Num full states: 42\n",
        "     Num full states: 42\n",
        "      Num parameters: 129\n",
        "      Num parameters: 129\n"
       ]
      },
      {
       "output_type": "stream",
       "stream": "stderr",
       "text": [
        "INFO:ModelParameters:Loaded ODE model 'microgliav48' with:\n",
        "INFO:ModelParameters:Loaded ODE model 'microgliav48' with:\n",
        "INFO:ModelParameters:     Num full states: 42\n",
        "INFO:ModelParameters:     Num full states: 42\n",
        "INFO:ModelParameters:      Num parameters: 129\n",
        "INFO:ModelParameters:      Num parameters: 129\n"
       ]
      },
      {
       "output_type": "stream",
       "stream": "stdout",
       "text": [
        "result:  [ -1.14830434e-08  -2.59527192e-09  -1.52596654e-09  -1.25278577e-09] truthValue:  [ -1.20281992e-08  -3.06823529e-09  -1.19745988e-09  -2.74093722e-10]\n",
        "result:  [ -1.14253813e-08  -2.56465182e-09  -1.51230829e-09  -1.24377262e-09] truthValue:  [ -1.20281992e-08  -3.06823529e-09  -1.19745988e-09  -2.74093722e-10]\n",
        "myDataFrame: \n",
        "             H2_ptxf                                                  I  \\\n",
        "0_20154  0.000229915  [-1.14830434054e-08, -2.59527191634e-09, -1.52...   \n",
        "1_20155  0.000299554  [-1.14253813266e-08, -2.56465181753e-09, -1.51...   \n",
        "\n",
        "           jobID jobNum       fitness  \n",
        "0_20154  0_20154      0  1.259621e-09  \n",
        "1_20155  1_20155      1  1.287009e-09  \n",
        "jobFitnesses:  [  1.25962057e-09   1.28700911e-09]\n",
        "jobIndex:  0\n",
        "bestVarDict:  {'H2_ptxf': 0.00022991501813052342}\n",
        "iter 2  out of 4\n",
        "\n",
        "######\n",
        "\n",
        "iter 3  out of 4\n",
        "Inputs:  H2_ptxf 0.000229915018131\n",
        "Using 2 cores for 2 jobs\n",
        "Should probably rescale sigma by the tolerated error vs current error\n",
        "Multi-threading\n",
        "Worker bee 20154, Job 0 \n",
        "Worker bee 20155, Job 1 \n",
        "Loaded ODE model 'microgliav48' with:\n",
        "Loaded ODE model 'microgliav48' with:\n",
        "     Num full states: 42\n",
        "     Num full states: 42\n",
        "      Num parameters: 129\n",
        "      Num parameters: 129\n"
       ]
      },
      {
       "output_type": "stream",
       "stream": "stderr",
       "text": [
        "INFO:ModelParameters:Loaded ODE model 'microgliav48' with:\n",
        "INFO:ModelParameters:Loaded ODE model 'microgliav48' with:\n",
        "INFO:ModelParameters:     Num full states: 42\n",
        "INFO:ModelParameters:     Num full states: 42\n",
        "INFO:ModelParameters:      Num parameters: 129\n",
        "INFO:ModelParameters:      Num parameters: 129\n"
       ]
      },
      {
       "output_type": "stream",
       "stream": "stdout",
       "text": [
        "result:  [ -1.15023854e-08  -2.60561875e-09  -1.53058915e-09  -1.25582984e-09] truthValue:  [ -1.20281992e-08  -3.06823529e-09  -1.19745988e-09  -2.74093722e-10]\n",
        "result:  [ -1.14646483e-08  -2.58546642e-09  -1.52158941e-09  -1.24990138e-09] truthValue:  [ -1.20281992e-08  -3.06823529e-09  -1.19745988e-09  -2.74093722e-10]\n",
        "myDataFrame: \n",
        "             H2_ptxf                                                  I  \\\n",
        "0_20174  0.000206648  [-1.15023854315e-08, -2.60561875018e-09, -1.53...   \n",
        "1_20173  0.000252086  [-1.14646482999e-08, -2.58546642118e-09, -1.52...   \n",
        "\n",
        "           jobID jobNum       fitness  \n",
        "0_20174  0_20174      0  1.251110e-09  \n",
        "1_20173  1_20173      1  1.268036e-09  \n",
        "jobFitnesses:  [  1.25110956e-09   1.26803627e-09]\n",
        "jobIndex:  0\n",
        "bestVarDict:  {'H2_ptxf': 0.00020664849405052199}\n",
        "iter 3  out of 4\n",
        "\n",
        "######\n",
        "\n",
        "iter 4  out of 4\n",
        "Inputs:  H2_ptxf 0.000206648494051\n",
        "Using 2 cores for 2 jobs\n",
        "Should probably rescale sigma by the tolerated error vs current error\n",
        "Multi-threading\n",
        "Worker bee 20174, Job 0 \n",
        "Worker bee 20173, Job 1 \n",
        "Loaded ODE model 'microgliav48' with:\n",
        "Loaded ODE model 'microgliav48' with:\n",
        "     Num full states: 42\n",
        "     Num full states: 42\n",
        "      Num parameters: 129\n",
        "      Num parameters: 129\n"
       ]
      },
      {
       "output_type": "stream",
       "stream": "stderr",
       "text": [
        "INFO:ModelParameters:Loaded ODE model 'microgliav48' with:\n",
        "INFO:ModelParameters:Loaded ODE model 'microgliav48' with:\n",
        "INFO:ModelParameters:     Num full states: 42\n",
        "INFO:ModelParameters:     Num full states: 42\n",
        "INFO:ModelParameters:      Num parameters: 129\n",
        "INFO:ModelParameters:      Num parameters: 129\n"
       ]
      },
      {
       "output_type": "stream",
       "stream": "stdout",
       "text": [
        "result:  [ -1.14999887e-08  -2.60433459e-09  -1.53001485e-09  -1.25545253e-09] truthValue:  [ -1.20281992e-08  -3.06823529e-09  -1.19745988e-09  -2.74093722e-10]\n",
        "result:  [ -1.14964649e-08  -2.60244749e-09  -1.52917204e-09  -1.25489702e-09] truthValue:  [ -1.20281992e-08  -3.06823529e-09  -1.19745988e-09  -2.74093722e-10]\n",
        "myDataFrame: \n",
        "             H2_ptxf                                                  I  \\\n",
        "0_20194  0.000209529  [-1.1499988726e-08, -2.60433459087e-09, -1.530...   \n",
        "1_20195  0.000213765  [-1.14964649417e-08, -2.60244748556e-09, -1.52...   \n",
        "\n",
        "           jobID jobNum       fitness  \n",
        "0_20194  0_20194      0  1.252145e-09  \n",
        "1_20195  1_20195      1  1.253678e-09  \n",
        "jobFitnesses:  [  1.25214541e-09   1.25367767e-09]\n",
        "jobIndex:  0\n",
        "bestVarDict:  {'H2_ptxf': 0.00020952896187628484}\n",
        "iter 4  out of 4\n",
        "\n",
        "######\n",
        "\n",
        "Best fit parameters {'H2_ptxf': 0.00020952896187628484}\n",
        "Leaving!!\n",
        "Running demo with new parameters for comparison against truth\n",
        "Worker bee 19147, Job 0 \n",
        "Running with these varied parameters:\n",
        "   H2_ptxf 0.000209528961876\n",
        "Loaded ODE model 'microgliav48' with:\n",
        "Worker bee 20194, Job 0 \n",
        "Worker bee 20195, Job 1 \n",
        "Loaded ODE model 'microgliav48' with:\n",
        "Loaded ODE model 'microgliav48' with:\n",
        "     Num full states: 42\n",
        "     Num full states: 42\n",
        "      Num parameters: 129\n",
        "      Num parameters: 129\n"
       ]
      },
      {
       "output_type": "stream",
       "stream": "stderr",
       "text": [
        "INFO:ModelParameters:Loaded ODE model 'microgliav48' with:\n",
        "INFO:ModelParameters:Loaded ODE model 'microgliav48' with:\n",
        "INFO:ModelParameters:Loaded ODE model 'microgliav48' with:\n",
        "INFO:ModelParameters:     Num full states: 42\n",
        "INFO:ModelParameters:     Num full states: 42\n",
        "INFO:ModelParameters:      Num parameters: 129\n",
        "INFO:ModelParameters:      Num parameters: 129\n"
       ]
      },
      {
       "output_type": "stream",
       "stream": "stdout",
       "text": [
        "     Num full states: 42\n"
       ]
      },
      {
       "output_type": "stream",
       "stream": "stderr",
       "text": [
        "INFO:ModelParameters:     Num full states: 42\n"
       ]
      },
      {
       "output_type": "stream",
       "stream": "stdout",
       "text": [
        "      Num parameters: 129\n"
       ]
      },
      {
       "output_type": "stream",
       "stream": "stderr",
       "text": [
        "INFO:ModelParameters:      Num parameters: 129\n"
       ]
      },
      {
       "metadata": {},
       "output_type": "display_data",
       "png": "[encoded data removed]",
       "text": [
        "<matplotlib.figure.Figure at 0x7f1aada25790>"
       ]
      }
     ],
     "prompt_number": 8
    },
    {
     "cell_type": "markdown",
     "metadata": {},
     "source": [
      "Should you wish to compare the results on your own, you can run the following. \n",
      "The code saves a figure like this automatically though"
     ]
    },
    {
     "cell_type": "code",
     "collapsed": false,
     "input": [
      "#print results['outputList']['I'].timeInterpolations\n",
      "data = results['data']\n",
      "#data = aG.readPickle(\"test_cat.pickle\")\n",
      "stateLabel = \"I_ptxf\"\n",
      "subData = aG.GetData(data,stateLabel)\n",
      "i=0\n",
      "ts = subData.t[i:]\n",
      "vals = subData.valsIdx[i:]\n",
      "print np.shape(subData.valsIdx)\n",
      "\n",
      "#normedPred = vals/np.min(vals)\n",
      "plt.plot(ts,vals,label=\"pred\")\n",
      "\n",
      "plt.scatter(expInterpTs, expInterpVals)\n"
     ],
     "language": "python",
     "metadata": {},
     "outputs": [
      {
       "output_type": "stream",
       "stream": "stdout",
       "text": [
        "(200001,)\n"
       ]
      },
      {
       "metadata": {},
       "output_type": "pyout",
       "prompt_number": 10,
       "text": [
        "<matplotlib.collections.PathCollection at 0x7f07002a4210>"
       ]
      },
      {
       "metadata": {},
       "output_type": "display_data",
       "png": "[encoded data removed]",
       "text": [
        "<matplotlib.figure.Figure at 0x7f07003a91d0>"
       ]
      }
     ],
     "prompt_number": 10
    }
   ],
   "metadata": {}
  }
 ]
}