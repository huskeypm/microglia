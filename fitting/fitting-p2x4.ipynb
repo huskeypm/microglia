{
 "metadata": {
  "kernelspec": {
   "display_name": "Python 2",
   "language": "python",
   "name": "python2"
  },
  "language_info": {
   "codemirror_mode": {
    "name": "ipython",
    "version": 2
   },
   "file_extension": ".py",
   "mimetype": "text/x-python",
   "name": "python",
   "nbconvert_exporter": "python",
   "pygments_lexer": "ipython2",
   "version": "2.7.5"
  },
  "name": "",
  "signature": "sha256:c89ce64ba9fab8dd7b357e1d6ec9d557a8517777a6d70c830aa67bd9596d720f"
 },
 "nbformat": 3,
 "nbformat_minor": 0,
 "worksheets": [
  {
   "cells": [
    {
     "cell_type": "markdown",
     "metadata": {},
     "source": [
      "### Genetic alg fitting.\n",
      "This notebook is used for fitting currents, etc via the genetic algorithm "
     ]
    },
    {
     "cell_type": "markdown",
     "metadata": {},
     "source": [
      "<code>\n",
      "source ../configgotran.bash \n",
      "</code>"
     ]
    },
    {
     "cell_type": "code",
     "collapsed": false,
     "input": [
      "%matplotlib inline\n",
      "%load_ext autoreload\n",
      "%autoreload 2"
     ],
     "language": "python",
     "metadata": {},
     "outputs": [],
     "prompt_number": 1
    },
    {
     "cell_type": "code",
     "collapsed": false,
     "input": [
      "import matplotlib.pylab as plt \n",
      "# routlines for analyzing odes\n",
      "import analyzeGotran as ao"
     ],
     "language": "python",
     "metadata": {},
     "outputs": [],
     "prompt_number": 2
    },
    {
     "cell_type": "markdown",
     "metadata": {},
     "source": [
      "#### Simple run (no fitting)\n",
      "Here we perform a quick simulation to examine the default behavior of the code.\n",
      "Run the following: \n",
      "<code> \n",
      "$export ODEFILEfitted=microgliav48.ode\n",
      "$ python2.7 daisychain.py -dt 0.1 -dSr 1000 -jit -odeName $ODEFILEfitted -T 20e3 -iters 1 -var V_ptxs -0.06 -var stim_amplitude 100 -var stim_period 60e3 -var stim_gap1 50e3 -var        stim_gap2 50e3 -var stim_low 1e3 -var stim_high 10e3 -name test\n",
      "</code>\n",
      "This will spit out a file called test_cat.pickle"
     ]
    },
    {
     "cell_type": "code",
     "collapsed": false,
     "input": [
      "data = ao.readPickle(\"test_cat.pickle\")\n",
      "keys = [\"Q1_ptxf\", \"Q2_ptxf\",\"D3_ptxf\",\"D4_ptxf\" ]#,\"D3_ptxf \",\"D4_ptxf \"]\n",
      "fig,ax1=  plt.subplots(1)\n",
      "\n",
      "for key in keys:\n",
      "    \n",
      "    stateLabel = key#  + Q2_ptxf\"\n",
      "    subData = ao.GetData(data,stateLabel)\n",
      "    # data is stored as\n",
      "    # subData.t - time\n",
      "    # subData.valsIdx - values of 'stateLabel' state\n",
      "    ax1.plot(subData.t,subData.valsIdx, label=key)\n",
      "\n",
      "stateLabel = \"I_f\"\n",
      "subData = ao.GetData(data,stateLabel)\n",
      "ax2 = plt.twinx(ax1)\n",
      "ax2.plot(subData.t,-1*subData.valsIdx, \"k--\")\n",
      "ax2.set_ylabel(\"P2X current\")\n",
      "ax1.legend()\n",
      "plt.gcf().savefig(\"x.png\")\n"
     ],
     "language": "python",
     "metadata": {},
     "outputs": [
      {
       "output_type": "stream",
       "stream": "stdout",
       "text": [
        "Reading test_cat.pickle\n"
       ]
      },
      {
       "metadata": {},
       "output_type": "display_data",
       "png": "[encoded data removed]",
       "text": [
        "<matplotlib.figure.Figure at 0x7eff72b99050>"
       ]
      }
     ],
     "prompt_number": 11
    },
    {
     "cell_type": "markdown",
     "metadata": {},
     "source": [
      "#### Fitting the current to a single value (like a maximum current) \n",
      "For this first example, we'll assume we know that the peak current should be 6 pA \n",
      "<code>\n",
      "$python fittingAlgorithm.py -odeModel microgliav48.ode -fixedvars P2X4FitVar.yaml -myVariedParam k1_ptxf -variedParamTruthVal 1e-4 -timeStart 0e3 -jobDuration 20e3 -numRandomDraws 2  -numIters 2 -sigmaScaleRate 0.15 -outputParamName I -outputParamSearcher I_ptxf -outputParamMethod min -outputParamTruthVal -6e-9      -debug\n",
      "</code>\n",
      "\n",
      "- fixedVars YAML contains a set of parameter values that are supplied to the .ode file, but are NOT randomized. I use this to set the ATP profile characteristics, for instance\n",
      "- myVariedParam NAME defines the parameter I want to vary\n",
      "- variedParamTruthVal FLOAT defines the params starting value\n",
      "- timeStart FLOAT discards data before this timepoint\n",
      "- numRandomDraws INT  number of random draws per iteration (< #procs)\n",
      "- numIters INT number of iterations of search\n",
      "- sigmaScaleRate FLOAT controls rate at which 'range' of random variates decreases, as you hone in on a solution\n",
      "- outputParamSearcher ODESTATENAME provides the name of the output in the .ode file you want to analyze\n",
      "- outputParamMethod MIN/MAX/MEAN provides which quantity you want to compute from your output\n",
      "- outputParamTruthVal FLOAT value that you want to obtain \n",
      "\n",
      "If run from command line, you'll get an output like this:\n",
      "<code>\n",
      "           G12_ptxf            I   jobID jobNum       fitness\n",
      "0_3483  2.22064e-13 -4.86972e-09  0_3483      0  1.130285e-09\n",
      "1_3484  2.89325e-13  -6.3447e-09  1_3484      1  3.447005e-10\n",
      "jobFitnesses:  [  1.13028482e-09   3.44700454e-10]\n",
      "jobIndex:  1\n",
      "bestVarDict:  {'G12_ptxf': 2.8932524582876968e-13}\n",
      "iter 2  out of 2\n",
      "</code>\n",
      "\n",
      "In this case, the best value found so far is 2.89e-13 (higher in amplitude than what we started with, which makes sense since our current in pA was originally 5 and we wanted 6)\n"
     ]
    },
    {
     "cell_type": "markdown",
     "metadata": {},
     "source": [
      "#### 'Scalar' fitting within the notebook\n",
      "Below we'll do this in the notebook, which makes life a bit simpler "
     ]
    },
    {
     "cell_type": "code",
     "collapsed": false,
     "input": [
      "#python fittingAlgorithm.py \n",
      "import fittingAlgorithm as ga"
     ],
     "language": "python",
     "metadata": {},
     "outputs": [],
     "prompt_number": 22
    },
    {
     "cell_type": "markdown",
     "metadata": {},
     "source": [
      "Here we run everything. The best fit parameter is contained in results\n",
      "results['bestFitParam']"
     ]
    },
    {
     "cell_type": "code",
     "collapsed": false,
     "input": [
      "testState = \"I_f\"\n",
      "results = ga.run(\n",
      "    odeModel = \"microgliav48.ode\",\n",
      "    yamlVarFile = \"P2X4FitVar.yaml\" ,\n",
      "    myVariedParam = \"G12_ptxf\",\n",
      "    variedParamTruthVal = 2.22e-13  ,\n",
      "    timeStart = 1.5e3,\n",
      "    jobDuration = 30e3,\n",
      "    numRandomDraws = 2,\n",
      "    numIters = 1,\n",
      "    sigmaScaleRate = 0.15,\n",
      "    outputParamName = \"I\",\n",
      "    outputParamSearcher = testState,\n",
      "    outputParamMethod = \"min\",\n",
      "    outputParamTruthVal=-12.2e-9,\n",
      "    debug = True\n",
      ")"
     ],
     "language": "python",
     "metadata": {},
     "outputs": [
      {
       "output_type": "stream",
       "stream": "stdout",
       "text": [
        "\n",
        "WARNING: In debug mode. \n",
        "Fixing random seed\n",
        "\n",
        "timeRange:  [1.5, 30.0]\n",
        "iter 1  out of 1\n",
        "parmDict:  {'G12_ptxf': [2.22e-13, 0.2]}\n",
        "Inputs:  G12_ptxf 2.22e-13\n",
        "Using 2 cores for 2 jobs\n",
        "Should probably rescale sigma by the tolerated error vs current error\n",
        "Multi-threading\n"
       ]
      },
      {
       "output_type": "stream",
       "stream": "stdout",
       "text": [
        "result:  -1.46531008149e-08 truthValue:  -1.22e-08\n",
        "result:  -1.65752974273e-08 truthValue:  -1.22e-08\n",
        "myDataFrame: \n",
        "            G12_ptxf            I    jobID jobNum       fitness\n",
        "0_29925  2.56142e-13 -1.46531e-08  0_29925      0  2.453101e-09\n",
        "1_29926  2.89743e-13 -1.65753e-08  1_29926      1  4.375297e-09\n",
        "jobFitnesses:  [  2.45310081e-09   4.37529743e-09]\n",
        "jobIndex:  0\n",
        "previousDraw:  2.45310081489e-09\n",
        "bestVarDict:  {'G12_ptxf': 2.5614230700036775e-13}\n",
        "iter 1  out of 1\n",
        "\n",
        "######\n",
        "\n",
        "Best fit parameter 2.56142307e-13\n",
        "Leaving!!\n",
        "Worker bee 27709, Job 0 \n",
        "Loaded ODE model 'microgliav48' with:\n",
        "Worker bee 29925, Job 0 \n",
        "Worker bee 29926, Job 1 \n",
        "Loaded ODE model 'microgliav48' with:\n",
        "Loaded ODE model 'microgliav48' with:\n",
        "     Num full states: 42\n",
        "     Num full states: 42\n",
        "      Num parameters: 129\n",
        "      Num parameters: 129\n"
       ]
      },
      {
       "output_type": "stream",
       "stream": "stderr",
       "text": [
        "INFO:ModelParameters:Loaded ODE model 'microgliav48' with:\n",
        "INFO:ModelParameters:Loaded ODE model 'microgliav48' with:\n",
        "INFO:ModelParameters:Loaded ODE model 'microgliav48' with:\n",
        "INFO:ModelParameters:     Num full states: 42\n",
        "INFO:ModelParameters:     Num full states: 42\n",
        "INFO:ModelParameters:      Num parameters: 129\n",
        "INFO:ModelParameters:      Num parameters: 129\n"
       ]
      },
      {
       "output_type": "stream",
       "stream": "stdout",
       "text": [
        "     Num full states: 42\n"
       ]
      },
      {
       "output_type": "stream",
       "stream": "stderr",
       "text": [
        "INFO:ModelParameters:     Num full states: 42\n"
       ]
      },
      {
       "output_type": "stream",
       "stream": "stdout",
       "text": [
        "      Num parameters: 129\n"
       ]
      },
      {
       "output_type": "stream",
       "stream": "stderr",
       "text": [
        "INFO:ModelParameters:      Num parameters: 129\n"
       ]
      },
      {
       "metadata": {},
       "output_type": "display_data",
       "png": "[encoded data removed]",
       "text": [
        "<matplotlib.figure.Figure at 0x7eff7803ca90>"
       ]
      }
     ],
     "prompt_number": 24
    },
    {
     "cell_type": "markdown",
     "metadata": {},
     "source": [
      "### Fitting a time-dependent profile (vector) \n",
      "A more complicated example in which a time-dependent profile is compared.\n",
      "Below we first load the reference data \n",
      "\n",
      "<font color=red>\n",
      "WARNING: I'm rescaling the Toulme data by a factor of 30, since their transgenic model behaves as if it is activated and we'd like values more apporpriate for resting glia. The 1e-9 factor is for converting into C/s \n",
      "</font>\n"
     ]
    },
    {
     "cell_type": "code",
     "collapsed": false,
     "input": [
      "import numpy as np\n",
      "scale = 1/30. * 1e-9\n",
      "expdata = np.loadtxt(\"../validation/Toulme2012_Fig6c.csv\",skiprows=4, delimiter=\",\")\n",
      "expdata[:,1]*=scale\n",
      "plt.plot(expdata[:,0],expdata[:,1])"
     ],
     "language": "python",
     "metadata": {},
     "outputs": [
      {
       "metadata": {},
       "output_type": "pyout",
       "prompt_number": 25,
       "text": [
        "[<matplotlib.lines.Line2D at 0x7eff72cbd2d0>]"
       ]
      },
      {
       "metadata": {},
       "output_type": "display_data",
       "png": "[encoded data removed]",
       "text": [
        "<matplotlib.figure.Figure at 0x7eff78362b50>"
       ]
      }
     ],
     "prompt_number": 25
    },
    {
     "cell_type": "markdown",
     "metadata": {},
     "source": [
      "We chose an offset to account for any difference between the exp. data and when the channel fires in our data. This took some playing around. Easiest to debug this when looking at the best fit graph at the end of the calculation. Also, I interpolated the experimental over about 10 s. Need to also play around with interpolation points too so they fairly approximate the complete data "
     ]
    },
    {
     "cell_type": "code",
     "collapsed": false,
     "input": [
      "\n",
      "expInterpTs = np.linspace(0.3,30,4)  # point at t=0 was pretty bad\n",
      "expInterpVals = np.interp(expInterpTs,expdata[:,0],expdata[:,1])\n",
      "plt.plot(expdata[:,0],expdata[:,1])\n",
      "plt.scatter(expInterpTs,expInterpVals)\n",
      "\n",
      "\n",
      "# here I apply the offset to align with the model predictions\n",
      "# also the exptl data is in seconds \n",
      "expInterpTs*= 1e3\n",
      "offset = 1.55e3 # ms\n",
      "expInterpTs+= offset"
     ],
     "language": "python",
     "metadata": {},
     "outputs": [
      {
       "metadata": {},
       "output_type": "display_data",
       "png": "[encoded data removed]",
       "text": [
        "<matplotlib.figure.Figure at 0x7eff58073cd0>"
       ]
      }
     ],
     "prompt_number": 31
    },
    {
     "cell_type": "code",
     "collapsed": false,
     "input": [
      "print offset\n",
      "print expInterpTs\n",
      "print expInterpVals"
     ],
     "language": "python",
     "metadata": {},
     "outputs": [
      {
       "output_type": "stream",
       "stream": "stdout",
       "text": [
        "1550.0\n",
        "[  1850.           5083.33333333   8316.66666667  11550.        ]\n",
        "[ -1.20281992e-08  -6.99941340e-09  -4.57058278e-09  -3.13184584e-09]\n"
       ]
      }
     ],
     "prompt_number": 27
    },
    {
     "cell_type": "code",
     "collapsed": false,
     "input": [
      "testState = \"I_f\"\n",
      "\n",
      "results = ga.run(\n",
      "    odeModel = \"microgliav48.ode\",\n",
      "    yamlVarFile = \"P2X4FitVar.yaml\" ,\n",
      "    myVariedParam = \"H2_ptxf\",\n",
      "    variedParamTruthVal = 0.00026  , # was 2.22e-13 in code, but bumping it up a bit\n",
      "    timeStart = offset,\n",
      "    jobDuration = 35e3,\n",
      "    numRandomDraws = 2,\n",
      "    numIters = 4,\n",
      "    sigmaScaleRate = 0.15,\n",
      "    outputParamName = \"I\",\n",
      "    outputParamSearcher = testState,\n",
      "    outputParamMethod = \"val_vs_time\",\n",
      "    outputParamTruthTimes=expInterpTs,\n",
      "    outputParamTruthVal=expInterpVals,\n",
      "    debug = True\n",
      ")"
     ],
     "language": "python",
     "metadata": {},
     "outputs": [
      {
       "output_type": "stream",
       "stream": "stdout",
       "text": [
        "\n",
        "WARNING: In debug mode. \n",
        "Fixing random seed\n",
        "\n",
        "timeRange:  [1.55, 35.0]\n",
        "iter 1  out of 4\n",
        "parmDict:  {'H2_ptxf': [0.00026, 0.2]}\n",
        "Inputs:  H2_ptxf 0.00026\n",
        "Using 2 cores for 2 jobs\n",
        "Should probably rescale sigma by the tolerated error vs current error\n",
        "Multi-threading\n"
       ]
      },
      {
       "output_type": "stream",
       "stream": "stdout",
       "text": [
        "result:  [ -1.40569880e-08  -4.10091448e-09  -2.22316448e-09  -1.71792208e-09] truthValue:  [ -1.20281992e-08  -3.06823529e-09  -1.19745988e-09  -2.74093722e-10]\n",
        "result:  [ -1.40203207e-08  -4.07537786e-09  -2.21040996e-09  -1.71021079e-09] truthValue:  [ -1.20281992e-08  -3.06823529e-09  -1.19745988e-09  -2.74093722e-10]\n",
        "myDataFrame: \n",
        "            H2_ptxf                                                  I  \\\n",
        "0_2490  0.000299986  [-1.4056988001e-08, -4.10091447546e-09, -2.223...   \n",
        "1_2491  0.000339339  [-1.40203207308e-08, -4.07537786085e-09, -2.21...   \n",
        "\n",
        "         jobID jobNum       fitness  \n",
        "0_2490  0_2490      0  2.884289e-09  \n",
        "1_2491  1_2491      1  2.841018e-09  \n",
        "jobFitnesses:  [  2.88428854e-09   2.84101818e-09]\n",
        "jobIndex:  1\n",
        "previousDraw:  2.84101818191e-09\n",
        "bestVarDict:  {'H2_ptxf': 0.00033933877065031414}\n",
        "iter 1  out of 4\n",
        "\n",
        "######\n",
        "\n",
        "iter 2  out of 4\n",
        "parmDict:  {'H2_ptxf': [0.00033933877065031414, 0.2]}\n",
        "Inputs:  H2_ptxf 0.00033933877065\n",
        "Using 2 cores for 2 jobs\n",
        "Should probably rescale sigma by the tolerated error vs current error\n",
        "Multi-threading\n",
        "Worker bee 2490, Job 0 \n",
        "Worker bee 2491, Job 1 \n",
        "Loaded ODE model 'microgliav48' with:\n",
        "Loaded ODE model 'microgliav48' with:\n",
        "     Num full states: 42\n",
        "     Num full states: 42\n",
        "      Num parameters: 129\n",
        "      Num parameters: 129\n"
       ]
      },
      {
       "output_type": "stream",
       "stream": "stderr",
       "text": [
        "INFO:ModelParameters:Loaded ODE model 'microgliav48' with:\n",
        "INFO:ModelParameters:Loaded ODE model 'microgliav48' with:\n",
        "INFO:ModelParameters:     Num full states: 42\n",
        "INFO:ModelParameters:     Num full states: 42\n",
        "INFO:ModelParameters:      Num parameters: 129\n",
        "INFO:ModelParameters:      Num parameters: 129\n"
       ]
      },
      {
       "output_type": "stream",
       "stream": "stdout",
       "text": [
        "result:  [ -1.40942952e-08  -4.12703265e-09  -2.23624131e-09  -1.72581993e-09] truthValue:  [ -1.20281992e-08  -3.06823529e-09  -1.19745988e-09  -2.74093722e-10]\n",
        "result:  [ -1.40207760e-08  -4.07569375e-09  -2.21056790e-09  -1.71030533e-09] truthValue:  [ -1.20281992e-08  -3.06823529e-09  -1.19745988e-09  -2.74093722e-10]\n",
        "myDataFrame: \n",
        "            H2_ptxf                                                  I  \\\n",
        "0_2517  0.000260075  [-1.40942951767e-08, -4.12703265286e-09, -2.23...   \n",
        "1_2518  0.000338849  [-1.40207760088e-08, -4.07569375264e-09, -2.21...   \n",
        "\n",
        "         jobID jobNum       fitness  \n",
        "0_2517  0_2517      0  2.928546e-09  \n",
        "1_2518  1_2518      1  2.841554e-09  \n",
        "jobFitnesses:  [  2.92854573e-09   2.84155352e-09]\n",
        "jobIndex:  1\n",
        "Old draw is better starting point, not overwriting starting point\n",
        "iter 2  out of 4\n",
        "\n",
        "######\n",
        "\n",
        "iter 3  out of 4\n",
        "parmDict:  {'H2_ptxf': [0.00033933877065031414, 0.2]}\n",
        "Inputs:  H2_ptxf 0.00033933877065\n",
        "Using 2 cores for 2 jobs\n",
        "Should probably rescale sigma by the tolerated error vs current error\n",
        "Multi-threading\n",
        "Worker bee 2517, Job 0 \n",
        "Worker bee 2518, Job 1 \n",
        "Loaded ODE model 'microgliav48' with:\n",
        "Loaded ODE model 'microgliav48' with:\n",
        "     Num full states: 42\n",
        "     Num full states: 42\n",
        "      Num parameters: 129\n",
        "      Num parameters: 129\n"
       ]
      },
      {
       "output_type": "stream",
       "stream": "stderr",
       "text": [
        "INFO:ModelParameters:Loaded ODE model 'microgliav48' with:\n",
        "INFO:ModelParameters:Loaded ODE model 'microgliav48' with:\n",
        "INFO:ModelParameters:     Num full states: 42\n",
        "INFO:ModelParameters:     Num full states: 42\n",
        "INFO:ModelParameters:      Num parameters: 129\n",
        "INFO:ModelParameters:      Num parameters: 129\n"
       ]
      },
      {
       "output_type": "stream",
       "stream": "stdout",
       "text": [
        "result:  [ -1.40523110e-08  -4.09764992e-09  -2.22153223e-09  -1.71693445e-09] truthValue:  [ -1.20281992e-08  -3.06823529e-09  -1.19745988e-09  -2.74093722e-10]\n",
        "result:  [ -1.39899195e-08  -4.05430444e-09  -2.19990838e-09  -1.70385737e-09] truthValue:  [ -1.20281992e-08  -3.06823529e-09  -1.19745988e-09  -2.74093722e-10]\n",
        "myDataFrame: \n",
        "            H2_ptxf                                                  I  \\\n",
        "0_2539  0.000304999  [-1.40523110453e-08, -4.09764992323e-09, -2.22...   \n",
        "1_2540  0.000372061  [-1.39899194666e-08, -4.0543044424e-09, -2.199...   \n",
        "\n",
        "         jobID jobNum       fitness  \n",
        "0_2539  0_2539      0  2.878756e-09  \n",
        "1_2540  1_2540      1  2.805317e-09  \n",
        "jobFitnesses:  [  2.87875609e-09   2.80531740e-09]\n",
        "jobIndex:  1\n",
        "bestVarDict:  {'H2_ptxf': 0.0003720611914779995}\n",
        "iter 3  out of 4\n",
        "\n",
        "######\n",
        "\n",
        "iter 4  out of 4\n",
        "parmDict:  {'H2_ptxf': [0.0003720611914779995, 0.2]}\n",
        "Inputs:  H2_ptxf 0.000372061191478\n",
        "Using 2 cores for 2 jobs\n",
        "Should probably rescale sigma by the tolerated error vs current error\n",
        "Multi-threading\n",
        "Worker bee 2539, Job 0 \n",
        "Worker bee 2540, Job 1 \n",
        "Loaded ODE model 'microgliav48' with:\n",
        "Loaded ODE model 'microgliav48' with:\n",
        "     Num full states: 42\n",
        "     Num full states: 42\n",
        "      Num parameters: 129\n",
        "      Num parameters: 129\n"
       ]
      },
      {
       "output_type": "stream",
       "stream": "stderr",
       "text": [
        "INFO:ModelParameters:Loaded ODE model 'microgliav48' with:\n",
        "INFO:ModelParameters:Loaded ODE model 'microgliav48' with:\n",
        "INFO:ModelParameters:     Num full states: 42\n",
        "INFO:ModelParameters:     Num full states: 42\n",
        "INFO:ModelParameters:      Num parameters: 129\n",
        "INFO:ModelParameters:      Num parameters: 129\n"
       ]
      },
      {
       "output_type": "stream",
       "stream": "stdout",
       "text": [
        "result:  [ -1.39851086e-08  -4.05097795e-09  -2.19825239e-09  -1.70285512e-09] truthValue:  [ -1.20281992e-08  -3.06823529e-09  -1.19745988e-09  -2.74093722e-10]\n",
        "result:  [ -1.39780367e-08  -4.04609223e-09  -2.19582199e-09  -1.70138278e-09] truthValue:  [ -1.20281992e-08  -3.06823529e-09  -1.19745988e-09  -2.74093722e-10]\n",
        "myDataFrame: \n",
        "            H2_ptxf                                                  I  \\\n",
        "0_2561  0.000377247  [-1.39851085548e-08, -4.05097794645e-09, -2.19...   \n",
        "1_2562  0.000384875  [-1.39780366856e-08, -4.04609223353e-09, -2.19...   \n",
        "\n",
        "         jobID jobNum       fitness  \n",
        "0_2561  0_2561      0  2.799682e-09  \n",
        "1_2562  1_2562      1  2.791407e-09  \n",
        "jobFitnesses:  [  2.79968248e-09   2.79140668e-09]\n",
        "jobIndex:  1\n",
        "bestVarDict:  {'H2_ptxf': 0.00038487471520999827}\n",
        "iter 4  out of 4\n",
        "\n",
        "######\n",
        "\n",
        "Best fit parameter 0.00038487471521\n",
        "Leaving!!\n",
        "Worker bee 27709, Job 0 \n",
        "Loaded ODE model 'microgliav48' with:\n",
        "Worker bee 2561, Job 0 \n",
        "Worker bee 2562, Job 1 \n",
        "Loaded ODE model 'microgliav48' with:\n",
        "Loaded ODE model 'microgliav48' with:\n",
        "     Num full states: 42\n",
        "     Num full states: 42\n",
        "      Num parameters: 129\n",
        "      Num parameters: 129\n"
       ]
      },
      {
       "output_type": "stream",
       "stream": "stderr",
       "text": [
        "INFO:ModelParameters:Loaded ODE model 'microgliav48' with:\n",
        "INFO:ModelParameters:Loaded ODE model 'microgliav48' with:\n",
        "INFO:ModelParameters:Loaded ODE model 'microgliav48' with:\n",
        "INFO:ModelParameters:     Num full states: 42\n",
        "INFO:ModelParameters:     Num full states: 42\n",
        "INFO:ModelParameters:      Num parameters: 129\n",
        "INFO:ModelParameters:      Num parameters: 129\n"
       ]
      },
      {
       "output_type": "stream",
       "stream": "stdout",
       "text": [
        "     Num full states: 42\n"
       ]
      },
      {
       "output_type": "stream",
       "stream": "stderr",
       "text": [
        "INFO:ModelParameters:     Num full states: 42\n"
       ]
      },
      {
       "output_type": "stream",
       "stream": "stdout",
       "text": [
        "      Num parameters: 129\n"
       ]
      },
      {
       "output_type": "stream",
       "stream": "stderr",
       "text": [
        "INFO:ModelParameters:      Num parameters: 129\n"
       ]
      },
      {
       "metadata": {},
       "output_type": "display_data",
       "png": "[encoded data removed]",
       "text": [
        "<matplotlib.figure.Figure at 0x7eff780cce50>"
       ]
      }
     ],
     "prompt_number": 47
    },
    {
     "cell_type": "markdown",
     "metadata": {},
     "source": [
      "Should you wish to compare the results on your own, you can run the following. \n",
      "The code saves a figure like this automatically though"
     ]
    },
    {
     "cell_type": "code",
     "collapsed": false,
     "input": [
      "#print results['outputList']['I'].timeInterpolations\n",
      "data = results['data']\n",
      "#data = aG.readPickle(\"test_cat.pickle\")\n",
      "stateLabel = \"I_ptxf\"\n",
      "subData = aG.GetData(data,stateLabel)\n",
      "i=0\n",
      "ts = subData.t[i:]\n",
      "vals = subData.valsIdx[i:]\n",
      "print np.shape(subData.valsIdx)\n",
      "\n",
      "#normedPred = vals/np.min(vals)\n",
      "plt.plot(ts,vals,label=\"pred\")\n",
      "\n",
      "plt.scatter(expInterpTs, expInterpVals)\n"
     ],
     "language": "python",
     "metadata": {},
     "outputs": [
      {
       "output_type": "stream",
       "stream": "stdout",
       "text": [
        "(200001,)\n"
       ]
      },
      {
       "metadata": {},
       "output_type": "pyout",
       "prompt_number": 10,
       "text": [
        "<matplotlib.collections.PathCollection at 0x7f07002a4210>"
       ]
      },
      {
       "metadata": {},
       "output_type": "display_data",
       "png": "[encoded data removed]",
       "text": [
        "<matplotlib.figure.Figure at 0x7f07003a91d0>"
       ]
      }
     ],
     "prompt_number": 10
    }
   ],
   "metadata": {}
  }
 ]
}