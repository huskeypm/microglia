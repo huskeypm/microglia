{
 "metadata": {
  "kernelspec": {
   "display_name": "Python 2",
   "language": "python",
   "name": "python2"
  },
  "language_info": {
   "codemirror_mode": {
    "name": "ipython",
    "version": 2
   },
   "file_extension": ".py",
   "mimetype": "text/x-python",
   "name": "python",
   "nbconvert_exporter": "python",
   "pygments_lexer": "ipython2",
   "version": "2.7.5"
  },
  "name": "",
  "signature": "sha256:da5356caf9fee7368b0bba08a7261af14904eb8ab5a6d71b91dd83379c6f3104"
 },
 "nbformat": 3,
 "nbformat_minor": 0,
 "worksheets": [
  {
   "cells": [
    {
     "cell_type": "markdown",
     "metadata": {},
     "source": [
      "### Genetic alg fitting.\n",
      "This notebook is used for fitting currents, etc via the genetic algorithm "
     ]
    },
    {
     "cell_type": "markdown",
     "metadata": {},
     "source": [
      "<code>\n",
      "source ../configgotran.bash \n",
      "</code>"
     ]
    },
    {
     "cell_type": "code",
     "collapsed": false,
     "input": [
      "%matplotlib inline\n",
      "%load_ext autoreload\n",
      "%autoreload 2"
     ],
     "language": "python",
     "metadata": {},
     "outputs": [],
     "prompt_number": 4
    },
    {
     "cell_type": "code",
     "collapsed": false,
     "input": [
      "import matplotlib.pylab as plt \n",
      "# routlines for analyzing odes\n",
      "import analyzeGotran as ao"
     ],
     "language": "python",
     "metadata": {},
     "outputs": [],
     "prompt_number": 5
    },
    {
     "cell_type": "markdown",
     "metadata": {},
     "source": [
      "#### Simple run (no fitting)\n",
      "Here we perform a quick simulation to examine the default behavior of the code.\n",
      "Run the following: \n",
      "<code> \n",
      "$export ODEFILEfitted=microgliav48.ode\n",
      "$ python2.7 daisychain.py -dt 0.1 -dSr 1000 -jit -odeName $ODEFILEfitted -T 20e3 -iters 1 -var V_ptxs -0.06 -var stim_amplitude 100 -var stim_period 60e3 -var stim_gap1 50e3 -var        stim_gap2 50e3 -var stim_low 1e3 -var stim_high 10e3 -name test\n",
      "</code>\n",
      "This will spit out a file called test_cat.pickle"
     ]
    },
    {
     "cell_type": "code",
     "collapsed": false,
     "input": [
      "data = ao.readPickle(\"test_cat.pickle\")\n",
      "keys = [\"Q1_ptxf\", \"Q2_ptxf\",\"D3_ptxf\",\"D4_ptxf\" ]#,\"D3_ptxf \",\"D4_ptxf \"]\n",
      "fig,ax1=  plt.subplots(1)\n",
      "\n",
      "for key in keys:\n",
      "    \n",
      "    stateLabel = key#  + Q2_ptxf\"\n",
      "    subData = ao.GetData(data,stateLabel)\n",
      "    # data is stored as\n",
      "    # subData.t - time\n",
      "    # subData.valsIdx - values of 'stateLabel' state\n",
      "    ax1.plot(subData.t,subData.valsIdx, label=key)\n",
      "\n",
      "stateLabel = \"I_f\"\n",
      "subData = ao.GetData(data,stateLabel)\n",
      "ax2 = plt.twinx(ax1)\n",
      "ax2.plot(subData.t,-1*subData.valsIdx, \"k--\")\n",
      "ax2.set_ylabel(\"P2X current\")\n",
      "ax1.legend()\n",
      "plt.gcf().savefig(\"x.png\")\n"
     ],
     "language": "python",
     "metadata": {},
     "outputs": [
      {
       "output_type": "stream",
       "stream": "stdout",
       "text": [
        "Reading test_cat.pickle\n"
       ]
      },
      {
       "metadata": {},
       "output_type": "display_data",
       "png": "[encoded data removed]",
       "text": [
        "<matplotlib.figure.Figure at 0x7eff72b99050>"
       ]
      }
     ],
     "prompt_number": 11
    },
    {
     "cell_type": "markdown",
     "metadata": {},
     "source": [
      "#### Fitting the current to a single value (like a maximum current) \n",
      "For this first example, we'll assume we know that the peak current should be 6 pA \n",
      "<code>\n",
      "$python fittingAlgorithm.py -odeModel microgliav48.ode -fixedvars P2X4FitVar.yaml -myVariedParam k1_ptxf -variedParamTruthVal 1e-4 -timeStart 0e3 -jobDuration 20e3 -numRandomDraws 2  -numIters 2 -sigmaScaleRate 0.15 -outputParamName I -outputParamSearcher I_ptxf -outputParamMethod min -outputParamTruthVal -6e-9      -debug\n",
      "</code>\n",
      "\n",
      "- fixedVars YAML contains a set of parameter values that are supplied to the .ode file, but are NOT randomized. I use this to set the ATP profile characteristics, for instance\n",
      "- myVariedParam NAME defines the parameter I want to vary\n",
      "- variedParamTruthVal FLOAT defines the params starting value\n",
      "- timeStart FLOAT discards data before this timepoint\n",
      "- numRandomDraws INT  number of random draws per iteration (< #procs)\n",
      "- numIters INT number of iterations of search\n",
      "- sigmaScaleRate FLOAT controls rate at which 'range' of random variates decreases, as you hone in on a solution\n",
      "- outputParamSearcher ODESTATENAME provides the name of the output in the .ode file you want to analyze\n",
      "- outputParamMethod MIN/MAX/MEAN provides which quantity you want to compute from your output\n",
      "- outputParamTruthVal FLOAT value that you want to obtain \n",
      "\n",
      "If run from command line, you'll get an output like this:\n",
      "<code>\n",
      "           G12_ptxf            I   jobID jobNum       fitness\n",
      "0_3483  2.22064e-13 -4.86972e-09  0_3483      0  1.130285e-09\n",
      "1_3484  2.89325e-13  -6.3447e-09  1_3484      1  3.447005e-10\n",
      "jobFitnesses:  [  1.13028482e-09   3.44700454e-10]\n",
      "jobIndex:  1\n",
      "bestVarDict:  {'G12_ptxf': 2.8932524582876968e-13}\n",
      "iter 2  out of 2\n",
      "</code>\n",
      "\n",
      "In this case, the best value found so far is 2.89e-13 (higher in amplitude than what we started with, which makes sense since our current in pA was originally 5 and we wanted 6)\n"
     ]
    },
    {
     "cell_type": "markdown",
     "metadata": {},
     "source": [
      "#### 'Scalar' fitting within the notebook\n",
      "Below we'll do this in the notebook, which makes life a bit simpler "
     ]
    },
    {
     "cell_type": "code",
     "collapsed": false,
     "input": [
      "#python fittingAlgorithm.py \n",
      "import fittingAlgorithm as ga"
     ],
     "language": "python",
     "metadata": {},
     "outputs": [
      {
       "output_type": "stream",
       "stream": "stdout",
       "text": [
        "WARNING: ode idx is hardcoded\n"
       ]
      }
     ],
     "prompt_number": 2
    },
    {
     "cell_type": "markdown",
     "metadata": {},
     "source": [
      "Here we run everything. The best fit parameter is contained in results\n",
      "results['bestFitParam']"
     ]
    },
    {
     "cell_type": "code",
     "collapsed": false,
     "input": [
      "testState = \"I_s\"\n",
      "results = ga.run(\n",
      "    odeModel = \"microgliav51.ode\",\n",
      "    yamlVarFile = \"P2X7FitVar320uM.yaml\" ,\n",
      "    myVariedParam = \"G12_ptxs\",\n",
      "    variedParamTruthVal = 3.06e-12  ,\n",
      "    timeStart = 1.5e3,\n",
      "    jobDuration = 15e3,\n",
      "    numRandomDraws = 2,\n",
      "    numIters = 2,\n",
      "    sigmaScaleRate = 0.15,\n",
      "    outputParamName = \"I\",\n",
      "    outputParamSearcher = testState,\n",
      "    outputParamMethod = \"min\",\n",
      "    outputParamTruthVal=-40e-9,\n",
      "    debug = True\n",
      ")"
     ],
     "language": "python",
     "metadata": {},
     "outputs": [
      {
       "output_type": "stream",
       "stream": "stdout",
       "text": [
        "\n",
        "WARNING: In debug mode. \n",
        "Fixing random seed\n",
        "\n",
        "timeRange:  [1.5, 15.0]\n",
        "iter 1  out of 2\n",
        "parmDict:  {'G12_ptxs': [3.06e-12, 0.2]}\n",
        "Inputs:  G12_ptxs 3.06e-12\n",
        "Using 2 cores for 2 jobs\n",
        "Should probably rescale sigma by the tolerated error vs current error\n",
        "Multi-threading\n"
       ]
      },
      {
       "output_type": "stream",
       "stream": "stdout",
       "text": [
        "result:  -6.72710018441e-08 truthValue:  -4e-08\n",
        "result:  -7.60956278823e-08 truthValue:  -4e-08\n",
        "myDataFrame: \n",
        "           G12_ptxs            I   jobID jobNum       fitness\n",
        "0_5687  3.53061e-12  -6.7271e-08  0_5687      0  2.727100e-08\n",
        "1_5688  3.99376e-12 -7.60956e-08  1_5688      1  3.609563e-08\n",
        "jobFitnesses:  [  2.72710018e-08   3.60956279e-08]\n",
        "jobIndex:  0\n",
        "previousDraw:  2.72710018441e-08\n",
        "bestVarDict:  {'G12_ptxs': 3.5306101775726365e-12}\n",
        "iter 1  out of 2\n",
        "\n",
        "######\n",
        "\n",
        "iter 2  out of 2\n",
        "parmDict:  {'G12_ptxs': [3.5306101775726365e-12, 0.2]}\n",
        "Inputs:  G12_ptxs 3.53061017757e-12\n",
        "Using 2 cores for 2 jobs\n",
        "Should probably rescale sigma by the tolerated error vs current error\n",
        "Multi-threading\n",
        "Worker bee 5687, Job 0 \n",
        "Worker bee 5688, Job 1 \n",
        "Loaded ODE model 'microgliav51' with:\n",
        "Loaded ODE model 'microgliav51' with:\n",
        "     Num full states: 42\n",
        "     Num full states: 42\n",
        "      Num parameters: 133\n",
        "      Num parameters: 133\n"
       ]
      },
      {
       "output_type": "stream",
       "stream": "stderr",
       "text": [
        "INFO:ModelParameters:Loaded ODE model 'microgliav51' with:\n",
        "INFO:ModelParameters:Loaded ODE model 'microgliav51' with:\n",
        "INFO:ModelParameters:     Num full states: 42\n",
        "INFO:ModelParameters:     Num full states: 42\n",
        "INFO:ModelParameters:      Num parameters: 133\n",
        "INFO:ModelParameters:      Num parameters: 133\n"
       ]
      },
      {
       "output_type": "stream",
       "stream": "stdout",
       "text": [
        "result:  -5.15577012267e-08 truthValue:  -4e-08\n",
        "result:  -6.71739856095e-08 truthValue:  -4e-08\n",
        "myDataFrame: \n",
        "           G12_ptxs            I   jobID jobNum       fitness\n",
        "0_5706  2.70592e-12 -5.15577e-08  0_5706      0  1.155770e-08\n",
        "1_5707  3.52552e-12  -6.7174e-08  1_5707      1  2.717399e-08\n",
        "jobFitnesses:  [  1.15577012e-08   2.71739856e-08]\n",
        "jobIndex:  0\n",
        "bestVarDict:  {'G12_ptxs': 2.7059229056900065e-12}\n",
        "iter 2  out of 2\n",
        "\n",
        "######\n",
        "\n",
        "Best fit parameter 2.70592290569e-12\n",
        "Leaving!!\n",
        "Worker bee 5279, Job 0 \n",
        "Loaded ODE model 'microgliav51' with:\n",
        "Worker bee 5706, Job 0 \n",
        "Worker bee 5707, Job 1 \n",
        "Loaded ODE model 'microgliav51' with:\n",
        "Loaded ODE model 'microgliav51' with:\n",
        "     Num full states: 42\n",
        "     Num full states: 42\n",
        "      Num parameters: 133\n",
        "      Num parameters: 133\n"
       ]
      },
      {
       "output_type": "stream",
       "stream": "stderr",
       "text": [
        "INFO:ModelParameters:Loaded ODE model 'microgliav51' with:\n",
        "INFO:ModelParameters:Loaded ODE model 'microgliav51' with:\n",
        "INFO:ModelParameters:Loaded ODE model 'microgliav51' with:\n",
        "INFO:ModelParameters:     Num full states: 42\n",
        "INFO:ModelParameters:     Num full states: 42\n",
        "INFO:ModelParameters:      Num parameters: 133\n",
        "INFO:ModelParameters:      Num parameters: 133\n"
       ]
      },
      {
       "output_type": "stream",
       "stream": "stdout",
       "text": [
        "     Num full states: 42\n"
       ]
      },
      {
       "output_type": "stream",
       "stream": "stderr",
       "text": [
        "INFO:ModelParameters:     Num full states: 42\n"
       ]
      },
      {
       "output_type": "stream",
       "stream": "stdout",
       "text": [
        "      Num parameters: 133\n"
       ]
      },
      {
       "output_type": "stream",
       "stream": "stderr",
       "text": [
        "INFO:ModelParameters:      Num parameters: 133\n"
       ]
      },
      {
       "metadata": {},
       "output_type": "display_data",
       "png": "[encoded data removed]",
       "text": [
        "<matplotlib.figure.Figure at 0x7fc8a8154110>"
       ]
      }
     ],
     "prompt_number": 7
    },
    {
     "cell_type": "markdown",
     "metadata": {},
     "source": [
      "### Fitting a time-dependent profile (vector) \n",
      "A more complicated example in which a time-dependent profile is compared.\n",
      "Below we first load the reference data \n",
      "\n",
      "<font color=red>\n",
      "WARNING: I'm rescaling the Toulme data by a factor of 30, since their transgenic model behaves as if it is activated and we'd like values more apporpriate for resting glia. The 1e-9 factor is for converting into C/s \n",
      "</font>\n"
     ]
    },
    {
     "cell_type": "code",
     "collapsed": false,
     "input": [
      "import numpy as np\n",
      "t1=np.array([0,1.146496815,6.878980892,13.75796178])\n",
      "y1=np.array([0,-40.78947368,-28.94736842,-7.894736842])*10**-9\n",
      "plt.plot(t1,y1)"
     ],
     "language": "python",
     "metadata": {},
     "outputs": [
      {
       "metadata": {},
       "output_type": "pyout",
       "prompt_number": 9,
       "text": [
        "[<matplotlib.lines.Line2D at 0x7fc87831fc50>]"
       ]
      },
      {
       "metadata": {},
       "output_type": "display_data",
       "png": "[encoded data removed]",
       "text": [
        "<matplotlib.figure.Figure at 0x7fc891edec10>"
       ]
      }
     ],
     "prompt_number": 9
    },
    {
     "cell_type": "markdown",
     "metadata": {},
     "source": [
      "We chose an offset to account for any difference between the exp. data and when the channel fires in our data. This took some playing around. Easiest to debug this when looking at the best fit graph at the end of the calculation. Also, I interpolated the experimental over about 10 s. Need to also play around with interpolation points too so they fairly approximate the complete data "
     ]
    },
    {
     "cell_type": "code",
     "collapsed": false,
     "input": [
      "\n",
      "expInterpTs = np.linspace(0,12,11)  # point at t=0 was pretty bad\n",
      "expInterpVals = np.interp(expInterpTs,t1,y1)\n",
      "plt.plot(t1,y1)\n",
      "plt.scatter(expInterpTs,expInterpVals)\n",
      "\n",
      "\n",
      "# here I apply the offset to align with the model predictions\n",
      "# also the exptl data is in seconds \n",
      "expInterpTs*= 1e3\n",
      "offset = 1.55e3 # ms\n",
      "expInterpTs+= offset"
     ],
     "language": "python",
     "metadata": {},
     "outputs": [
      {
       "metadata": {},
       "output_type": "display_data",
       "png": "[encoded data removed]",
       "text": [
        "<matplotlib.figure.Figure at 0x7fc8902f1a90>"
       ]
      }
     ],
     "prompt_number": 13
    },
    {
     "cell_type": "code",
     "collapsed": false,
     "input": [
      "print offset\n",
      "print expInterpTs\n",
      "print expInterpVals"
     ],
     "language": "python",
     "metadata": {},
     "outputs": [
      {
       "output_type": "stream",
       "stream": "stdout",
       "text": [
        "1550.0\n",
        "[  1550.   2750.   3950.   5150.   6350.   7550.   8750.   9950.  11150.\n",
        "  12350.  13550.]\n",
        "[  0.00000000e+00  -4.06789474e-08  -3.82000000e-08  -3.57210526e-08\n",
        "  -3.32421053e-08  -3.07631579e-08  -2.79649123e-08  -2.42923977e-08\n",
        "  -2.06198830e-08  -1.69473684e-08  -1.32748538e-08]\n"
       ]
      }
     ],
     "prompt_number": 14
    },
    {
     "cell_type": "code",
     "collapsed": false,
     "input": [
      "testState = \"I_s\"\n",
      "\n",
      "results = ga.run(\n",
      "    odeModel = \"microgliav51.ode\",\n",
      "    yamlVarFile = \"P2X7FitVar320uM.yaml\" ,\n",
      "    myVariedParam = \"k4_ptxs\",\n",
      "    variedParamTruthVal = 2  , # was 2.22e-13 in code, but bumping it up a bit\n",
      "    timeStart = offset,\n",
      "    jobDuration = 15e3,\n",
      "    numRandomDraws = 2,\n",
      "    numIters = 3,\n",
      "    sigmaScaleRate = 0.15,\n",
      "    outputParamName = \"I\",\n",
      "    outputParamSearcher = testState,\n",
      "    outputParamMethod = \"val_vs_time\",\n",
      "    outputParamTruthTimes=expInterpTs,\n",
      "    outputParamTruthVal=expInterpVals,\n",
      "    debug = True\n",
      ")"
     ],
     "language": "python",
     "metadata": {},
     "outputs": [
      {
       "output_type": "stream",
       "stream": "stdout",
       "text": [
        "\n",
        "WARNING: In debug mode. \n",
        "Fixing random seed\n",
        "\n",
        "timeRange:  [1.55, 15.0]\n",
        "iter 1  out of 3\n",
        "parmDict:  {'k4_ptxs': [2, 0.2]}\n",
        "Inputs:  k4_ptxs 2\n",
        "Using 2 cores for 2 jobs\n",
        "Should probably rescale sigma by the tolerated error vs current error\n",
        "Multi-threading\n"
       ]
      },
      {
       "output_type": "stream",
       "stream": "stdout",
       "text": [
        "result:  [ -6.95203168e-10  -4.23549802e-08  -4.34939435e-08  -4.07910035e-08\n",
        "  -3.80408819e-08  -3.54617411e-08  -3.30564837e-08  -3.08144450e-08\n",
        "  -2.87246459e-08  -1.19607431e-08  -3.54034661e-09] truthValue:  [  0.00000000e+00  -4.06789474e-08  -3.82000000e-08  -3.57210526e-08\n",
        "  -3.32421053e-08  -3.07631579e-08  -2.79649123e-08  -2.42923977e-08\n",
        "  -2.06198830e-08  -1.69473684e-08  -1.32748538e-08]\n",
        "result:  [ -7.83986992e-10  -4.52657718e-08  -4.59330254e-08  -4.31051761e-08\n",
        "  -4.02879932e-08  -3.76454007e-08  -3.51755838e-08  -3.28679126e-08\n",
        "  -3.07118028e-08  -1.27981824e-08  -3.78819982e-09] truthValue:  [  0.00000000e+00  -4.06789474e-08  -3.82000000e-08  -3.57210526e-08\n",
        "  -3.32421053e-08  -3.07631579e-08  -2.79649123e-08  -2.42923977e-08\n",
        "  -2.06198830e-08  -1.69473684e-08  -1.32748538e-08]\n",
        "myDataFrame: \n",
        "                                                        I   jobID jobNum  \\\n",
        "0_6381  [-6.95203167967e-10, -4.23549801946e-08, -4.34...  0_6381      0   \n",
        "1_6382  [-7.83986992039e-10, -4.5265771828e-08, -4.593...  1_6382      1   \n",
        "\n",
        "        k4_ptxs       fitness  \n",
        "0_6381  2.30759  1.886539e-08  \n",
        "1_6382   2.6103  2.382395e-08  \n",
        "jobFitnesses:  [  1.88653921e-08   2.38239542e-08]\n",
        "jobIndex:  0\n",
        "previousDraw:  1.88653921351e-08\n",
        "bestVarDict:  {'k4_ptxs': 2.3075883513546644}\n",
        "iter 1  out of 3\n",
        "\n",
        "######\n",
        "\n",
        "iter 2  out of 3\n",
        "parmDict:  {'k4_ptxs': [2.3075883513546644, 0.2]}\n",
        "Inputs:  k4_ptxs 2.30758835135\n",
        "Using 2 cores for 2 jobs\n",
        "Should probably rescale sigma by the tolerated error vs current error\n",
        "Multi-threading\n",
        "Worker bee 6381, Job 0 \n",
        "Worker bee 6382, Job 1 \n",
        "Loaded ODE model 'microgliav51' with:\n",
        "Loaded ODE model 'microgliav51' with:\n",
        "     Num full states: 42\n",
        "     Num full states: 42\n",
        "      Num parameters: 133\n",
        "      Num parameters: 133\n",
        "Calling GOTRAN just-in-time (JIT) compiler, this may take some time...Calling GOTRAN just-in-time (JIT) compiler, this may take some time... done\n",
        " done\n"
       ]
      },
      {
       "output_type": "stream",
       "stream": "stderr",
       "text": [
        "INFO:ModelParameters:Loaded ODE model 'microgliav51' with:\n",
        "INFO:ModelParameters:Loaded ODE model 'microgliav51' with:\n",
        "INFO:ModelParameters:     Num full states: 42\n",
        "INFO:ModelParameters:     Num full states: 42\n",
        "INFO:ModelParameters:      Num parameters: 133\n",
        "INFO:ModelParameters:      Num parameters: 133\n",
        "INFO:ModelParameters:Calling GOTRAN just-in-time (JIT) compiler, this may take some time...\n",
        "INFO:ModelParameters:Calling GOTRAN just-in-time (JIT) compiler, this may take some time...\n",
        "In instant.build_module: Path '/home/AD/bch265/.cache/instant/python2.7/cache/gotran_compiled_module_Microgliav51_f8ca424846c8166006ce4e7609bcf44d8009dab0' already exists, but module wasn't found in cache previously. Not overwriting, assuming this module is valid.\n",
        "INFO:ModelParameters: done\n",
        "WARNING:instant:In instant.build_module: Path '/home/AD/bch265/.cache/instant/python2.7/cache/gotran_compiled_module_Microgliav51_f8ca424846c8166006ce4e7609bcf44d8009dab0' already exists, but module wasn't found in cache previously. Not overwriting, assuming this module is valid.\n",
        "INFO:ModelParameters: done\n"
       ]
      },
      {
       "output_type": "stream",
       "stream": "stdout",
       "text": [
        "result:  [ -5.35746093e-10  -3.61259191e-08  -3.81299987e-08  -3.57609399e-08\n",
        "  -3.31962659e-08  -3.07846444e-08  -2.85453924e-08  -2.64689116e-08\n",
        "  -2.45436499e-08  -1.02024765e-08  -3.01995109e-09] truthValue:  [  0.00000000e+00  -4.06789474e-08  -3.82000000e-08  -3.57210526e-08\n",
        "  -3.32421053e-08  -3.07631579e-08  -2.79649123e-08  -2.42923977e-08\n",
        "  -2.06198830e-08  -1.69473684e-08  -1.32748538e-08]\n",
        "result:  [ -6.94224013e-10  -4.23208515e-08  -4.34651290e-08  -4.07637789e-08\n",
        "  -3.80145126e-08  -3.54361683e-08  -3.30317149e-08  -3.07904881e-08\n",
        "  -2.87015037e-08  -1.19509941e-08  -3.53746060e-09] truthValue:  [  0.00000000e+00  -4.06789474e-08  -3.82000000e-08  -3.57210526e-08\n",
        "  -3.32421053e-08  -3.07631579e-08  -2.79649123e-08  -2.42923977e-08\n",
        "  -2.06198830e-08  -1.69473684e-08  -1.32748538e-08]\n",
        "myDataFrame: \n",
        "                                                        I   jobID jobNum  \\\n",
        "0_6420  [-5.35746092891e-10, -3.61259190657e-08, -3.81...  0_6420      0   \n",
        "1_6421  [-6.94224013361e-10, -4.23208514647e-08, -4.34...  1_6421      1   \n",
        "\n",
        "        k4_ptxs       fitness  \n",
        "0_6420  1.76858  1.386192e-08  \n",
        "1_6421  2.30426  1.881309e-08  \n",
        "jobFitnesses:  [  1.38619212e-08   1.88130861e-08]\n",
        "jobIndex:  0\n",
        "bestVarDict:  {'k4_ptxs': 1.7685770625424879}\n",
        "iter 2  out of 3\n",
        "\n",
        "######\n",
        "\n",
        "iter 3  out of 3\n",
        "parmDict:  {'k4_ptxs': [1.7685770625424879, 0.2]}\n",
        "Inputs:  k4_ptxs 1.76857706254\n",
        "Using 2 cores for 2 jobs\n",
        "Should probably rescale sigma by the tolerated error vs current error\n",
        "Multi-threading\n",
        "Worker bee 6420, Job 0 \n",
        "Worker bee 6421, Job 1 \n",
        "Loaded ODE model 'microgliav51' with:\n",
        "Loaded ODE model 'microgliav51' with:\n",
        "     Num full states: 42\n",
        "     Num full states: 42\n",
        "      Num parameters: 133\n",
        "      Num parameters: 133\n"
       ]
      },
      {
       "output_type": "stream",
       "stream": "stderr",
       "text": [
        "INFO:ModelParameters:Loaded ODE model 'microgliav51' with:\n",
        "INFO:ModelParameters:Loaded ODE model 'microgliav51' with:\n",
        "INFO:ModelParameters:     Num full states: 42\n",
        "INFO:ModelParameters:     Num full states: 42\n",
        "INFO:ModelParameters:      Num parameters: 133\n",
        "INFO:ModelParameters:      Num parameters: 133\n"
       ]
      },
      {
       "output_type": "stream",
       "stream": "stdout",
       "text": [
        "result:  [ -4.82409837e-10  -3.37023908e-08  -3.59751034e-08  -3.37582310e-08\n",
        "  -3.12830284e-08  -2.89497231e-08  -2.67864109e-08  -2.47844916e-08\n",
        "  -2.29323431e-08  -9.52622357e-09  -2.81979656e-09] truthValue:  [  0.00000000e+00  -4.06789474e-08  -3.82000000e-08  -3.57210526e-08\n",
        "  -3.32421053e-08  -3.07631579e-08  -2.79649123e-08  -2.42923977e-08\n",
        "  -2.06198830e-08  -1.69473684e-08  -1.32748538e-08]\n",
        "result:  [ -5.86388753e-10  -3.82596527e-08  -3.99934708e-08  -3.75002984e-08\n",
        "  -3.48651903e-08  -3.23909755e-08  -3.00903296e-08  -2.79530731e-08\n",
        "  -2.59677969e-08  -1.08008204e-08  -3.19704481e-09] truthValue:  [  0.00000000e+00  -4.06789474e-08  -3.82000000e-08  -3.57210526e-08\n",
        "  -3.32421053e-08  -3.07631579e-08  -2.79649123e-08  -2.42923977e-08\n",
        "  -2.06198830e-08  -1.69473684e-08  -1.32748538e-08]\n",
        "myDataFrame: \n",
        "                                                        I   jobID jobNum  \\\n",
        "0_6445  [-4.8240983669e-10, -3.37023908025e-08, -3.597...  0_6445      0   \n",
        "1_6446  [-5.86388752533e-10, -3.82596527391e-08, -3.99...  1_6446      1   \n",
        "\n",
        "        k4_ptxs       fitness  \n",
        "0_6445   1.5896  1.536862e-08  \n",
        "1_6446  1.93912  1.427318e-08  \n",
        "jobFitnesses:  [  1.53686215e-08   1.42731811e-08]\n",
        "jobIndex:  1\n",
        "bestVarDict:  {'k4_ptxs': 1.9391208609885064}\n",
        "iter 3  out of 3\n",
        "\n",
        "######\n",
        "\n",
        "Best fit parameter 1.93912086099\n",
        "Leaving!!\n",
        "Worker bee 5279, Job 0 \n",
        "Loaded ODE model 'microgliav51' with:\n",
        "Worker bee 6445, Job 0 \n",
        "Worker bee 6446, Job 1 \n",
        "Loaded ODE model 'microgliav51' with:\n",
        "Loaded ODE model 'microgliav51' with:\n",
        "     Num full states: 42\n",
        "     Num full states: 42\n",
        "      Num parameters: 133\n",
        "      Num parameters: 133\n"
       ]
      },
      {
       "output_type": "stream",
       "stream": "stderr",
       "text": [
        "INFO:ModelParameters:Loaded ODE model 'microgliav51' with:\n",
        "INFO:ModelParameters:Loaded ODE model 'microgliav51' with:\n",
        "INFO:ModelParameters:Loaded ODE model 'microgliav51' with:\n",
        "INFO:ModelParameters:     Num full states: 42\n",
        "INFO:ModelParameters:     Num full states: 42\n",
        "INFO:ModelParameters:      Num parameters: 133\n",
        "INFO:ModelParameters:      Num parameters: 133\n"
       ]
      },
      {
       "output_type": "stream",
       "stream": "stdout",
       "text": [
        "     Num full states: 42\n"
       ]
      },
      {
       "output_type": "stream",
       "stream": "stderr",
       "text": [
        "INFO:ModelParameters:     Num full states: 42\n"
       ]
      },
      {
       "output_type": "stream",
       "stream": "stdout",
       "text": [
        "      Num parameters: 133\n"
       ]
      },
      {
       "output_type": "stream",
       "stream": "stderr",
       "text": [
        "INFO:ModelParameters:      Num parameters: 133\n"
       ]
      },
      {
       "metadata": {},
       "output_type": "display_data",
       "png": "[encoded data removed]",
       "text": [
        "<matplotlib.figure.Figure at 0x7fc8a81488d0>"
       ]
      }
     ],
     "prompt_number": 19
    },
    {
     "cell_type": "markdown",
     "metadata": {},
     "source": [
      "Should you wish to compare the results on your own, you can run the following. \n",
      "The code saves a figure like this automatically though"
     ]
    },
    {
     "cell_type": "code",
     "collapsed": false,
     "input": [
      "#print results['outputList']['I'].timeInterpolations\n",
      "data = results['data']\n",
      "#data = aG.readPickle(\"test_cat.pickle\")\n",
      "stateLabel = \"I_ptxf\"\n",
      "subData = aG.GetData(data,stateLabel)\n",
      "i=0\n",
      "ts = subData.t[i:]\n",
      "vals = subData.valsIdx[i:]\n",
      "print np.shape(subData.valsIdx)\n",
      "\n",
      "#normedPred = vals/np.min(vals)\n",
      "plt.plot(ts,vals,label=\"pred\")\n",
      "\n",
      "plt.scatter(expInterpTs, expInterpVals)\n"
     ],
     "language": "python",
     "metadata": {},
     "outputs": [
      {
       "output_type": "stream",
       "stream": "stdout",
       "text": [
        "(200001,)\n"
       ]
      },
      {
       "metadata": {},
       "output_type": "pyout",
       "prompt_number": 10,
       "text": [
        "<matplotlib.collections.PathCollection at 0x7f07002a4210>"
       ]
      },
      {
       "metadata": {},
       "output_type": "display_data",
       "png": "[encoded data removed]",
       "text": [
        "<matplotlib.figure.Figure at 0x7f07003a91d0>"
       ]
      }
     ],
     "prompt_number": 10
    }
   ],
   "metadata": {}
  }
 ]
}