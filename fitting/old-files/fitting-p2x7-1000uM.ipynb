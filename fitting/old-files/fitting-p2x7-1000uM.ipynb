{
 "metadata": {
  "kernelspec": {
   "display_name": "Python 2",
   "language": "python",
   "name": "python2"
  },
  "language_info": {
   "codemirror_mode": {
    "name": "ipython",
    "version": 2
   },
   "file_extension": ".py",
   "mimetype": "text/x-python",
   "name": "python",
   "nbconvert_exporter": "python",
   "pygments_lexer": "ipython2",
   "version": "2.7.5"
  },
  "name": "",
  "signature": "sha256:0f1f07e0870a018ad541ec8986916d133039574c3a1fe07b7040e9beaf72e7ff"
 },
 "nbformat": 3,
 "nbformat_minor": 0,
 "worksheets": [
  {
   "cells": [
    {
     "cell_type": "markdown",
     "metadata": {},
     "source": [
      "### Genetic alg fitting.\n",
      "This notebook is used for fitting currents, etc via the genetic algorithm "
     ]
    },
    {
     "cell_type": "markdown",
     "metadata": {},
     "source": [
      "<code>\n",
      "source ../configgotran.bash \n",
      "</code>"
     ]
    },
    {
     "cell_type": "code",
     "collapsed": false,
     "input": [
      "%matplotlib inline\n",
      "%load_ext autoreload\n",
      "%autoreload 2"
     ],
     "language": "python",
     "metadata": {},
     "outputs": [],
     "prompt_number": 1
    },
    {
     "cell_type": "code",
     "collapsed": false,
     "input": [
      "import matplotlib.pylab as plt \n",
      "# routlines for analyzing odes\n",
      "import analyzeGotran as ao"
     ],
     "language": "python",
     "metadata": {},
     "outputs": [],
     "prompt_number": 2
    },
    {
     "cell_type": "markdown",
     "metadata": {},
     "source": [
      "#### Simple run (no fitting)\n",
      "Here we perform a quick simulation to examine the default behavior of the code.\n",
      "Run the following: \n",
      "<code> \n",
      "$export ODEFILEfitted=microgliav48.ode\n",
      "$ python2.7 daisychain.py -dt 0.1 -dSr 1000 -jit -odeName $ODEFILEfitted -T 20e3 -iters 1 -var V_ptxs -0.06 -var stim_amplitude 100 -var stim_period 60e3 -var stim_gap1 50e3 -var        stim_gap2 50e3 -var stim_low 1e3 -var stim_high 10e3 -name test\n",
      "</code>\n",
      "This will spit out a file called test_cat.pickle"
     ]
    },
    {
     "cell_type": "code",
     "collapsed": false,
     "input": [
      "data = ao.readPickle(\"test_cat.pickle\")\n",
      "keys = [\"Q1_ptxf\", \"Q2_ptxf\",\"D3_ptxf\",\"D4_ptxf\" ]#,\"D3_ptxf \",\"D4_ptxf \"]\n",
      "fig,ax1=  plt.subplots(1)\n",
      "\n",
      "for key in keys:\n",
      "    \n",
      "    stateLabel = key#  + Q2_ptxf\"\n",
      "    subData = ao.GetData(data,stateLabel)\n",
      "    # data is stored as\n",
      "    # subData.t - time\n",
      "    # subData.valsIdx - values of 'stateLabel' state\n",
      "    ax1.plot(subData.t,subData.valsIdx, label=key)\n",
      "\n",
      "stateLabel = \"I_f\"\n",
      "subData = ao.GetData(data,stateLabel)\n",
      "ax2 = plt.twinx(ax1)\n",
      "ax2.plot(subData.t,-1*subData.valsIdx, \"k--\")\n",
      "ax2.set_ylabel(\"P2X current\")\n",
      "ax1.legend()\n",
      "plt.gcf().savefig(\"x.png\")\n"
     ],
     "language": "python",
     "metadata": {},
     "outputs": [
      {
       "output_type": "stream",
       "stream": "stdout",
       "text": [
        "Reading test_cat.pickle\n"
       ]
      },
      {
       "metadata": {},
       "output_type": "display_data",
       "png": "[encoded data removed]",
       "text": [
        "<matplotlib.figure.Figure at 0x7eff72b99050>"
       ]
      }
     ],
     "prompt_number": 11
    },
    {
     "cell_type": "markdown",
     "metadata": {},
     "source": [
      "#### Fitting the current to a single value (like a maximum current) \n",
      "For this first example, we'll assume we know that the peak current should be 6 pA \n",
      "<code>\n",
      "$python fittingAlgorithm.py -odeModel microgliav48.ode -fixedvars P2X4FitVar.yaml -myVariedParam k1_ptxf -variedParamTruthVal 1e-4 -timeStart 0e3 -jobDuration 20e3 -numRandomDraws 2  -numIters 2 -sigmaScaleRate 0.15 -outputParamName I -outputParamSearcher I_ptxf -outputParamMethod min -outputParamTruthVal -6e-9      -debug\n",
      "</code>\n",
      "\n",
      "- fixedVars YAML contains a set of parameter values that are supplied to the .ode file, but are NOT randomized. I use this to set the ATP profile characteristics, for instance\n",
      "- myVariedParam NAME defines the parameter I want to vary\n",
      "- variedParamTruthVal FLOAT defines the params starting value\n",
      "- timeStart FLOAT discards data before this timepoint\n",
      "- numRandomDraws INT  number of random draws per iteration (< #procs)\n",
      "- numIters INT number of iterations of search\n",
      "- sigmaScaleRate FLOAT controls rate at which 'range' of random variates decreases, as you hone in on a solution\n",
      "- outputParamSearcher ODESTATENAME provides the name of the output in the .ode file you want to analyze\n",
      "- outputParamMethod MIN/MAX/MEAN provides which quantity you want to compute from your output\n",
      "- outputParamTruthVal FLOAT value that you want to obtain \n",
      "\n",
      "If run from command line, you'll get an output like this:\n",
      "<code>\n",
      "           G12_ptxf            I   jobID jobNum       fitness\n",
      "0_3483  2.22064e-13 -4.86972e-09  0_3483      0  1.130285e-09\n",
      "1_3484  2.89325e-13  -6.3447e-09  1_3484      1  3.447005e-10\n",
      "jobFitnesses:  [  1.13028482e-09   3.44700454e-10]\n",
      "jobIndex:  1\n",
      "bestVarDict:  {'G12_ptxf': 2.8932524582876968e-13}\n",
      "iter 2  out of 2\n",
      "</code>\n",
      "\n",
      "In this case, the best value found so far is 2.89e-13 (higher in amplitude than what we started with, which makes sense since our current in pA was originally 5 and we wanted 6)\n"
     ]
    },
    {
     "cell_type": "markdown",
     "metadata": {},
     "source": [
      "#### 'Scalar' fitting within the notebook\n",
      "Below we'll do this in the notebook, which makes life a bit simpler "
     ]
    },
    {
     "cell_type": "code",
     "collapsed": false,
     "input": [
      "#python fittingAlgorithm.py \n",
      "import fittingAlgorithm as ga"
     ],
     "language": "python",
     "metadata": {},
     "outputs": [
      {
       "output_type": "stream",
       "stream": "stdout",
       "text": [
        "WARNING: ode idx is hardcoded\n"
       ]
      }
     ],
     "prompt_number": 3
    },
    {
     "cell_type": "markdown",
     "metadata": {},
     "source": [
      "Here we run everything. The best fit parameter is contained in results\n",
      "results['bestFitParam']"
     ]
    },
    {
     "cell_type": "code",
     "collapsed": false,
     "input": [
      "testState = \"I_s\"\n",
      "results = ga.run(\n",
      "    odeModel = \"microgliav52.ode\",\n",
      "    yamlVarFile = \"P2X7FitVar1000uM.yaml\" ,\n",
      "    myVariedParam = \"G12_ptxs\",\n",
      "    variedParamTruthVal = 2.145e-12  ,\n",
      "    timeStart = 1.5e3,\n",
      "    jobDuration = 15e3,\n",
      "    numRandomDraws = 2,\n",
      "    numIters = 2,\n",
      "    sigmaScaleRate = 0.15,\n",
      "    outputParamName = \"I\",\n",
      "    outputParamSearcher = testState,\n",
      "    outputParamMethod = \"min\",\n",
      "    outputParamTruthVal=-55e-9,\n",
      "    debug = True\n",
      ")"
     ],
     "language": "python",
     "metadata": {},
     "outputs": [
      {
       "output_type": "stream",
       "stream": "stdout",
       "text": [
        "\n",
        "WARNING: In debug mode. \n",
        "Fixing random seed\n",
        "\n",
        "timeRange:  [1.5, 15.0]\n",
        "iter 1  out of 2\n",
        "parmDict:  {'G12_ptxs': [2.145e-12, 0.2]}\n",
        "Inputs:  G12_ptxs 2.145e-12\n",
        "Using 2 cores for 2 jobs\n",
        "Should probably rescale sigma by the tolerated error vs current error\n",
        "Multi-threading\n"
       ]
      },
      {
       "output_type": "stream",
       "stream": "stdout",
       "text": [
        "result:  -7.45957237583e-08 truthValue:  -5.5e-08\n",
        "result:  -8.4381199752e-08 truthValue:  -5.5e-08\n",
        "myDataFrame: \n",
        "           G12_ptxs            I   jobID jobNum       fitness\n",
        "0_6728  2.47489e-12 -7.45957e-08  0_6728      0  1.959572e-08\n",
        "1_6729  2.79954e-12 -8.43812e-08  1_6729      1  2.938120e-08\n",
        "jobFitnesses:  [  1.95957238e-08   2.93811998e-08]\n",
        "jobIndex:  0\n",
        "previousDraw:  1.95957237583e-08\n",
        "bestVarDict:  {'G12_ptxs': 2.4748885068278773e-12}\n",
        "iter 1  out of 2\n",
        "\n",
        "######\n",
        "\n",
        "iter 2  out of 2\n",
        "parmDict:  {'G12_ptxs': [2.4748885068278773e-12, 0.2]}\n",
        "Inputs:  G12_ptxs 2.47488850683e-12\n",
        "Using 2 cores for 2 jobs\n",
        "Should probably rescale sigma by the tolerated error vs current error\n",
        "Multi-threading\n",
        "Worker bee 6728, Job 0 \n",
        "Worker bee 6729, Job 1 \n",
        "Loaded ODE model 'microgliav52' with:\n",
        "Loaded ODE model 'microgliav52' with:\n",
        "     Num full states: 42\n",
        "     Num full states: 42\n",
        "      Num parameters: 133\n",
        "      Num parameters: 133\n"
       ]
      },
      {
       "output_type": "stream",
       "stream": "stderr",
       "text": [
        "INFO:ModelParameters:Loaded ODE model 'microgliav52' with:\n",
        "INFO:ModelParameters:Loaded ODE model 'microgliav52' with:\n",
        "INFO:ModelParameters:     Num full states: 42\n",
        "INFO:ModelParameters:     Num full states: 42\n",
        "INFO:ModelParameters:      Num parameters: 133\n",
        "INFO:ModelParameters:      Num parameters: 133\n"
       ]
      },
      {
       "output_type": "stream",
       "stream": "stdout",
       "text": [
        "result:  -5.71714965639e-08 truthValue:  -5.5e-08\n",
        "result:  -7.44881436369e-08 truthValue:  -5.5e-08\n",
        "myDataFrame: \n",
        "           G12_ptxs            I   jobID jobNum       fitness\n",
        "0_6749   1.8968e-12 -5.71715e-08  0_6749      0  2.171497e-09\n",
        "1_6750  2.47132e-12 -7.44881e-08  1_6750      1  1.948814e-08Worker bee 6749, Job 0 \n",
        "Worker bee 6750, Job 1 \n",
        "Loaded ODE model 'microgliav52' with:\n",
        "Loaded ODE model 'microgliav52' with:\n",
        "     Num full states: 42\n",
        "     Num full states: 42\n",
        "      Num parameters: 133\n",
        "      Num parameters: 133\n"
       ]
      },
      {
       "output_type": "stream",
       "stream": "stdout",
       "text": [
        "\n",
        "jobFitnesses:  [  2.17149656e-09   1.94881436e-08]\n",
        "jobIndex:  0\n",
        "bestVarDict:  {'G12_ptxs': 1.8967988995768183e-12}\n",
        "iter 2  out of 2\n",
        "\n",
        "######\n",
        "\n",
        "Best fit parameter 1.89679889958e-12\n",
        "Leaving!!\n",
        "Worker bee 6522, Job 0 \n",
        "Loaded ODE model 'microgliav52' with:\n"
       ]
      },
      {
       "output_type": "stream",
       "stream": "stderr",
       "text": [
        "INFO:ModelParameters:Loaded ODE model 'microgliav52' with:\n",
        "INFO:ModelParameters:Loaded ODE model 'microgliav52' with:\n",
        "INFO:ModelParameters:Loaded ODE model 'microgliav52' with:\n",
        "INFO:ModelParameters:     Num full states: 42\n",
        "INFO:ModelParameters:     Num full states: 42\n",
        "INFO:ModelParameters:      Num parameters: 133\n",
        "INFO:ModelParameters:      Num parameters: 133\n"
       ]
      },
      {
       "output_type": "stream",
       "stream": "stdout",
       "text": [
        "     Num full states: 42\n"
       ]
      },
      {
       "output_type": "stream",
       "stream": "stderr",
       "text": [
        "INFO:ModelParameters:     Num full states: 42\n"
       ]
      },
      {
       "output_type": "stream",
       "stream": "stdout",
       "text": [
        "      Num parameters: 133\n"
       ]
      },
      {
       "output_type": "stream",
       "stream": "stderr",
       "text": [
        "INFO:ModelParameters:      Num parameters: 133\n"
       ]
      },
      {
       "metadata": {},
       "output_type": "display_data",
       "png": "[encoded data removed]",
       "text": [
        "<matplotlib.figure.Figure at 0x7fe344702dd0>"
       ]
      }
     ],
     "prompt_number": 5
    },
    {
     "cell_type": "markdown",
     "metadata": {},
     "source": [
      "### Fitting a time-dependent profile (vector) \n",
      "A more complicated example in which a time-dependent profile is compared.\n",
      "Below we first load the reference data \n",
      "\n",
      "<font color=red>\n",
      "WARNING: I'm rescaling the Toulme data by a factor of 30, since their transgenic model behaves as if it is activated and we'd like values more apporpriate for resting glia. The 1e-9 factor is for converting into C/s \n",
      "</font>\n"
     ]
    },
    {
     "cell_type": "code",
     "collapsed": false,
     "input": [
      "import numpy as np\n",
      "t1=np.array([0,1.146496815,3.184713376,12.3566879,14.26751592])\n",
      "y1=np.array([0,-46.05263158,-55.26315789,-36.84210526,0])*10**-9\n",
      "plt.plot(t1,y1)"
     ],
     "language": "python",
     "metadata": {},
     "outputs": [
      {
       "metadata": {},
       "output_type": "pyout",
       "prompt_number": 6,
       "text": [
        "[<matplotlib.lines.Line2D at 0x7fe3443fde10>]"
       ]
      },
      {
       "metadata": {},
       "output_type": "display_data",
       "png": "[encoded data removed]",
       "text": [
        "<matplotlib.figure.Figure at 0x7fe33c899590>"
       ]
      }
     ],
     "prompt_number": 6
    },
    {
     "cell_type": "markdown",
     "metadata": {},
     "source": [
      "We chose an offset to account for any difference between the exp. data and when the channel fires in our data. This took some playing around. Easiest to debug this when looking at the best fit graph at the end of the calculation. Also, I interpolated the experimental over about 10 s. Need to also play around with interpolation points too so they fairly approximate the complete data "
     ]
    },
    {
     "cell_type": "code",
     "collapsed": false,
     "input": [
      "\n",
      "expInterpTs = np.linspace(0,12,10)  # point at t=0 was pretty bad\n",
      "expInterpVals = np.interp(expInterpTs,t1,y1)\n",
      "plt.plot(t1,y1)\n",
      "plt.scatter(expInterpTs,expInterpVals)\n",
      "\n",
      "\n",
      "# here I apply the offset to align with the model predictions\n",
      "# also the exptl data is in seconds \n",
      "expInterpTs*= 1e3\n",
      "offset = 1.55e3 # ms\n",
      "expInterpTs+= offset"
     ],
     "language": "python",
     "metadata": {},
     "outputs": [
      {
       "metadata": {},
       "output_type": "display_data",
       "png": "[encoded data removed]",
       "text": [
        "<matplotlib.figure.Figure at 0x7fe34408b690>"
       ]
      }
     ],
     "prompt_number": 10
    },
    {
     "cell_type": "code",
     "collapsed": false,
     "input": [
      "print offset\n",
      "print expInterpTs\n",
      "print expInterpVals"
     ],
     "language": "python",
     "metadata": {},
     "outputs": [
      {
       "output_type": "stream",
       "stream": "stdout",
       "text": [
        "1550.0\n",
        "[  1550.           2883.33333333   4216.66666667   5550.           6883.33333333\n",
        "   8216.66666667   9550.          10883.33333333  12216.66666667  13550.        ]\n",
        "[  0.00000000e+00  -4.68969298e-08  -5.29221491e-08  -5.36257310e-08\n",
        "  -5.09478557e-08  -4.82699805e-08  -4.55921053e-08  -4.29142300e-08\n",
        "  -4.02363548e-08  -3.75584795e-08]\n"
       ]
      }
     ],
     "prompt_number": 11
    },
    {
     "cell_type": "code",
     "collapsed": false,
     "input": [
      "testState = \"I_s\"\n",
      "\n",
      "results = ga.run(\n",
      "    odeModel = \"microgliav53.ode\",\n",
      "    yamlVarFile = \"P2X7FitVar1000uM.yaml\" ,\n",
      "    myVariedParam = \"k4_ptxs\",\n",
      "    variedParamTruthVal = 1  , # was 2.22e-13 in code, but bumping it up a bit\n",
      "    timeStart = offset,\n",
      "    jobDuration = 15e3,\n",
      "    numRandomDraws = 2,\n",
      "    numIters = 3,\n",
      "    sigmaScaleRate = 0.15,\n",
      "    outputParamName = \"I\",\n",
      "    outputParamSearcher = testState,\n",
      "    outputParamMethod = \"val_vs_time\",\n",
      "    outputParamTruthTimes=expInterpTs,\n",
      "    outputParamTruthVal=expInterpVals,\n",
      "    debug = True\n",
      ")"
     ],
     "language": "python",
     "metadata": {},
     "outputs": [
      {
       "output_type": "stream",
       "stream": "stdout",
       "text": [
        "\n",
        "WARNING: In debug mode. \n",
        "Fixing random seed\n",
        "\n",
        "timeRange:  [1.55, 15.0]\n",
        "iter 1  out of 3\n",
        "parmDict:  {'k4_ptxs': [1, 0.2]}\n",
        "Inputs:  k4_ptxs 1\n",
        "Using 2 cores for 2 jobs\n",
        "Should probably rescale sigma by the tolerated error vs current error\n",
        "Multi-threading\n"
       ]
      },
      {
       "output_type": "stream",
       "stream": "stdout",
       "text": [
        "result:  [ -6.12648391e-10  -5.08179379e-08  -5.21677787e-08  -4.82487686e-08\n",
        "  -4.42922504e-08  -4.06303168e-08  -3.72681433e-08  -3.41842798e-08\n",
        "  -1.28685130e-08  -2.20026171e-09] truthValue:  [  0.00000000e+00  -4.68969298e-08  -5.29221491e-08  -5.36257310e-08\n",
        "  -5.09478557e-08  -4.82699805e-08  -4.55921053e-08  -4.29142300e-08\n",
        "  -4.02363548e-08  -3.75584795e-08]\n",
        "result:  [ -6.89561761e-10  -5.36655687e-08  -5.47296392e-08  -5.07024175e-08\n",
        "  -4.66634474e-08  -4.29194349e-08  -3.94732331e-08  -3.63038622e-08\n",
        "  -1.36844127e-08  -2.33931812e-09] truthValue:  [  0.00000000e+00  -4.68969298e-08  -5.29221491e-08  -5.36257310e-08\n",
        "  -5.09478557e-08  -4.82699805e-08  -4.55921053e-08  -4.29142300e-08\n",
        "  -4.02363548e-08  -3.75584795e-08]\n",
        "myDataFrame: \n",
        "                                                         I    jobID jobNum  \\\n",
        "0_15523  [-6.12648391431e-10, -5.08179378701e-08, -5.21...  0_15523      0   \n",
        "1_15524  [-6.89561760836e-10, -5.36655686877e-08, -5.47...  1_15524      1   \n",
        "\n",
        "         k4_ptxs       fitness  \n",
        "0_15523  1.15379  4.788105e-08  \n",
        "1_15524  1.30515  4.616947e-08  \n",
        "jobFitnesses:  [  4.78810473e-08   4.61694678e-08]\n",
        "jobIndex:  1\n",
        "previousDraw:  4.61694678327e-08\n",
        "bestVarDict:  {'k4_ptxs': 1.3051491178858237}\n",
        "iter 1  out of 3\n",
        "\n",
        "######\n",
        "\n",
        "iter 2  out of 3\n",
        "parmDict:  {'k4_ptxs': [1.3051491178858237, 0.2]}\n",
        "Inputs:  k4_ptxs 1.30514911789\n",
        "Using 2 cores for 2 jobs\n",
        "Should probably rescale sigma by the tolerated error vs current error\n",
        "Multi-threading\n",
        "Worker bee 15523, Job 0 \n",
        "Worker bee 15524, Job 1 \n",
        "Loaded ODE model 'microgliav53' with:\n",
        "Loaded ODE model 'microgliav53' with:\n",
        "     Num full states: 42\n",
        "     Num full states: 42\n",
        "      Num parameters: 130\n",
        "      Num parameters: 130\n",
        "Calling GOTRAN just-in-time (JIT) compiler, this may take some time...Calling GOTRAN just-in-time (JIT) compiler, this may take some time... done\n",
        " done\n"
       ]
      },
      {
       "output_type": "stream",
       "stream": "stderr",
       "text": [
        "INFO:ModelParameters:Loaded ODE model 'microgliav53' with:\n",
        "INFO:ModelParameters:Loaded ODE model 'microgliav53' with:\n",
        "INFO:ModelParameters:     Num full states: 42\n",
        "INFO:ModelParameters:     Num full states: 42\n",
        "INFO:ModelParameters:      Num parameters: 130\n",
        "INFO:ModelParameters:      Num parameters: 130\n",
        "INFO:ModelParameters:Calling GOTRAN just-in-time (JIT) compiler, this may take some time...\n",
        "INFO:ModelParameters:Calling GOTRAN just-in-time (JIT) compiler, this may take some time...\n",
        "In instant.build_module: Path '/home/AD/bch265/.cache/instant/python2.7/cache/gotran_compiled_module_Microgliav53_21037e0aa1156da8f8e12f22304f354a224715cf' already exists, but module wasn't found in cache previously. Not overwriting, assuming this module is valid.\n",
        "INFO:ModelParameters: done\n",
        "WARNING:instant:In instant.build_module: Path '/home/AD/bch265/.cache/instant/python2.7/cache/gotran_compiled_module_Microgliav53_21037e0aa1156da8f8e12f22304f354a224715cf' already exists, but module wasn't found in cache previously. Not overwriting, assuming this module is valid.\n",
        "INFO:ModelParameters: done\n"
       ]
      },
      {
       "output_type": "stream",
       "stream": "stdout",
       "text": [
        "result:  [ -5.33845017e-10  -4.74452892e-08  -4.91240107e-08  -4.53517038e-08\n",
        "  -4.15068116e-08  -3.79539396e-08  -3.47016233e-08  -3.17280378e-08\n",
        "  -1.19254165e-08  -2.03947101e-09] truthValue:  [  0.00000000e+00  -4.68969298e-08  -5.29221491e-08  -5.36257310e-08\n",
        "  -5.09478557e-08  -4.82699805e-08  -4.55921053e-08  -4.29142300e-08\n",
        "  -4.02363548e-08  -3.75584795e-08]\n",
        "result:  [ -6.88610028e-10  -5.36326786e-08  -5.47000644e-08  -5.06740113e-08\n",
        "  -4.66359345e-08  -4.28928186e-08  -3.94475422e-08  -3.62791196e-08\n",
        "  -1.36748775e-08  -2.33769303e-09] truthValue:  [  0.00000000e+00  -4.68969298e-08  -5.29221491e-08  -5.36257310e-08\n",
        "  -5.09478557e-08  -4.82699805e-08  -4.55921053e-08  -4.29142300e-08\n",
        "  -4.02363548e-08  -3.75584795e-08]\n",
        "myDataFrame: \n",
        "                                                         I    jobID jobNum  \\\n",
        "0_15565  [-5.33845017276e-10, -4.74452892489e-08, -4.91...  0_15565      0   \n",
        "1_15566  [-6.8861002791e-10, -5.36326786243e-08, -5.470...  1_15566      1   \n",
        "\n",
        "         k4_ptxs       fitness  \n",
        "0_15565  1.00029  5.085143e-08  \n",
        "1_15566  1.30327  4.618464e-08  \n",
        "jobFitnesses:  [  5.08514284e-08   4.61846391e-08]\n",
        "jobIndex:  1\n",
        "Old draw is better starting point, not overwriting starting point\n",
        "iter 2  out of 3\n",
        "\n",
        "######\n",
        "\n",
        "iter 3  out of 3\n",
        "parmDict:  {'k4_ptxs': [1.3051491178858237, 0.2]}\n",
        "Inputs:  k4_ptxs 1.30514911789\n",
        "Using 2 cores for 2 jobs\n",
        "Should probably rescale sigma by the tolerated error vs current error\n",
        "Multi-threading\n",
        "Worker bee 15565, Job 0 \n",
        "Worker bee 15566, Job 1 \n",
        "Loaded ODE model 'microgliav53' with:\n",
        "Loaded ODE model 'microgliav53' with:\n",
        "     Num full states: 42\n",
        "     Num full states: 42\n",
        "      Num parameters: 130\n",
        "      Num parameters: 130\n"
       ]
      },
      {
       "output_type": "stream",
       "stream": "stderr",
       "text": [
        "INFO:ModelParameters:Loaded ODE model 'microgliav53' with:\n",
        "INFO:ModelParameters:Loaded ODE model 'microgliav53' with:\n",
        "INFO:ModelParameters:     Num full states: 42\n",
        "INFO:ModelParameters:     Num full states: 42\n",
        "INFO:ModelParameters:      Num parameters: 130\n",
        "INFO:ModelParameters:      Num parameters: 130\n"
       ]
      },
      {
       "output_type": "stream",
       "stream": "stdout",
       "text": [
        "result:  [ -6.22488459e-10  -5.12048977e-08  -5.25161683e-08  -4.85816164e-08\n",
        "  -4.46132712e-08  -4.09396527e-08  -3.75655963e-08  -3.44697078e-08\n",
        "  -1.29782716e-08  -2.21897024e-09] truthValue:  [  0.00000000e+00  -4.68969298e-08  -5.29221491e-08  -5.36257310e-08\n",
        "  -5.09478557e-08  -4.82699805e-08  -4.55921053e-08  -4.29142300e-08\n",
        "  -4.02363548e-08  -3.75584795e-08]\n",
        "result:  [ -7.52928878e-10  -5.57375114e-08  -5.65931180e-08  -5.24959755e-08\n",
        "  -4.84035848e-08  -4.46054716e-08  -4.11030620e-08  -3.78757954e-08\n",
        "  -1.42907811e-08  -2.44263314e-09] truthValue:  [  0.00000000e+00  -4.68969298e-08  -5.29221491e-08  -5.36257310e-08\n",
        "  -5.09478557e-08  -4.82699805e-08  -4.55921053e-08  -4.29142300e-08\n",
        "  -4.02363548e-08  -3.75584795e-08]\n",
        "myDataFrame: \n",
        "                                                         I    jobID jobNum  \\\n",
        "0_15644  [-6.22488459327e-10, -5.12048976898e-08, -5.25...  0_15644      0   \n",
        "1_15645  [-7.52928878043e-10, -5.57375114166e-08, -5.65...  1_15645      1   \n",
        "\n",
        "         k4_ptxs       fitness  \n",
        "0_15644  1.17307  4.760287e-08  \n",
        "1_15645    1.431  4.544458e-08  \n",
        "jobFitnesses:  [  4.76028726e-08   4.54445803e-08]\n",
        "jobIndex:  1\n",
        "bestVarDict:  {'k4_ptxs': 1.4310045826076905}\n",
        "iter 3  out of 3\n",
        "\n",
        "######\n",
        "\n",
        "Best fit parameter 1.43100458261\n",
        "Leaving!!\n",
        "Worker bee 6522, Job 0 \n",
        "Loaded ODE model 'microgliav53' with:\n",
        "Worker bee 15644, Job 0 \n",
        "Worker bee 15645, Job 1 \n",
        "Loaded ODE model 'microgliav53' with:\n",
        "Loaded ODE model 'microgliav53' with:\n",
        "     Num full states: 42\n",
        "     Num full states: 42\n",
        "      Num parameters: 130\n",
        "      Num parameters: 130\n"
       ]
      },
      {
       "output_type": "stream",
       "stream": "stderr",
       "text": [
        "INFO:ModelParameters:Loaded ODE model 'microgliav53' with:\n",
        "INFO:ModelParameters:Loaded ODE model 'microgliav53' with:\n",
        "INFO:ModelParameters:Loaded ODE model 'microgliav53' with:\n",
        "INFO:ModelParameters:     Num full states: 42\n",
        "INFO:ModelParameters:     Num full states: 42\n",
        "INFO:ModelParameters:      Num parameters: 130\n",
        "INFO:ModelParameters:      Num parameters: 130\n"
       ]
      },
      {
       "output_type": "stream",
       "stream": "stdout",
       "text": [
        "     Num full states: 42\n"
       ]
      },
      {
       "output_type": "stream",
       "stream": "stderr",
       "text": [
        "INFO:ModelParameters:     Num full states: 42\n"
       ]
      },
      {
       "output_type": "stream",
       "stream": "stdout",
       "text": [
        "      Num parameters: 130\n"
       ]
      },
      {
       "output_type": "stream",
       "stream": "stderr",
       "text": [
        "INFO:ModelParameters:      Num parameters: 130\n"
       ]
      },
      {
       "metadata": {},
       "output_type": "display_data",
       "png": "[encoded data removed]",
       "text": [
        "<matplotlib.figure.Figure at 0x7fe34455b6d0>"
       ]
      }
     ],
     "prompt_number": 26
    },
    {
     "cell_type": "markdown",
     "metadata": {},
     "source": [
      "Should you wish to compare the results on your own, you can run the following. \n",
      "The code saves a figure like this automatically though"
     ]
    },
    {
     "cell_type": "code",
     "collapsed": false,
     "input": [
      "#print results['outputList']['I'].timeInterpolations\n",
      "data = results['data']\n",
      "#data = aG.readPickle(\"test_cat.pickle\")\n",
      "stateLabel = \"I_ptxf\"\n",
      "subData = aG.GetData(data,stateLabel)\n",
      "i=0\n",
      "ts = subData.t[i:]\n",
      "vals = subData.valsIdx[i:]\n",
      "print np.shape(subData.valsIdx)\n",
      "\n",
      "#normedPred = vals/np.min(vals)\n",
      "plt.plot(ts,vals,label=\"pred\")\n",
      "\n",
      "plt.scatter(expInterpTs, expInterpVals)\n"
     ],
     "language": "python",
     "metadata": {},
     "outputs": [
      {
       "output_type": "stream",
       "stream": "stdout",
       "text": [
        "(200001,)\n"
       ]
      },
      {
       "metadata": {},
       "output_type": "pyout",
       "prompt_number": 10,
       "text": [
        "<matplotlib.collections.PathCollection at 0x7f07002a4210>"
       ]
      },
      {
       "metadata": {},
       "output_type": "display_data",
       "png": "[encoded data removed]",
       "text": [
        "<matplotlib.figure.Figure at 0x7f07003a91d0>"
       ]
      }
     ],
     "prompt_number": 10
    }
   ],
   "metadata": {}
  }
 ]
}