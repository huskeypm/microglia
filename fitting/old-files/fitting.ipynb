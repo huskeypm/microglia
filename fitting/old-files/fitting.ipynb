{
 "cells": [
  {
   "cell_type": "markdown",
   "metadata": {},
   "source": [
    "### Genetic alg fitting.\n",
    "This notebook is used for fitting currents, etc via the genetic algorithm "
   ]
  },
  {
   "cell_type": "markdown",
   "metadata": {},
   "source": [
    "<code>\n",
    "source ../configgotran.bash \n",
    "</code>"
   ]
  },
  {
   "cell_type": "code",
   "execution_count": 1,
   "metadata": {},
   "outputs": [],
   "source": [
    "%matplotlib inline\n",
    "%load_ext autoreload\n",
    "%autoreload 2"
   ]
  },
  {
   "cell_type": "code",
   "execution_count": 2,
   "metadata": {},
   "outputs": [],
   "source": [
    "import matplotlib.pylab as plt \n",
    "# routlines for analyzing odes\n",
    "import analyzeGotran as aG"
   ]
  },
  {
   "cell_type": "markdown",
   "metadata": {},
   "source": [
    "#### Simple run (no fitting)\n",
    "Here we perform a quick simulation to examine the default behavior of the code.\n",
    "Run the following: \n",
    "<code> \n",
    "$export ODEFILEfitted=microgliav48.ode\n",
    "$ python2.7 daisychain.py -dt 0.1 -dSr 1000 -jit -odeName $ODEFILEfitted -T 20e3 -iters 1 -var V_ptxs -0.06 -var stim_amplitude 100 -var stim_period 60e3 -var stim_gap1 50e3 -var        stim_gap2 50e3 -var stim_low 1e3 -var stim_high 10e3 -name test\n",
    "</code>\n",
    "This will spit out a file called test_cat.pickle"
   ]
  },
  {
   "cell_type": "code",
   "execution_count": 3,
   "metadata": {},
   "outputs": [
    {
     "name": "stdout",
     "output_type": "stream",
     "text": [
      "Reading test_cat.pickle\n"
     ]
    },
    {
     "data": {
      "image/png": "[encoded data removed]",
      "text/plain": [
       "<matplotlib.figure.Figure at 0x7f071622ecd0>"
      ]
     },
     "metadata": {},
     "output_type": "display_data"
    }
   ],
   "source": [
    "data = aG.readPickle(\"test_cat.pickle\")\n",
    "keys = [\"Q1_ptxf\", \"Q2_ptxf\",\"D3_ptxf\",\"D4_ptxf\" ]#,\"D3_ptxf \",\"D4_ptxf \"]\n",
    "fig,ax1=  plt.subplots(1)\n",
    "\n",
    "for key in keys:\n",
    "    \n",
    "    stateLabel = key#  + Q2_ptxf\"\n",
    "    subData = aG.GetData(data,stateLabel)\n",
    "    # data is stored as\n",
    "    # subData.t - time\n",
    "    # subData.valsIdx - values of 'stateLabel' state\n",
    "    ax1.plot(subData.t,subData.valsIdx, label=key)\n",
    "\n",
    "stateLabel = \"I_ptxf\"\n",
    "subData = aG.GetData(data,stateLabel)\n",
    "ax2 = plt.twinx(ax1)\n",
    "ax2.plot(subData.t,-1*subData.valsIdx, \"k--\")\n",
    "ax2.set_ylabel(\"P2X current\")\n",
    "ax1.legend()\n",
    "plt.gcf().savefig(\"x.png\")\n"
   ]
  },
  {
   "cell_type": "markdown",
   "metadata": {},
   "source": [
    "#### Fitting the current to a single value (like a maximum current) \n",
    "For this first example, we'll assume we know that the peak current should be 6 pA \n",
    "<code>\n",
    "$python fittingAlgorithm.py -odeModel microgliav48.ode -fixedvars P2X4FitVar.yaml -myVariedParam k1_ptxf -variedParamTruthVal 1e-4 -timeStart 0e3 -jobDuration 20e3 -numRandomDraws 2  -numIters 2 -sigmaScaleRate 0.15 -outputParamName I -outputParamSearcher I_ptxf -outputParamMethod min -outputParamTruthVal -6e-9      -debug\n",
    "</code>\n",
    "\n",
    "- fixedVars YAML contains a set of parameter values that are supplied to the .ode file, but are NOT randomized. I use this to set the ATP profile characteristics, for instance\n",
    "- myVariedParam NAME defines the parameter I want to vary\n",
    "- variedParamTruthVal FLOAT defines the params starting value\n",
    "- timeStart FLOAT discards data before this timepoint\n",
    "- numRandomDraws INT  number of random draws per iteration (< #procs)\n",
    "- numIters INT number of iterations of search\n",
    "- sigmaScaleRate FLOAT controls rate at which 'range' of random variates decreases, as you hone in on a solution\n",
    "- outputParamSearcher ODESTATENAME provides the name of the output in the .ode file you want to analyze\n",
    "- outputParamMethod MIN/MAX/MEAN provides which quantity you want to compute from your output\n",
    "- outputParamTruthVal FLOAT value that you want to obtain \n",
    "\n",
    "If run from command line, you'll get an output like this:\n",
    "<code>\n",
    "           G12_ptxf            I   jobID jobNum       fitness\n",
    "0_3483  2.22064e-13 -4.86972e-09  0_3483      0  1.130285e-09\n",
    "1_3484  2.89325e-13  -6.3447e-09  1_3484      1  3.447005e-10\n",
    "jobFitnesses:  [  1.13028482e-09   3.44700454e-10]\n",
    "jobIndex:  1\n",
    "bestVarDict:  {'G12_ptxf': 2.8932524582876968e-13}\n",
    "iter 2  out of 2\n",
    "</code>\n",
    "\n",
    "In this case, the best value found so far is 2.89e-13 (higher in amplitude than what we started with, which makes sense since our current in pA was originally 5 and we wanted 6)\n"
   ]
  },
  {
   "cell_type": "markdown",
   "metadata": {},
   "source": [
    "#### 'Scalar' fitting within the notebook\n",
    "Below we'll do this in the notebook, which makes life a bit simpler "
   ]
  },
  {
   "cell_type": "code",
   "execution_count": 4,
   "metadata": {},
   "outputs": [
    {
     "name": "stdout",
     "output_type": "stream",
     "text": [
      "WARNING: ode idx is hardcoded\n"
     ]
    }
   ],
   "source": [
    "#python fittingAlgorithm.py \n",
    "import fittingAlgorithm as ga"
   ]
  },
  {
   "cell_type": "markdown",
   "metadata": {},
   "source": [
    "Here we run everything. The best fit parameter is contained in results\n",
    "results['bestFitParam']"
   ]
  },
  {
   "cell_type": "code",
   "execution_count": 5,
   "metadata": {},
   "outputs": [
    {
     "name": "stdout",
     "output_type": "stream",
     "text": [
      "\n",
      "WARNING: In debug mode. \n",
      "Fixing random seed\n",
      "\n",
      "timeRange:  [1.5, 20.0]\n",
      "iter 1  out of 1\n",
      "parmDict:  {'G12_ptxf': [2.22e-13, 0.2]}\n",
      "Inputs:  G12_ptxf 2.22e-13\n",
      "Using 2 cores for 2 jobs\n",
      "Should probably rescale sigma by the tolerated error vs current error\n",
      "Multi-threading\n",
      "result:  -5.61702199489e-09 truthValue:  -6e-09\n",
      "result:  -6.35386401374e-09 truthValue:  -6e-09\n",
      "myDataFrame: \n",
      "            G12_ptxf            I    jobID jobNum       fitness\n",
      "0_22548  2.56142e-13 -5.61702e-09  0_22548      0  3.829780e-10\n",
      "1_22549  2.89743e-13 -6.35386e-09  1_22549      1  3.538640e-10\n",
      "jobFitnesses:  [  3.82978005e-10   3.53864014e-10]\n",
      "jobIndex:  1\n",
      "previousDraw:  3.53864013737e-10\n",
      "bestVarDict:  {'G12_ptxf': 2.8974310417065284e-13}\n",
      "iter 1  out of 1\n",
      "\n",
      "######\n",
      "\n",
      "Best fit parameter 2.89743104171e-13\n",
      "Leaving!!\n",
      "Worker bee 22524, Job 0 \n",
      "Loaded ODE model 'microgliav48' with:\n",
      "Worker bee 22548, Job 0 \n",
      "Worker bee 22549, Job 1 \n",
      "Loaded ODE model 'microgliav48' with:\n",
      "Loaded ODE model 'microgliav48' with:\n",
      "     Num full states: 41\n",
      "     Num full states: 41\n",
      "      Num parameters: 129\n",
      "      Num parameters: 129\n"
     ]
    },
    {
     "name": "stderr",
     "output_type": "stream",
     "text": [
      "INFO:ModelParameters:Loaded ODE model 'microgliav48' with:\n",
      "INFO:ModelParameters:Loaded ODE model 'microgliav48' with:\n",
      "INFO:ModelParameters:Loaded ODE model 'microgliav48' with:\n",
      "INFO:ModelParameters:     Num full states: 41\n",
      "INFO:ModelParameters:     Num full states: 41\n",
      "INFO:ModelParameters:      Num parameters: 129\n",
      "INFO:ModelParameters:      Num parameters: 129\n"
     ]
    },
    {
     "name": "stdout",
     "output_type": "stream",
     "text": [
      "     Num full states: 41\n"
     ]
    },
    {
     "name": "stderr",
     "output_type": "stream",
     "text": [
      "INFO:ModelParameters:     Num full states: 41\n"
     ]
    },
    {
     "name": "stdout",
     "output_type": "stream",
     "text": [
      "      Num parameters: 129\n"
     ]
    },
    {
     "name": "stderr",
     "output_type": "stream",
     "text": [
      "INFO:ModelParameters:      Num parameters: 129\n"
     ]
    },
    {
     "data": {
      "image/png": "[encoded data removed]",
      "text/plain": [
       "<matplotlib.figure.Figure at 0x7f071cfa4810>"
      ]
     },
     "metadata": {},
     "output_type": "display_data"
    }
   ],
   "source": [
    "testState = \"I_ptxf\"\n",
    "results = ga.run(\n",
    "    odeModel = \"microgliav48.ode\",\n",
    "    yamlVarFile = \"P2X4FitVar.yaml\" ,\n",
    "    myVariedParam = \"G12_ptxf\",\n",
    "    variedParamTruthVal = 2.22e-13  ,\n",
    "    timeStart = 1.5e3,\n",
    "    jobDuration = 20e3,\n",
    "    numRandomDraws = 2,\n",
    "    numIters = 1,\n",
    "    sigmaScaleRate = 0.15,\n",
    "    outputParamName = \"I\",\n",
    "    outputParamSearcher = testState,\n",
    "    outputParamMethod = \"min\",\n",
    "    outputParamTruthVal=-6e-9,\n",
    "    debug = True\n",
    ")"
   ]
  },
  {
   "cell_type": "markdown",
   "metadata": {},
   "source": [
    "### Fitting a time-dependent profile (vector) \n",
    "A more complicated example in which a time-dependent profile is compared.\n",
    "Below we first load the reference data \n",
    "\n",
    "<font color=red>\n",
    "WARNING: I'm rescaling the Toulme data by a factor of 40, since their transgenic model behaves as if it is activated and we'd like values more apporpriate for resting glia. The 1e-9 factor is for converting into uC/ms <--- PLease verify\n",
    "</font>\n"
   ]
  },
  {
   "cell_type": "code",
   "execution_count": 6,
   "metadata": {},
   "outputs": [
    {
     "data": {
      "text/plain": [
       "[<matplotlib.lines.Line2D at 0x7f070039f2d0>]"
      ]
     },
     "execution_count": 6,
     "metadata": {},
     "output_type": "execute_result"
    },
    {
     "data": {
      "image/png": "[encoded data removed]",
      "text/plain": [
       "<matplotlib.figure.Figure at 0x7f0702683ed0>"
      ]
     },
     "metadata": {},
     "output_type": "display_data"
    }
   ],
   "source": [
    "scale = 1/30. * 1e-9\n",
    "expdata = np.loadtxt(\"../validation/Toulme2012_Fig6c.csv\",skiprows=4, delimiter=\",\")\n",
    "expdata[:,1]*=scale\n",
    "plt.plot(expdata[:,0],expdata[:,1])"
   ]
  },
  {
   "cell_type": "markdown",
   "metadata": {},
   "source": [
    "We chose an offset to account for any difference between the exp. data and when the channel fires in our data. This took some playing around. Easiest to debug this when looking at the best fit graph at the end of the calculation. Also, I interpolated the experimental over about 10 s. Need to also play around with interpolation points too so they fairly approximate the complete data "
   ]
  },
  {
   "cell_type": "code",
   "execution_count": 7,
   "metadata": {},
   "outputs": [
    {
     "data": {
      "image/png": "[encoded data removed]",
      "text/plain": [
       "<matplotlib.figure.Figure at 0x7f07003e1710>"
      ]
     },
     "metadata": {},
     "output_type": "display_data"
    }
   ],
   "source": [
    "\n",
    "expInterpTs = np.linspace(0.3,10,4)  # point at t=0 was pretty bad\n",
    "expInterpVals = np.interp(expInterpTs,expdata[:,0],expdata[:,1])\n",
    "plt.plot(expdata[:,0],expdata[:,1])\n",
    "plt.scatter(expInterpTs,expInterpVals)\n",
    "\n",
    "\n",
    "# here I apply the offset to align with the model predictions\n",
    "# also the exptl data is in seconds \n",
    "expInterpTs*= 1e3\n",
    "offset = 1.55e3 # ms\n",
    "expInterpTs+= offset"
   ]
  },
  {
   "cell_type": "code",
   "execution_count": 8,
   "metadata": {},
   "outputs": [
    {
     "name": "stdout",
     "output_type": "stream",
     "text": [
      "1550.0\n",
      "[  1850.           5083.33333333   8316.66666667  11550.        ]\n",
      "[ -1.20281992e-08  -6.99941340e-09  -4.57058278e-09  -3.13184584e-09]\n"
     ]
    }
   ],
   "source": [
    "print offset\n",
    "print expInterpTs\n",
    "print expInterpVals"
   ]
  },
  {
   "cell_type": "code",
   "execution_count": 9,
   "metadata": {},
   "outputs": [
    {
     "name": "stdout",
     "output_type": "stream",
     "text": [
      "\n",
      "WARNING: In debug mode. \n",
      "Fixing random seed\n",
      "\n",
      "timeRange:  [1.55, 20.0]\n",
      "iter 1  out of 1\n",
      "parmDict:  {'G12_ptxf': [4.22e-13, 0.2]}\n",
      "Inputs:  G12_ptxf 4.22e-13\n",
      "Using 2 cores for 2 jobs\n",
      "Should probably rescale sigma by the tolerated error vs current error\n",
      "Multi-threading\n",
      "result:  [ -1.03170293e-08  -6.56378128e-09  -4.37276149e-09  -2.85919941e-09] truthValue:  [ -1.20281992e-08  -6.99941340e-09  -4.57058278e-09  -3.13184584e-09]\n",
      "result:  [ -1.16704192e-08  -7.42481937e-09  -4.94638118e-09  -3.23426900e-09] truthValue:  [ -1.20281992e-08  -6.99941340e-09  -4.57058278e-09  -3.13184584e-09]\n",
      "myDataFrame: \n",
      "            G12_ptxf                                                  I  \\\n",
      "0_22577  4.86901e-13  [-1.0317029318e-08, -6.56378127624e-09, -4.372...   \n",
      "1_22578  5.50773e-13  [-1.16704191836e-08, -7.42481936714e-09, -4.94...   \n",
      "\n",
      "           jobID jobNum       fitness  \n",
      "0_22577  0_22577      0  1.797595e-09  \n",
      "1_22578  1_22578      1  6.787428e-10  \n",
      "jobFitnesses:  [  1.79759483e-09   6.78742768e-10]\n",
      "jobIndex:  1\n",
      "previousDraw:  6.78742768088e-10\n",
      "bestVarDict:  {'G12_ptxf': 5.5077292774781761e-13}\n",
      "iter 1  out of 1\n",
      "\n",
      "######\n",
      "\n",
      "Best fit parameter 5.50772927748e-13\n",
      "Leaving!!\n",
      "Worker bee 22524, Job 0 \n",
      "Loaded ODE model 'microgliav48' with:\n",
      "Worker bee 22577, Job 0 \n",
      "Worker bee 22578, Job 1 \n",
      "Loaded ODE model 'microgliav48' with:\n",
      "Loaded ODE model 'microgliav48' with:\n",
      "     Num full states: 41\n",
      "     Num full states: 41\n",
      "      Num parameters: 129\n",
      "      Num parameters: 129\n"
     ]
    },
    {
     "name": "stderr",
     "output_type": "stream",
     "text": [
      "INFO:ModelParameters:Loaded ODE model 'microgliav48' with:\n",
      "INFO:ModelParameters:Loaded ODE model 'microgliav48' with:\n",
      "INFO:ModelParameters:Loaded ODE model 'microgliav48' with:\n",
      "INFO:ModelParameters:     Num full states: 41\n",
      "INFO:ModelParameters:     Num full states: 41\n",
      "INFO:ModelParameters:      Num parameters: 129\n",
      "INFO:ModelParameters:      Num parameters: 129\n"
     ]
    },
    {
     "name": "stdout",
     "output_type": "stream",
     "text": [
      "     Num full states: 41\n"
     ]
    },
    {
     "name": "stderr",
     "output_type": "stream",
     "text": [
      "INFO:ModelParameters:     Num full states: 41\n"
     ]
    },
    {
     "name": "stdout",
     "output_type": "stream",
     "text": [
      "      Num parameters: 129\n"
     ]
    },
    {
     "name": "stderr",
     "output_type": "stream",
     "text": [
      "INFO:ModelParameters:      Num parameters: 129\n"
     ]
    },
    {
     "data": {
      "image/png": "[encoded data removed]",
      "text/plain": [
       "<matplotlib.figure.Figure at 0x7f070085d050>"
      ]
     },
     "metadata": {},
     "output_type": "display_data"
    }
   ],
   "source": [
    "testState = \"I_ptxf\"\n",
    "\n",
    "results = ga.run(\n",
    "    odeModel = \"microgliav48.ode\",\n",
    "    yamlVarFile = \"P2X4FitVar.yaml\" ,\n",
    "    myVariedParam = \"G12_ptxf\",\n",
    "    variedParamTruthVal = 4.22e-13  , # was 2.22e-13 in code, but bumping it up a bit\n",
    "    timeStart = offset,\n",
    "    jobDuration = 20e3,\n",
    "    numRandomDraws = 2,\n",
    "    numIters = 1,\n",
    "    sigmaScaleRate = 0.15,\n",
    "    outputParamName = \"I\",\n",
    "    outputParamSearcher = testState,\n",
    "    outputParamMethod = \"val_vs_time\",\n",
    "    outputParamTruthTimes=expInterpTs,\n",
    "    outputParamTruthVal=expInterpVals,\n",
    "    debug = True\n",
    ")"
   ]
  },
  {
   "cell_type": "markdown",
   "metadata": {},
   "source": [
    "Should you wish to compare the results on your own, you can run the following. \n",
    "The code saves a figure like this automatically though"
   ]
  },
  {
   "cell_type": "code",
   "execution_count": 10,
   "metadata": {},
   "outputs": [
    {
     "name": "stdout",
     "output_type": "stream",
     "text": [
      "(200001,)\n"
     ]
    },
    {
     "data": {
      "text/plain": [
       "<matplotlib.collections.PathCollection at 0x7f07002a4210>"
      ]
     },
     "execution_count": 10,
     "metadata": {},
     "output_type": "execute_result"
    },
    {
     "data": {
      "image/png": "[encoded data removed]",
      "text/plain": [
       "<matplotlib.figure.Figure at 0x7f07003a91d0>"
      ]
     },
     "metadata": {},
     "output_type": "display_data"
    }
   ],
   "source": [
    "#print results['outputList']['I'].timeInterpolations\n",
    "data = results['data']\n",
    "#data = aG.readPickle(\"test_cat.pickle\")\n",
    "stateLabel = \"I_ptxf\"\n",
    "subData = aG.GetData(data,stateLabel)\n",
    "i=0\n",
    "ts = subData.t[i:]\n",
    "vals = subData.valsIdx[i:]\n",
    "print np.shape(subData.valsIdx)\n",
    "\n",
    "#normedPred = vals/np.min(vals)\n",
    "plt.plot(ts,vals,label=\"pred\")\n",
    "\n",
    "plt.scatter(expInterpTs, expInterpVals)\n"
   ]
  }
 ],
 "metadata": {
  "kernelspec": {
   "display_name": "Python 2",
   "language": "python",
   "name": "python2"
  },
  "language_info": {
   "codemirror_mode": {
    "name": "ipython",
    "version": 2
   },
   "file_extension": ".py",
   "mimetype": "text/x-python",
   "name": "python",
   "nbconvert_exporter": "python",
   "pygments_lexer": "ipython2",
   "version": "2.7.12"
  }
 },
 "nbformat": 4,
 "nbformat_minor": 1
}
