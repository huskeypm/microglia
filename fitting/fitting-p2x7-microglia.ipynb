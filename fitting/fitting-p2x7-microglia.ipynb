{
 "metadata": {
  "kernelspec": {
   "display_name": "Python 2",
   "language": "python",
   "name": "python2"
  },
  "language_info": {
   "codemirror_mode": {
    "name": "ipython",
    "version": 2
   },
   "file_extension": ".py",
   "mimetype": "text/x-python",
   "name": "python",
   "nbconvert_exporter": "python",
   "pygments_lexer": "ipython2",
   "version": "2.7.5"
  },
  "name": "",
  "signature": "sha256:bbdcb16747d4b3a4d890c315bdf2962b61205946d31948dc955647cdf730cd43"
 },
 "nbformat": 3,
 "nbformat_minor": 0,
 "worksheets": [
  {
   "cells": [
    {
     "cell_type": "markdown",
     "metadata": {},
     "source": [
      "### Genetic alg fitting.\n",
      "This notebook is used for fitting currents, etc via the genetic algorithm "
     ]
    },
    {
     "cell_type": "markdown",
     "metadata": {},
     "source": [
      "<code>\n",
      "source ../configgotran.bash \n",
      "</code>"
     ]
    },
    {
     "cell_type": "code",
     "collapsed": false,
     "input": [
      "%matplotlib inline\n",
      "%load_ext autoreload\n",
      "%autoreload 2"
     ],
     "language": "python",
     "metadata": {},
     "outputs": [],
     "prompt_number": 1
    },
    {
     "cell_type": "code",
     "collapsed": false,
     "input": [
      "import matplotlib.pylab as plt \n",
      "# routlines for analyzing odes\n",
      "import analyzeGotran as ao"
     ],
     "language": "python",
     "metadata": {},
     "outputs": [],
     "prompt_number": 2
    },
    {
     "cell_type": "markdown",
     "metadata": {},
     "source": [
      "#### Simple run (no fitting)\n",
      "Here we perform a quick simulation to examine the default behavior of the code.\n",
      "Run the following: \n",
      "<code> \n",
      "$export ODEFILEfitted=microgliav48.ode\n",
      "$ python2.7 daisychain.py -dt 0.1 -dSr 1000 -jit -odeName $ODEFILEfitted -T 20e3 -iters 1 -var V_ptxs -0.06 -var stim_amplitude 100 -var stim_period 60e3 -var stim_gap1 50e3 -var        stim_gap2 50e3 -var stim_low 1e3 -var stim_high 10e3 -name test\n",
      "</code>\n",
      "This will spit out a file called test_cat.pickle"
     ]
    },
    {
     "cell_type": "code",
     "collapsed": false,
     "input": [
      "data = ao.readPickle(\"test_cat.pickle\")\n",
      "keys = [\"Q1_ptxf\", \"Q2_ptxf\",\"D3_ptxf\",\"D4_ptxf\" ]#,\"D3_ptxf \",\"D4_ptxf \"]\n",
      "fig,ax1=  plt.subplots(1)\n",
      "\n",
      "for key in keys:\n",
      "    \n",
      "    stateLabel = key#  + Q2_ptxf\"\n",
      "    subData = ao.GetData(data,stateLabel)\n",
      "    # data is stored as\n",
      "    # subData.t - time\n",
      "    # subData.valsIdx - values of 'stateLabel' state\n",
      "    ax1.plot(subData.t,subData.valsIdx, label=key)\n",
      "\n",
      "stateLabel = \"I_f\"\n",
      "subData = ao.GetData(data,stateLabel)\n",
      "ax2 = plt.twinx(ax1)\n",
      "ax2.plot(subData.t,-1*subData.valsIdx, \"k--\")\n",
      "ax2.set_ylabel(\"P2X current\")\n",
      "ax1.legend()\n",
      "plt.gcf().savefig(\"x.png\")\n"
     ],
     "language": "python",
     "metadata": {},
     "outputs": [
      {
       "output_type": "stream",
       "stream": "stdout",
       "text": [
        "Reading test_cat.pickle\n"
       ]
      },
      {
       "metadata": {},
       "output_type": "display_data",
       "png": "[encoded data removed]",
       "text": [
        "<matplotlib.figure.Figure at 0x2e2ec90>"
       ]
      }
     ],
     "prompt_number": 3
    },
    {
     "cell_type": "markdown",
     "metadata": {},
     "source": [
      "#### Fitting the current to a single value (like a maximum current) \n",
      "For this first example, we'll assume we know that the peak current should be 6 pA \n",
      "<code>\n",
      "$python fittingAlgorithm.py -odeModel microgliav48.ode -fixedvars P2X4FitVar.yaml -myVariedParam k1_ptxf -variedParamTruthVal 1e-4 -timeStart 0e3 -jobDuration 20e3 -numRandomDraws 2  -numIters 2 -sigmaScaleRate 0.15 -outputParamName I -outputParamSearcher I_ptxf -outputParamMethod min -outputParamTruthVal -6e-9      -debug\n",
      "</code>\n",
      "\n",
      "- fixedVars YAML contains a set of parameter values that are supplied to the .ode file, but are NOT randomized. I use this to set the ATP profile characteristics, for instance\n",
      "- myVariedParam NAME defines the parameter I want to vary\n",
      "- variedParamTruthVal FLOAT defines the params starting value\n",
      "- timeStart FLOAT discards data before this timepoint\n",
      "- numRandomDraws INT  number of random draws per iteration (< #procs)\n",
      "- numIters INT number of iterations of search\n",
      "- sigmaScaleRate FLOAT controls rate at which 'range' of random variates decreases, as you hone in on a solution\n",
      "- outputParamSearcher ODESTATENAME provides the name of the output in the .ode file you want to analyze\n",
      "- outputParamMethod MIN/MAX/MEAN provides which quantity you want to compute from your output\n",
      "- outputParamTruthVal FLOAT value that you want to obtain \n",
      "\n",
      "If run from command line, you'll get an output like this:\n",
      "<code>\n",
      "           G12_ptxf            I   jobID jobNum       fitness\n",
      "0_3483  2.22064e-13 -4.86972e-09  0_3483      0  1.130285e-09\n",
      "1_3484  2.89325e-13  -6.3447e-09  1_3484      1  3.447005e-10\n",
      "jobFitnesses:  [  1.13028482e-09   3.44700454e-10]\n",
      "jobIndex:  1\n",
      "bestVarDict:  {'G12_ptxf': 2.8932524582876968e-13}\n",
      "iter 2  out of 2\n",
      "</code>\n",
      "\n",
      "In this case, the best value found so far is 2.89e-13 (higher in amplitude than what we started with, which makes sense since our current in pA was originally 5 and we wanted 6)\n"
     ]
    },
    {
     "cell_type": "markdown",
     "metadata": {},
     "source": [
      "#### 'Scalar' fitting within the notebook\n",
      "Below we'll do this in the notebook, which makes life a bit simpler "
     ]
    },
    {
     "cell_type": "code",
     "collapsed": false,
     "input": [
      "#python fittingAlgorithm.py \n",
      "import fittingAlgorithm as ga"
     ],
     "language": "python",
     "metadata": {},
     "outputs": [
      {
       "output_type": "stream",
       "stream": "stdout",
       "text": [
        "WARNING: ode idx is hardcoded\n"
       ]
      }
     ],
     "prompt_number": 3
    },
    {
     "cell_type": "markdown",
     "metadata": {},
     "source": [
      "Here we run everything. The best fit parameter is contained in results\n",
      "results['bestFitParam']"
     ]
    },
    {
     "cell_type": "code",
     "collapsed": false,
     "input": [
      "testState = \"I_ptxs\"\n",
      "results = ga.run(\n",
      "    odeModel = \"microglia_full.ode\",\n",
      "    yamlVarFile = \"P2X7FitVar.yaml\" ,\n",
      "    myVariedParam = \"G12_ptxs\",\n",
      "    variedParamTruthVal = 9.52e-12  ,\n",
      "    timeStart = 0.5e3,\n",
      "    jobDuration = 10e3,\n",
      "    numRandomDraws = 2,\n",
      "    numIters = 1,\n",
      "    sigmaScaleRate = 0.15,\n",
      "    outputParamName = \"I\",\n",
      "    outputParamSearcher = testState,\n",
      "    outputParamMethod = \"min\",\n",
      "    outputParamTruthVal=-458e-9,\n",
      "    debug = True\n",
      ")"
     ],
     "language": "python",
     "metadata": {},
     "outputs": [
      {
       "output_type": "stream",
       "stream": "stdout",
       "text": [
        "\n",
        "WARNING: In debug mode.\n",
        "Fixing random seed\n",
        "\n",
        "timeRange:  [0.5, 10.0]\n",
        "iter 1  out of 1\n",
        "parmDict:  {'G12_ptxs': [9.52e-12, 0.2]}\n",
        "Inputs:  G12_ptxs 9.52e-12\n",
        "Using 2 cores for 2 jobs\n",
        "Should probably rescale sigma by the tolerated error vs current error\n",
        "Multi-threading\n"
       ]
      },
      {
       "output_type": "stream",
       "stream": "stdout",
       "text": [
        "result:  -4.7537428088e-07 truthValue:  -4.58e-07\n",
        "result:  -5.37733973902e-07 truthValue:  -4.58e-07\n",
        "myDataFrame: \n",
        "            G12_ptxs            I    jobID jobNum       fitness\n",
        "0_22295  1.09841e-11 -4.75374e-07  0_22295      0  1.737428e-08\n",
        "1_22296   1.2425e-11 -5.37734e-07  1_22296      1  7.973397e-08\n",
        "jobFitnesses:  [  1.73742809e-08   7.97339739e-08]\n",
        "jobIndex:  0\n",
        "previousDraw:  1.737428088e-08\n",
        "bestVarDict:  {'G12_ptxs': 1.0984120552448202e-11}\n",
        "iter 1  out of 1\n",
        "\n",
        "######\n",
        "\n",
        "Best fit parameter 1.09841205524e-11\n",
        "Leaving!!\n",
        "Worker bee 21370, Job 0 \n",
        "Loaded ODE model 'microglia_full' with:\n",
        "Worker bee 22295, Job 0 \n",
        "Worker bee 22296, Job 1 \n",
        "Loaded ODE model 'microglia_full' with:\n",
        "Loaded ODE model 'microglia_full' with:\n",
        "     Num full states: 42\n",
        "     Num full states: 42\n",
        "      Num parameters: 126\n",
        "      Num parameters: 126\n"
       ]
      },
      {
       "output_type": "stream",
       "stream": "stderr",
       "text": [
        "INFO:ModelParameters:Loaded ODE model 'microglia_full' with:\n",
        "INFO:ModelParameters:Loaded ODE model 'microglia_full' with:\n",
        "INFO:ModelParameters:Loaded ODE model 'microglia_full' with:\n",
        "INFO:ModelParameters:     Num full states: 42\n",
        "INFO:ModelParameters:     Num full states: 42\n",
        "INFO:ModelParameters:      Num parameters: 126\n",
        "INFO:ModelParameters:      Num parameters: 126\n"
       ]
      },
      {
       "output_type": "stream",
       "stream": "stdout",
       "text": [
        "     Num full states: 42\n"
       ]
      },
      {
       "output_type": "stream",
       "stream": "stderr",
       "text": [
        "INFO:ModelParameters:     Num full states: 42\n"
       ]
      },
      {
       "output_type": "stream",
       "stream": "stdout",
       "text": [
        "      Num parameters: 126\n"
       ]
      },
      {
       "output_type": "stream",
       "stream": "stderr",
       "text": [
        "INFO:ModelParameters:      Num parameters: 126\n"
       ]
      },
      {
       "metadata": {},
       "output_type": "display_data",
       "png": "[encoded data removed]",
       "text": [
        "<matplotlib.figure.Figure at 0x7fcfa831c390>"
       ]
      }
     ],
     "prompt_number": 17
    },
    {
     "cell_type": "markdown",
     "metadata": {},
     "source": [
      "### Fitting a time-dependent profile (vector) \n",
      "A more complicated example in which a time-dependent profile is compared.\n",
      "Below we first load the reference data \n",
      "\n",
      "<font color=red>\n",
      "WARNING: I'm rescaling the Toulme data by a factor of 30, since their transgenic model behaves as if it is activated and we'd like values more apporpriate for resting glia. The 1e-9 factor is for converting into C/s \n",
      "</font>\n"
     ]
    },
    {
     "cell_type": "code",
     "collapsed": false,
     "input": [
      "import numpy as np\n",
      "scale = 1/30. * 1e-9\n",
      "expdata = np.loadtxt(\"../validation/Toulme2012_Fig6c.csv\",skiprows=4, delimiter=\",\")\n",
      "expdata[:,1]*=scale\n",
      "plt.plot(expdata[:,0],expdata[:,1])"
     ],
     "language": "python",
     "metadata": {},
     "outputs": [
      {
       "metadata": {},
       "output_type": "pyout",
       "prompt_number": 25,
       "text": [
        "[<matplotlib.lines.Line2D at 0x7eff72cbd2d0>]"
       ]
      },
      {
       "metadata": {},
       "output_type": "display_data",
       "png": "[encoded data removed]",
       "text": [
        "<matplotlib.figure.Figure at 0x7eff78362b50>"
       ]
      }
     ],
     "prompt_number": 25
    },
    {
     "cell_type": "markdown",
     "metadata": {},
     "source": [
      "We chose an offset to account for any difference between the exp. data and when the channel fires in our data. This took some playing around. Easiest to debug this when looking at the best fit graph at the end of the calculation. Also, I interpolated the experimental over about 10 s. Need to also play around with interpolation points too so they fairly approximate the complete data "
     ]
    },
    {
     "cell_type": "code",
     "collapsed": false,
     "input": [
      "t1mM = np.array([0, 0.3275862069, 0.7068965517, 1.068965517, 1.189655172, 1.344827586, 1.724137931, 2.767241379])-0.5 \n",
      "# 0.5 second is the duration of stimulation: Assuming the apex of profile is where the stimulation ends\n",
      "y1mM = np.array([0,-5.208333333,-26.04166667,-458.3333333,-218.75,-114.5833333,-57.29166667,-10.41666667])*1e-9\n",
      "\n",
      "expInterpTs = np.linspace(0,2.27,9)  # point at t=0 was pretty bad\n",
      "expInterpVals = np.interp(expInterpTs,t1mM,y1mM)\n",
      "plt.plot(t1mM,y1mM)\n",
      "plt.scatter(expInterpTs,expInterpVals)\n",
      "\n",
      "\n",
      "# here I apply the offset to align with the model predictions\n",
      "# also the exptl data is in seconds \n",
      "expInterpTs*= 1e3\n",
      "offset = 0.55e3 # ms\n",
      "expInterpTs+= offset"
     ],
     "language": "python",
     "metadata": {},
     "outputs": [
      {
       "metadata": {},
       "output_type": "display_data",
       "png": "[encoded data removed]",
       "text": [
        "<matplotlib.figure.Figure at 0x7fb6de9e2b10>"
       ]
      }
     ],
     "prompt_number": 4
    },
    {
     "cell_type": "code",
     "collapsed": false,
     "input": [
      "print offset\n",
      "print expInterpTs\n",
      "print expInterpVals"
     ],
     "language": "python",
     "metadata": {},
     "outputs": [
      {
       "output_type": "stream",
       "stream": "stdout",
       "text": [
        "550.0\n",
        "[  550.     833.75  1117.5   1401.25  1685.    1968.75  2252.5   2536.25\n",
        "  2820.  ]\n",
        "[ -1.46780303e-08  -1.17800719e-07  -4.56583582e-07  -1.13613281e-07\n",
        "  -7.07552083e-08  -4.85461863e-08  -3.57950241e-08  -2.30438619e-08\n",
        "  -1.04166667e-08]\n"
       ]
      }
     ],
     "prompt_number": 5
    },
    {
     "cell_type": "code",
     "collapsed": false,
     "input": [
      "testState = \"I_ptxs\"\n",
      "\n",
      "results = ga.run(\n",
      "    odeModel = \"microglia_full.ode\",\n",
      "    yamlVarFile = \"P2X7FitVar.yaml\" ,\n",
      "    myVariedParam = \"H7_ptxs\",\n",
      "    variedParamTruthVal = 0.154e-4 , # was 2.22e-13 in code, but bumping it up a bit\n",
      "    timeStart = offset,\n",
      "    jobDuration = 3e3,\n",
      "    numRandomDraws = 2,\n",
      "    numIters = 2,\n",
      "    sigmaScaleRate = 0.15,\n",
      "    outputParamName = \"I\",\n",
      "    outputParamSearcher = testState,\n",
      "    outputParamMethod = \"val_vs_time\",\n",
      "    outputParamTruthTimes=expInterpTs,\n",
      "    outputParamTruthVal=expInterpVals,\n",
      "    debug = True\n",
      ")"
     ],
     "language": "python",
     "metadata": {
      "scrolled": false
     },
     "outputs": [
      {
       "output_type": "stream",
       "stream": "stdout",
       "text": [
        "\n",
        "WARNING: In debug mode.\n",
        "Fixing random seed\n",
        "\n",
        "timeRange:  [0.55, 3.0]\n",
        "iter 1  out of 2\n",
        "parmDict:  {'H7_ptxs': [1.54e-05, 0.2]}\n",
        "Inputs:  H7_ptxs 1.54e-05\n",
        "Using 2 cores for 2 jobs\n",
        "Should probably rescale sigma by the tolerated error vs current error\n",
        "Multi-threading\n"
       ]
      },
      {
       "output_type": "stream",
       "stream": "stdout",
       "text": [
        "result:  [ -1.94322160e-08  -3.10564204e-07  -3.61753366e-07  -2.48995058e-07\n",
        "  -1.71213382e-07  -1.17641926e-07  -8.07876360e-08  -5.54557305e-08\n",
        "  -3.80550171e-08] truthValue:  [ -1.46780303e-08  -1.17800719e-07  -4.56583582e-07  -1.13613281e-07\n",
        "  -7.07552083e-08  -4.85461863e-08  -3.57950241e-08  -2.30438619e-08\n",
        "  -1.04166667e-08]\n",
        "result:  [ -1.94322189e-08  -3.10566029e-07  -3.61758305e-07  -2.48998451e-07\n",
        "  -1.71215706e-07  -1.17643522e-07  -8.07887312e-08  -5.54564824e-08\n",
        "  -3.80555326e-08] truthValue:  [ -1.46780303e-08  -1.17800719e-07  -4.56583582e-07  -1.13613281e-07\n",
        "  -7.07552083e-08  -4.85461863e-08  -3.57950241e-08  -2.30438619e-08\n",
        "  -1.04166667e-08]\n",
        "myDataFrame: \n",
        "             H7_ptxs                                                  I  \\\n",
        "0_28871  1.77684e-05  [-1.94322160205e-08, -3.10564204333e-07, -3.61...   \n",
        "1_28872  2.00993e-05  [-1.94322189445e-08, -3.10566028688e-07, -3.61...   \n",
        "\n",
        "           jobID jobNum       fitness  \n",
        "0_28871  0_28871      0  2.884548e-07  \n",
        "1_28872  1_28872      1  2.884575e-07  \n",
        "jobFitnesses:  [  2.88454793e-07   2.88457477e-07]\n",
        "jobIndex:  0\n",
        "previousDraw:  2.88454792799e-07\n",
        "bestVarDict:  {'H7_ptxs': 1.7768430305430919e-05}\n",
        "iter 1  out of 2\n",
        "\n",
        "######\n",
        "\n",
        "iter 2  out of 2\n",
        "parmDict:  {'H7_ptxs': [1.7768430305430919e-05, 0.2]}\n",
        "Inputs:  H7_ptxs 1.77684303054e-05\n",
        "Using 2 cores for 2 jobs\n",
        "Should probably rescale sigma by the tolerated error vs current error\n",
        "Multi-threading\n",
        "Worker bee 28872, Job 1 \n",
        "Worker bee 28871, Job 0 \n",
        "Loaded ODE model 'microglia_full' with:\n",
        "Loaded ODE model 'microglia_full' with:\n",
        "     Num full states: 42\n",
        "     Num full states: 42\n",
        "      Num parameters: 130\n",
        "      Num parameters: 130\n"
       ]
      },
      {
       "output_type": "stream",
       "stream": "stderr",
       "text": [
        "INFO:ModelParameters:Loaded ODE model 'microglia_full' with:\n",
        "INFO:ModelParameters:Loaded ODE model 'microglia_full' with:\n",
        "INFO:ModelParameters:     Num full states: 42\n",
        "INFO:ModelParameters:     Num full states: 42\n",
        "INFO:ModelParameters:      Num parameters: 130\n",
        "INFO:ModelParameters:      Num parameters: 130\n"
       ]
      },
      {
       "output_type": "stream",
       "stream": "stdout",
       "text": [
        "result:  [ -1.94322108e-08  -3.10560954e-07  -3.61744576e-07  -2.48989018e-07\n",
        "  -1.71209229e-07  -1.17639074e-07  -8.07856772e-08  -5.54543857e-08\n",
        "  -3.80540889e-08] truthValue:  [ -1.46780303e-08  -1.17800719e-07  -4.56583582e-07  -1.13613281e-07\n",
        "  -7.07552083e-08  -4.85461863e-08  -3.57950241e-08  -2.30438619e-08\n",
        "  -1.04166667e-08]\n",
        "result:  [ -1.94322160e-08  -3.10564184e-07  -3.61753311e-07  -2.48995020e-07\n",
        "  -1.71213351e-07  -1.17641904e-07  -8.07876201e-08  -5.54557189e-08\n",
        "  -3.80550060e-08] truthValue:  [ -1.46780303e-08  -1.17800719e-07  -4.56583582e-07  -1.13613281e-07\n",
        "  -7.07552083e-08  -4.85461863e-08  -3.57950241e-08  -2.30438619e-08\n",
        "  -1.04166667e-08]\n",
        "myDataFrame: \n",
        "             H7_ptxs                                                  I  \\\n",
        "0_28891   1.3618e-05  [-1.94322108137e-08, -3.10560954394e-07, -3.61...   \n",
        "1_28892  1.77428e-05  [-1.94322159884e-08, -3.10564184273e-07, -3.61...   \n",
        "\n",
        "           jobID jobNum       fitness  \n",
        "0_28891  0_28891      0  2.884500e-07  \n",
        "1_28892  1_28892      1  2.884548e-07  \n",
        "jobFitnesses:  [  2.88450001e-07   2.88454758e-07]\n",
        "jobIndex:  0\n",
        "bestVarDict:  {'H7_ptxs': 1.361804338157716e-05}\n",
        "iter 2  out of 2\n",
        "\n",
        "######\n",
        "\n",
        "Best fit parameter 1.36180433816e-05\n",
        "Leaving!!\n",
        "Worker bee 28812, Job 0 \n",
        "Loaded ODE model 'microglia_full' with:\n",
        "Worker bee 28891, Job 0 \n",
        "Worker bee 28892, Job 1 \n",
        "Loaded ODE model 'microglia_full' with:\n",
        "Loaded ODE model 'microglia_full' with:\n",
        "     Num full states: 42\n",
        "     Num full states: 42\n",
        "      Num parameters: 130\n",
        "      Num parameters: 130\n"
       ]
      },
      {
       "output_type": "stream",
       "stream": "stderr",
       "text": [
        "INFO:ModelParameters:Loaded ODE model 'microglia_full' with:\n",
        "INFO:ModelParameters:Loaded ODE model 'microglia_full' with:\n",
        "INFO:ModelParameters:Loaded ODE model 'microglia_full' with:\n",
        "INFO:ModelParameters:     Num full states: 42\n",
        "INFO:ModelParameters:     Num full states: 42\n",
        "INFO:ModelParameters:      Num parameters: 130\n",
        "INFO:ModelParameters:      Num parameters: 130\n"
       ]
      },
      {
       "output_type": "stream",
       "stream": "stdout",
       "text": [
        "     Num full states: 42\n"
       ]
      },
      {
       "output_type": "stream",
       "stream": "stderr",
       "text": [
        "INFO:ModelParameters:     Num full states: 42\n"
       ]
      },
      {
       "output_type": "stream",
       "stream": "stdout",
       "text": [
        "      Num parameters: 130\n"
       ]
      },
      {
       "output_type": "stream",
       "stream": "stderr",
       "text": [
        "INFO:ModelParameters:      Num parameters: 130\n"
       ]
      },
      {
       "metadata": {},
       "output_type": "display_data",
       "png": "[encoded data removed]",
       "text": [
        "<matplotlib.figure.Figure at 0x7fb6f90f74d0>"
       ]
      }
     ],
     "prompt_number": 6
    },
    {
     "cell_type": "code",
     "collapsed": false,
     "input": [],
     "language": "python",
     "metadata": {},
     "outputs": []
    },
    {
     "cell_type": "code",
     "collapsed": false,
     "input": [
      "t3mM = np.array([0,0.3793103448,0.6379310345,0.9137931034,1.163793103,1.275862069,1.439655172,1.775862069,2.413793103,3.215517241])-0.6 \n",
      "# 0.5 second is the duration of stimulation: Assuming the apex of profile is where the stimulation ends\n",
      "y3mM = np.array([0,-15.625,-177.0833333,-473.9583333,-875,-447.9166667,-296.875,-177.0833333,-72.91666667,-31.25])*1e-9\n",
      "\n",
      "expInterpTs = np.linspace(0,2.6,10)  # point at t=0 was pretty bad\n",
      "expInterpVals = np.interp(expInterpTs,t3mM,y3mM)\n",
      "plt.plot(t3mM,y3mM)\n",
      "plt.scatter(expInterpTs,expInterpVals)\n",
      "\n",
      "\n",
      "# here I apply the offset to align with the model predictions\n",
      "# also the exptl data is in seconds \n",
      "expInterpTs*= 1e3\n",
      "offset = 0.55e3 # ms\n",
      "expInterpTs+= offset"
     ],
     "language": "python",
     "metadata": {},
     "outputs": [
      {
       "metadata": {},
       "output_type": "display_data",
       "png": "[encoded data removed]",
       "text": [
        "<matplotlib.figure.Figure at 0x7fb6de5d6ed0>"
       ]
      }
     ],
     "prompt_number": 12
    },
    {
     "cell_type": "code",
     "collapsed": false,
     "input": [
      "print offset\n",
      "print expInterpTs\n",
      "print expInterpVals"
     ],
     "language": "python",
     "metadata": {},
     "outputs": [
      {
       "output_type": "stream",
       "stream": "stdout",
       "text": [
        "550.0\n",
        "[  550.           838.88888889  1127.77777778  1416.66666667  1705.55555556\n",
        "  1994.44444444  2283.33333333  2572.22222222  2861.11111111  3150.        ]\n",
        "[ -1.53402778e-07  -4.47157118e-07  -8.21705839e-07  -2.87250712e-07\n",
        "  -1.84318613e-07  -1.33226977e-07  -8.60548047e-08  -6.20843289e-08\n",
        "  -4.70703903e-08  -3.20564516e-08]\n"
       ]
      }
     ],
     "prompt_number": 13
    },
    {
     "cell_type": "code",
     "collapsed": false,
     "input": [
      "testState = \"I_ptxs\"\n",
      "\n",
      "results = ga.run(\n",
      "    odeModel = \"microglia_full.ode\",\n",
      "    yamlVarFile = \"P2X7FitVar.yaml\" ,\n",
      "    myVariedParam = \"k6_ptxs\",\n",
      "    variedParamTruthVal = 0.0813  , # was 2.22e-13 in code, but bumping it up a bit\n",
      "    timeStart = offset,\n",
      "    jobDuration = 3e3,\n",
      "    numRandomDraws = 2,\n",
      "    numIters = 2,\n",
      "    sigmaScaleRate = 0.15,\n",
      "    outputParamName = \"I\",\n",
      "    outputParamSearcher = testState,\n",
      "    outputParamMethod = \"val_vs_time\",\n",
      "    outputParamTruthTimes=expInterpTs,\n",
      "    outputParamTruthVal=expInterpVals,\n",
      "    debug = True\n",
      ")"
     ],
     "language": "python",
     "metadata": {
      "scrolled": false
     },
     "outputs": [
      {
       "output_type": "stream",
       "stream": "stdout",
       "text": [
        "\n",
        "WARNING: In debug mode.\n",
        "Fixing random seed\n",
        "\n",
        "timeRange:  [0.55, 3.0]\n",
        "iter 1  out of 2\n",
        "parmDict:  {'k6_ptxs': [0.0813, 0.2]}\n",
        "Inputs:  k6_ptxs 0.0813\n",
        "Using 2 cores for 2 jobs\n",
        "Should probably rescale sigma by the tolerated error vs current error\n",
        "Multi-threading\n"
       ]
      },
      {
       "output_type": "stream",
       "stream": "stdout",
       "text": [
        "result:  [ -1.25126730e-07  -7.06391677e-07  -6.38235423e-07  -4.42019172e-07\n",
        "  -3.04766493e-07  -2.09450725e-07  -1.43601697e-07  -9.82814911e-08\n",
        "  -6.71763942e-08  -5.59328706e-08] truthValue:  [ -1.53402778e-07  -4.47157118e-07  -8.21705839e-07  -2.87250712e-07\n",
        "  -1.84318613e-07  -1.33226977e-07  -8.60548047e-08  -6.20843289e-08\n",
        "  -4.70703903e-08  -3.20564516e-08]\n",
        "result:  [ -1.25128032e-07  -7.06728411e-07  -6.39506019e-07  -4.43816465e-07\n",
        "  -3.06465500e-07  -2.10849862e-07  -1.44677892e-07  -9.90772476e-08\n",
        "  -6.77503262e-08  -5.64203559e-08] truthValue:  [ -1.53402778e-07  -4.47157118e-07  -8.21705839e-07  -2.87250712e-07\n",
        "  -1.84318613e-07  -1.33226977e-07  -8.60548047e-08  -6.20843289e-08\n",
        "  -4.70703903e-08  -3.20564516e-08]\n",
        "myDataFrame: \n",
        "                                                         I    jobID jobNum  \\\n",
        "0_29416  [-1.25126730275e-07, -7.0639167735e-07, -6.382...  0_29416      0   \n",
        "1_29417  [-1.25128032402e-07, -7.06728410794e-07, -6.39...  1_29417      1   \n",
        "\n",
        "           k6_ptxs       fitness  \n",
        "0_29416  0.0938035  3.892695e-07  \n",
        "1_29417   0.106109  3.907146e-07  \n",
        "jobFitnesses:  [  3.89269478e-07   3.90714606e-07]\n",
        "jobIndex:  0\n",
        "previousDraw:  3.89269478472e-07\n",
        "bestVarDict:  {'k6_ptxs': 0.093803466482567113}\n",
        "iter 1  out of 2\n",
        "\n",
        "######\n",
        "\n",
        "iter 2  out of 2\n",
        "parmDict:  {'k6_ptxs': [0.093803466482567113, 0.2]}\n",
        "Inputs:  k6_ptxs 0.0938034664826\n",
        "Using 2 cores for 2 jobs\n",
        "Should probably rescale sigma by the tolerated error vs current error\n",
        "Multi-threading\n",
        "Worker bee 29416, Job 0 \n",
        "Worker bee 29417, Job 1 \n",
        "Loaded ODE model 'microglia_full' with:\n",
        "Loaded ODE model 'microglia_full' with:\n",
        "     Num full states: 42\n",
        "     Num full states: 42\n",
        "      Num parameters: 130\n",
        "      Num parameters: 130\n"
       ]
      },
      {
       "output_type": "stream",
       "stream": "stderr",
       "text": [
        "INFO:ModelParameters:Loaded ODE model 'microglia_full' with:\n",
        "INFO:ModelParameters:Loaded ODE model 'microglia_full' with:\n",
        "INFO:ModelParameters:     Num full states: 42\n",
        "INFO:ModelParameters:     Num full states: 42\n",
        "INFO:ModelParameters:      Num parameters: 130\n",
        "INFO:ModelParameters:      Num parameters: 130\n"
       ]
      },
      {
       "output_type": "stream",
       "stream": "stdout",
       "text": [
        "result:  [ -1.25124415e-07  -7.05787057e-07  -6.35941151e-07  -4.38772366e-07\n",
        "  -3.01696871e-07  -2.06922743e-07  -1.41657154e-07  -9.68436271e-08\n",
        "  -6.61393256e-08  -5.50519897e-08] truthValue:  [ -1.53402778e-07  -4.47157118e-07  -8.21705839e-07  -2.87250712e-07\n",
        "  -1.84318613e-07  -1.33226977e-07  -8.60548047e-08  -6.20843289e-08\n",
        "  -4.70703903e-08  -3.20564516e-08]\n",
        "result:  [ -1.25126716e-07  -7.06387964e-07  -6.38221383e-07  -4.41999309e-07\n",
        "  -3.04747714e-07  -2.09435260e-07  -1.43589800e-07  -9.82726877e-08\n",
        "  -6.71700510e-08  -5.59274758e-08] truthValue:  [ -1.53402778e-07  -4.47157118e-07  -8.21705839e-07  -2.87250712e-07\n",
        "  -1.84318613e-07  -1.33226977e-07  -8.60548047e-08  -6.20843289e-08\n",
        "  -4.70703903e-08  -3.20564516e-08]\n",
        "myDataFrame: \n",
        "                                                         I    jobID jobNum  \\\n",
        "0_29436  [-1.25124414778e-07, -7.05787056779e-07, -6.35...  0_29436      0   \n",
        "1_29437  [-1.25126715954e-07, -7.06387964167e-07, -6.38...  1_29437      1   \n",
        "\n",
        "           k6_ptxs       fitness  \n",
        "0_29436  0.0718927  3.867265e-07  \n",
        "1_29437  0.0936682  3.892537e-07  \n",
        "jobFitnesses:  [  3.86726534e-07   3.89253654e-07]\n",
        "jobIndex:  0\n",
        "bestVarDict:  {'k6_ptxs': 0.071892657592352138}\n",
        "iter 2  out of 2\n",
        "\n",
        "######\n",
        "\n",
        "Best fit parameter 0.0718926575924\n",
        "Leaving!!\n",
        "Worker bee 28812, Job 0 \n",
        "Loaded ODE model 'microglia_full' with:\n",
        "Worker bee 29436, Job 0 \n",
        "Worker bee 29437, Job 1 \n",
        "Loaded ODE model 'microglia_full' with:\n",
        "Loaded ODE model 'microglia_full' with:\n",
        "     Num full states: 42\n",
        "     Num full states: 42\n",
        "      Num parameters: 130\n",
        "      Num parameters: 130\n"
       ]
      },
      {
       "output_type": "stream",
       "stream": "stderr",
       "text": [
        "INFO:ModelParameters:Loaded ODE model 'microglia_full' with:\n",
        "INFO:ModelParameters:Loaded ODE model 'microglia_full' with:\n",
        "INFO:ModelParameters:Loaded ODE model 'microglia_full' with:\n",
        "INFO:ModelParameters:     Num full states: 42\n",
        "INFO:ModelParameters:     Num full states: 42\n",
        "INFO:ModelParameters:      Num parameters: 130\n",
        "INFO:ModelParameters:      Num parameters: 130\n"
       ]
      },
      {
       "output_type": "stream",
       "stream": "stdout",
       "text": [
        "     Num full states: 42\n"
       ]
      },
      {
       "output_type": "stream",
       "stream": "stderr",
       "text": [
        "INFO:ModelParameters:     Num full states: 42\n"
       ]
      },
      {
       "output_type": "stream",
       "stream": "stdout",
       "text": [
        "      Num parameters: 130\n"
       ]
      },
      {
       "output_type": "stream",
       "stream": "stderr",
       "text": [
        "INFO:ModelParameters:      Num parameters: 130\n"
       ]
      },
      {
       "metadata": {},
       "output_type": "display_data",
       "png": "[encoded data removed]",
       "text": [
        "<matplotlib.figure.Figure at 0x7fb6de8c3710>"
       ]
      }
     ],
     "prompt_number": 14
    },
    {
     "cell_type": "markdown",
     "metadata": {},
     "source": [
      "Should you wish to compare the results on your own, you can run the following. \n",
      "The code saves a figure like this automatically though"
     ]
    },
    {
     "cell_type": "code",
     "collapsed": false,
     "input": [
      "#print results['outputList']['I'].timeInterpolations\n",
      "data = results['data']\n",
      "#data = aG.readPickle(\"test_cat.pickle\")\n",
      "stateLabel = \"I_ptxf\"\n",
      "subData = aG.GetData(data,stateLabel)\n",
      "i=0\n",
      "ts = subData.t[i:]\n",
      "vals = subData.valsIdx[i:]\n",
      "print np.shape(subData.valsIdx)\n",
      "\n",
      "#normedPred = vals/np.min(vals)\n",
      "plt.plot(ts,vals,label=\"pred\")\n",
      "\n",
      "plt.scatter(expInterpTs, expInterpVals)\n"
     ],
     "language": "python",
     "metadata": {},
     "outputs": [
      {
       "output_type": "stream",
       "stream": "stdout",
       "text": [
        "(200001,)\n"
       ]
      },
      {
       "metadata": {},
       "output_type": "pyout",
       "prompt_number": 10,
       "text": [
        "<matplotlib.collections.PathCollection at 0x7f07002a4210>"
       ]
      },
      {
       "metadata": {},
       "output_type": "display_data",
       "png": "[encoded data removed]",
       "text": [
        "<matplotlib.figure.Figure at 0x7f07003a91d0>"
       ]
      }
     ],
     "prompt_number": 10
    }
   ],
   "metadata": {}
  }
 ]
}