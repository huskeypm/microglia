{
 "metadata": {
  "kernelspec": {
   "display_name": "Python 2",
   "language": "python",
   "name": "python2"
  },
  "language_info": {
   "codemirror_mode": {
    "name": "ipython",
    "version": 2
   },
   "file_extension": ".py",
   "mimetype": "text/x-python",
   "name": "python",
   "nbconvert_exporter": "python",
   "pygments_lexer": "ipython2",
   "version": "2.7.5"
  },
  "name": "",
  "signature": "sha256:d6cacb04e38a53d4ff220acb163c96bcc9895f3661255cd506d0cc591036e02f"
 },
 "nbformat": 3,
 "nbformat_minor": 0,
 "worksheets": [
  {
   "cells": [
    {
     "cell_type": "markdown",
     "metadata": {},
     "source": [
      "### Genetic alg fitting.\n",
      "This notebook is used for fitting currents, etc via the genetic algorithm "
     ]
    },
    {
     "cell_type": "markdown",
     "metadata": {},
     "source": [
      "<code>\n",
      "source ../configgotran.bash \n",
      "</code>"
     ]
    },
    {
     "cell_type": "code",
     "collapsed": false,
     "input": [
      "%matplotlib inline\n",
      "%load_ext autoreload\n",
      "%autoreload 2"
     ],
     "language": "python",
     "metadata": {},
     "outputs": [],
     "prompt_number": 1
    },
    {
     "cell_type": "code",
     "collapsed": false,
     "input": [
      "import matplotlib.pylab as plt \n",
      "# routlines for analyzing odes\n",
      "import analyzeGotran as ao"
     ],
     "language": "python",
     "metadata": {},
     "outputs": [],
     "prompt_number": 2
    },
    {
     "cell_type": "markdown",
     "metadata": {},
     "source": [
      "#### Simple run (no fitting)\n",
      "Here we perform a quick simulation to examine the default behavior of the code.\n",
      "Run the following: \n",
      "<code> \n",
      "$export ODEFILEfitted=microgliav48.ode\n",
      "$ python2.7 daisychain.py -dt 0.1 -dSr 1000 -jit -odeName $ODEFILEfitted -T 20e3 -iters 1 -var V_ptxs -0.06 -var stim_amplitude 100 -var stim_period 60e3 -var stim_gap1 50e3 -var        stim_gap2 50e3 -var stim_low 1e3 -var stim_high 10e3 -name test\n",
      "</code>\n",
      "This will spit out a file called test_cat.pickle"
     ]
    },
    {
     "cell_type": "code",
     "collapsed": false,
     "input": [
      "data = ao.readPickle(\"test_cat.pickle\")\n",
      "keys = [\"Q1_ptxf\", \"Q2_ptxf\",\"D3_ptxf\",\"D4_ptxf\" ]#,\"D3_ptxf \",\"D4_ptxf \"]\n",
      "fig,ax1=  plt.subplots(1)\n",
      "\n",
      "for key in keys:\n",
      "    \n",
      "    stateLabel = key#  + Q2_ptxf\"\n",
      "    subData = ao.GetData(data,stateLabel)\n",
      "    # data is stored as\n",
      "    # subData.t - time\n",
      "    # subData.valsIdx - values of 'stateLabel' state\n",
      "    ax1.plot(subData.t,subData.valsIdx, label=key)\n",
      "\n",
      "stateLabel = \"I_f\"\n",
      "subData = ao.GetData(data,stateLabel)\n",
      "ax2 = plt.twinx(ax1)\n",
      "ax2.plot(subData.t,-1*subData.valsIdx, \"k--\")\n",
      "ax2.set_ylabel(\"P2X current\")\n",
      "ax1.legend()\n",
      "plt.gcf().savefig(\"x.png\")\n"
     ],
     "language": "python",
     "metadata": {},
     "outputs": [
      {
       "output_type": "stream",
       "stream": "stdout",
       "text": [
        "Reading test_cat.pickle\n"
       ]
      },
      {
       "metadata": {},
       "output_type": "display_data",
       "png": "[encoded data removed]",
       "text": [
        "<matplotlib.figure.Figure at 0x7eff72b99050>"
       ]
      }
     ],
     "prompt_number": 11
    },
    {
     "cell_type": "markdown",
     "metadata": {},
     "source": [
      "#### Fitting the current to a single value (like a maximum current) \n",
      "For this first example, we'll assume we know that the peak current should be 6 pA \n",
      "<code>\n",
      "$python fittingAlgorithm.py -odeModel microgliav48.ode -fixedvars P2X4FitVar.yaml -myVariedParam k1_ptxf -variedParamTruthVal 1e-4 -timeStart 0e3 -jobDuration 20e3 -numRandomDraws 2  -numIters 2 -sigmaScaleRate 0.15 -outputParamName I -outputParamSearcher I_ptxf -outputParamMethod min -outputParamTruthVal -6e-9      -debug\n",
      "</code>\n",
      "\n",
      "- fixedVars YAML contains a set of parameter values that are supplied to the .ode file, but are NOT randomized. I use this to set the ATP profile characteristics, for instance\n",
      "- myVariedParam NAME defines the parameter I want to vary\n",
      "- variedParamTruthVal FLOAT defines the params starting value\n",
      "- timeStart FLOAT discards data before this timepoint\n",
      "- numRandomDraws INT  number of random draws per iteration (< #procs)\n",
      "- numIters INT number of iterations of search\n",
      "- sigmaScaleRate FLOAT controls rate at which 'range' of random variates decreases, as you hone in on a solution\n",
      "- outputParamSearcher ODESTATENAME provides the name of the output in the .ode file you want to analyze\n",
      "- outputParamMethod MIN/MAX/MEAN provides which quantity you want to compute from your output\n",
      "- outputParamTruthVal FLOAT value that you want to obtain \n",
      "\n",
      "If run from command line, you'll get an output like this:\n",
      "<code>\n",
      "           G12_ptxf            I   jobID jobNum       fitness\n",
      "0_3483  2.22064e-13 -4.86972e-09  0_3483      0  1.130285e-09\n",
      "1_3484  2.89325e-13  -6.3447e-09  1_3484      1  3.447005e-10\n",
      "jobFitnesses:  [  1.13028482e-09   3.44700454e-10]\n",
      "jobIndex:  1\n",
      "bestVarDict:  {'G12_ptxf': 2.8932524582876968e-13}\n",
      "iter 2  out of 2\n",
      "</code>\n",
      "\n",
      "In this case, the best value found so far is 2.89e-13 (higher in amplitude than what we started with, which makes sense since our current in pA was originally 5 and we wanted 6)\n"
     ]
    },
    {
     "cell_type": "markdown",
     "metadata": {},
     "source": [
      "#### 'Scalar' fitting within the notebook\n",
      "Below we'll do this in the notebook, which makes life a bit simpler "
     ]
    },
    {
     "cell_type": "code",
     "collapsed": false,
     "input": [
      "#python fittingAlgorithm.py \n",
      "import fittingAlgorithm as ga"
     ],
     "language": "python",
     "metadata": {},
     "outputs": [
      {
       "output_type": "stream",
       "stream": "stdout",
       "text": [
        "WARNING: ode idx is hardcoded\n"
       ]
      }
     ],
     "prompt_number": 3
    },
    {
     "cell_type": "markdown",
     "metadata": {},
     "source": [
      "Here we run everything. The best fit parameter is contained in results\n",
      "results['bestFitParam']"
     ]
    },
    {
     "cell_type": "code",
     "collapsed": false,
     "input": [
      "testState = \"I_s\"\n",
      "results = ga.run(\n",
      "    odeModel = \"microgliav50.ode\",\n",
      "    yamlVarFile = \"P2X7FitVar100uM.yaml\" ,\n",
      "    myVariedParam = \"G12_ptxs\",\n",
      "    variedParamTruthVal = 2.14e-12  ,\n",
      "    timeStart = 1.5e3,\n",
      "    jobDuration = 15e3,\n",
      "    numRandomDraws = 2,\n",
      "    numIters = 3,\n",
      "    sigmaScaleRate = 0.15,\n",
      "    outputParamName = \"I\",\n",
      "    outputParamSearcher = testState,\n",
      "    outputParamMethod = \"min\",\n",
      "    outputParamTruthVal=-28.94e-9,\n",
      "    debug = True\n",
      ")"
     ],
     "language": "python",
     "metadata": {},
     "outputs": [
      {
       "output_type": "stream",
       "stream": "stdout",
       "text": [
        "\n",
        "WARNING: In debug mode. \n",
        "Fixing random seed\n",
        "\n",
        "timeRange:  [1.5, 15.0]\n",
        "iter 1  out of 3\n",
        "parmDict:  {'G12_ptxs': [2.14e-12, 0.2]}\n",
        "Inputs:  G12_ptxs 2.14e-12\n",
        "Using 2 cores for 2 jobs\n",
        "Should probably rescale sigma by the tolerated error vs current error\n",
        "Multi-threading\n"
       ]
      },
      {
       "output_type": "stream",
       "stream": "stdout",
       "text": [
        "result:  -2.1449071562e-08 truthValue:  -2.894e-08\n",
        "result:  -2.42627644627e-08 truthValue:  -2.894e-08\n",
        "myDataFrame: \n",
        "           G12_ptxs            I   jobID jobNum       fitness\n",
        "0_3059  2.46912e-12 -2.14491e-08  0_3059      0  7.490928e-09\n",
        "1_3060  2.79302e-12 -2.42628e-08  1_3060      1  4.677236e-09\n",
        "jobFitnesses:  [  7.49092844e-09   4.67723554e-09]\n",
        "jobIndex:  1\n",
        "previousDraw:  4.67723553734e-09\n",
        "bestVarDict:  {'G12_ptxs': 2.7930191122756628e-12}\n",
        "iter 1  out of 3\n",
        "\n",
        "######\n",
        "\n",
        "iter 2  out of 3\n",
        "parmDict:  {'G12_ptxs': [2.7930191122756628e-12, 0.2]}\n",
        "Inputs:  G12_ptxs 2.79301911228e-12\n",
        "Using 2 cores for 2 jobs\n",
        "Should probably rescale sigma by the tolerated error vs current error\n",
        "Multi-threading\n",
        "Worker bee 3059, Job 0 \n",
        "Worker bee 3060, Job 1 \n",
        "Loaded ODE model 'microgliav50' with:\n",
        "Loaded ODE model 'microgliav50' with:\n",
        "     Num full states: 42\n",
        "     Num full states: 42\n",
        "      Num parameters: 129\n",
        "      Num parameters: 129\n",
        "Calling GOTRAN just-in-time (JIT) compiler, this may take some time...Calling GOTRAN just-in-time (JIT) compiler, this may take some time... done\n",
        " done\n"
       ]
      },
      {
       "output_type": "stream",
       "stream": "stderr",
       "text": [
        "INFO:ModelParameters:Loaded ODE model 'microgliav50' with:\n",
        "INFO:ModelParameters:Loaded ODE model 'microgliav50' with:\n",
        "INFO:ModelParameters:     Num full states: 42\n",
        "INFO:ModelParameters:     Num full states: 42\n",
        "INFO:ModelParameters:      Num parameters: 129\n",
        "INFO:ModelParameters:      Num parameters: 129\n",
        "INFO:ModelParameters:Calling GOTRAN just-in-time (JIT) compiler, this may take some time...\n",
        "INFO:ModelParameters:Calling GOTRAN just-in-time (JIT) compiler, this may take some time...\n",
        "In instant.build_module: Path '/home/AD/bch265/.cache/instant/python2.7/cache/gotran_compiled_module_Microgliav50_9ccce8c2a89f456bf8e6519f96164e9b5846ca5b' already exists, but module wasn't found in cache previously. Not overwriting, assuming this module is valid.\n",
        "INFO:ModelParameters: done\n",
        "WARNING:instant:In instant.build_module: Path '/home/AD/bch265/.cache/instant/python2.7/cache/gotran_compiled_module_Microgliav50_9ccce8c2a89f456bf8e6519f96164e9b5846ca5b' already exists, but module wasn't found in cache previously. Not overwriting, assuming this module is valid.\n",
        "INFO:ModelParameters: done\n"
       ]
      },
      {
       "output_type": "stream",
       "stream": "stdout",
       "text": [
        "result:  -1.85954178027e-08 truthValue:  -2.894e-08\n",
        "result:  -2.42277738981e-08 truthValue:  -2.894e-08\n",
        "myDataFrame: \n",
        "           G12_ptxs            I   jobID jobNum       fitness\n",
        "0_3097  2.14062e-12 -1.85954e-08  0_3097      0  1.034458e-08\n",
        "1_3098  2.78899e-12 -2.42278e-08  1_3098      1  4.712226e-09\n",
        "jobFitnesses:  [  1.03445822e-08   4.71222610e-09]\n",
        "jobIndex:  1\n",
        "Old draw is better starting point, not overwriting starting point\n",
        "iter 2  out of 3\n",
        "\n",
        "######\n",
        "\n",
        "iter 3  out of 3\n",
        "parmDict:  {'G12_ptxs': [2.7930191122756628e-12, 0.2]}\n",
        "Inputs:  G12_ptxs 2.79301911228e-12\n",
        "Using 2 cores for 2 jobs\n",
        "Should probably rescale sigma by the tolerated error vs current error\n",
        "Multi-threading\n",
        "Worker bee 3097, Job 0 \n",
        "Worker bee 3098, Job 1 \n",
        "Loaded ODE model 'microgliav50' with:\n",
        "Loaded ODE model 'microgliav50' with:\n",
        "     Num full states: 42\n",
        "     Num full states: 42\n",
        "      Num parameters: 129\n",
        "      Num parameters: 129\n"
       ]
      },
      {
       "output_type": "stream",
       "stream": "stderr",
       "text": [
        "INFO:ModelParameters:Loaded ODE model 'microgliav50' with:\n",
        "INFO:ModelParameters:Loaded ODE model 'microgliav50' with:\n",
        "INFO:ModelParameters:     Num full states: 42\n",
        "INFO:ModelParameters:     Num full states: 42\n",
        "INFO:ModelParameters:      Num parameters: 129\n",
        "INFO:ModelParameters:      Num parameters: 129\n"
       ]
      },
      {
       "output_type": "stream",
       "stream": "stdout",
       "text": [
        "result:  -2.18074654368e-08 truthValue:  -2.894e-08\n",
        "result:  -2.6602422209e-08 truthValue:  -2.894e-08\n",
        "myDataFrame: \n",
        "           G12_ptxs            I   jobID jobNum       fitness\n",
        "0_3121  2.51038e-12 -2.18075e-08  0_3121      0  7.132535e-09\n",
        "1_3122  3.06235e-12 -2.66024e-08  1_3122      1  2.337578e-09\n",
        "jobFitnesses:  [  7.13253456e-09   2.33757779e-09]\n",
        "jobIndex:  1\n",
        "bestVarDict:  {'G12_ptxs': 3.0623498067804577e-12}\n",
        "iter 3  out of 3\n",
        "\n",
        "######\n",
        "\n",
        "Best fit parameter 3.06234980678e-12\n",
        "Leaving!!\n",
        "Worker bee 2736, Job 0 \n",
        "Loaded ODE model 'microgliav50' with:\n",
        "Worker bee 3121, Job 0 \n",
        "Worker bee 3122, Job 1 \n",
        "Loaded ODE model 'microgliav50' with:\n",
        "Loaded ODE model 'microgliav50' with:\n",
        "     Num full states: 42\n",
        "     Num full states: 42\n",
        "      Num parameters: 129\n",
        "      Num parameters: 129\n"
       ]
      },
      {
       "output_type": "stream",
       "stream": "stderr",
       "text": [
        "INFO:ModelParameters:Loaded ODE model 'microgliav50' with:\n",
        "INFO:ModelParameters:Loaded ODE model 'microgliav50' with:\n",
        "INFO:ModelParameters:Loaded ODE model 'microgliav50' with:\n",
        "INFO:ModelParameters:     Num full states: 42\n",
        "INFO:ModelParameters:     Num full states: 42\n",
        "INFO:ModelParameters:      Num parameters: 129\n",
        "INFO:ModelParameters:      Num parameters: 129\n"
       ]
      },
      {
       "output_type": "stream",
       "stream": "stdout",
       "text": [
        "     Num full states: 42\n"
       ]
      },
      {
       "output_type": "stream",
       "stream": "stderr",
       "text": [
        "INFO:ModelParameters:     Num full states: 42\n"
       ]
      },
      {
       "output_type": "stream",
       "stream": "stdout",
       "text": [
        "      Num parameters: 129\n"
       ]
      },
      {
       "output_type": "stream",
       "stream": "stderr",
       "text": [
        "INFO:ModelParameters:      Num parameters: 129\n"
       ]
      },
      {
       "metadata": {},
       "output_type": "display_data",
       "png": "[encoded data removed]",
       "text": [
        "<matplotlib.figure.Figure at 0x7f308358d110>"
       ]
      }
     ],
     "prompt_number": 4
    },
    {
     "cell_type": "markdown",
     "metadata": {},
     "source": [
      "### Fitting a time-dependent profile (vector) \n",
      "A more complicated example in which a time-dependent profile is compared.\n",
      "Below we first load the reference data \n",
      "\n",
      "<font color=red>\n",
      "WARNING: I'm rescaling the Toulme data by a factor of 30, since their transgenic model behaves as if it is activated and we'd like values more apporpriate for resting glia. The 1e-9 factor is for converting into C/s \n",
      "</font>\n"
     ]
    },
    {
     "cell_type": "code",
     "collapsed": false,
     "input": [
      "import numpy as np\n",
      "t1=np.array([0, 1.52866242, 3.312101911, 6.751592357, 10.44585987,11.71974522])\n",
      "y1=np.array([0,0,-28.94736842,-6.578947368,-1.315789474,0])*10**-9\n",
      "plt.plot(t1,y1)"
     ],
     "language": "python",
     "metadata": {},
     "outputs": [
      {
       "metadata": {},
       "output_type": "pyout",
       "prompt_number": 5,
       "text": [
        "[<matplotlib.lines.Line2D at 0x7f3068330950>]"
       ]
      },
      {
       "metadata": {},
       "output_type": "display_data",
       "png": "[encoded data removed]",
       "text": [
        "<matplotlib.figure.Figure at 0x7f303e86c7d0>"
       ]
      }
     ],
     "prompt_number": 5
    },
    {
     "cell_type": "markdown",
     "metadata": {},
     "source": [
      "We chose an offset to account for any difference between the exp. data and when the channel fires in our data. This took some playing around. Easiest to debug this when looking at the best fit graph at the end of the calculation. Also, I interpolated the experimental over about 10 s. Need to also play around with interpolation points too so they fairly approximate the complete data "
     ]
    },
    {
     "cell_type": "code",
     "collapsed": false,
     "input": [
      "\n",
      "expInterpTs = np.linspace(0,12,8)  # point at t=0 was pretty bad\n",
      "expInterpVals = np.interp(expInterpTs,t1,y1)\n",
      "plt.plot(t1,y1)\n",
      "plt.scatter(expInterpTs,expInterpVals)\n",
      "\n",
      "\n",
      "# here I apply the offset to align with the model predictions\n",
      "# also the exptl data is in seconds \n",
      "expInterpTs*= 1e3\n",
      "offset = 1.55e3 # ms\n",
      "expInterpTs+= offset"
     ],
     "language": "python",
     "metadata": {},
     "outputs": [
      {
       "metadata": {},
       "output_type": "display_data",
       "png": "[encoded data removed]",
       "text": [
        "<matplotlib.figure.Figure at 0x7f303fce4810>"
       ]
      }
     ],
     "prompt_number": 11
    },
    {
     "cell_type": "code",
     "collapsed": false,
     "input": [
      "print offset\n",
      "print expInterpTs\n",
      "print expInterpVals"
     ],
     "language": "python",
     "metadata": {},
     "outputs": [
      {
       "output_type": "stream",
       "stream": "stdout",
       "text": [
        "1550.0\n",
        "[  1550.           3264.28571429   4978.57142857   6692.85714286\n",
        "   8407.14285714  10121.42857143  11835.71428571  13550.        ]\n",
        "[  0.00000000e+00  -3.01288937e-09  -2.81899192e-08  -1.70412141e-08\n",
        "  -6.42857143e-09  -3.98625875e-09  -1.54394607e-09   0.00000000e+00]\n"
       ]
      }
     ],
     "prompt_number": 12
    },
    {
     "cell_type": "code",
     "collapsed": false,
     "input": [
      "testState = \"I_s\"\n",
      "\n",
      "results = ga.run(\n",
      "    odeModel = \"microgliav50.ode\",\n",
      "    yamlVarFile = \"P2X7FitVar100uM.yaml\" ,\n",
      "    myVariedParam = \"H7_ptxs\",\n",
      "    variedParamTruthVal = 1e-7  , # was 2.22e-13 in code, but bumping it up a bit\n",
      "    timeStart = offset,\n",
      "    jobDuration = 15e3,\n",
      "    numRandomDraws = 2,\n",
      "    numIters = 3,\n",
      "    sigmaScaleRate = 0.15,\n",
      "    outputParamName = \"I\",\n",
      "    outputParamSearcher = testState,\n",
      "    outputParamMethod = \"val_vs_time\",\n",
      "    outputParamTruthTimes=expInterpTs,\n",
      "    outputParamTruthVal=expInterpVals,\n",
      "    debug = True\n",
      ")"
     ],
     "language": "python",
     "metadata": {},
     "outputs": [
      {
       "output_type": "stream",
       "stream": "stdout",
       "text": [
        "\n",
        "WARNING: In debug mode. \n",
        "Fixing random seed\n",
        "\n",
        "timeRange:  [1.55, 15.0]\n",
        "iter 1  out of 3\n",
        "parmDict:  {'H7_ptxs': [1e-07, 0.2]}\n",
        "Inputs:  H7_ptxs 1e-07\n",
        "Using 2 cores for 2 jobs\n",
        "Should probably rescale sigma by the tolerated error vs current error\n",
        "Multi-threading\n"
       ]
      },
      {
       "output_type": "stream",
       "stream": "stdout",
       "text": [
        "result:  [ -7.25068374e-11  -2.10801552e-08  -2.66492246e-08  -2.48593307e-08\n",
        "  -2.20181502e-08  -1.93295031e-08  -1.23807443e-08  -2.16467895e-09] truthValue:  [  0.00000000e+00  -3.01288937e-09  -2.81899192e-08  -1.70412141e-08\n",
        "  -6.42857143e-09  -3.98625875e-09  -1.54394607e-09   0.00000000e+00]\n",
        "result:  [ -7.25068359e-11  -2.10801663e-08  -2.66492978e-08  -2.48595171e-08\n",
        "  -2.20184911e-08  -1.93300267e-08  -1.23812324e-08  -2.16476444e-09] truthValue:  [  0.00000000e+00  -3.01288937e-09  -2.81899192e-08  -1.70412141e-08\n",
        "  -6.42857143e-09  -3.98625875e-09  -1.54394607e-09   0.00000000e+00]\n",
        "myDataFrame: \n",
        "            H7_ptxs                                                  I  \\\n",
        "0_3991  1.15379e-07  [-7.25068374498e-11, -2.10801551587e-08, -2.66...   \n",
        "1_3992  1.30515e-07  [-7.25068359038e-11, -2.10801663446e-08, -2.66...   \n",
        "\n",
        "         jobID jobNum       fitness  \n",
        "0_3991  0_3991      0  3.147221e-08  \n",
        "1_3992  1_3992      1  3.147286e-08  \n",
        "jobFitnesses:  [  3.14722129e-08   3.14728601e-08]\n",
        "jobIndex:  0\n",
        "previousDraw:  3.14722128719e-08\n",
        "bestVarDict:  {'H7_ptxs': 1.1537941756773321e-07}\n",
        "iter 1  out of 3\n",
        "\n",
        "######\n",
        "\n",
        "iter 2  out of 3\n",
        "parmDict:  {'H7_ptxs': [1.1537941756773321e-07, 0.2]}\n",
        "Inputs:  H7_ptxs 1.15379417568e-07\n",
        "Using 2 cores for 2 jobs\n",
        "Should probably rescale sigma by the tolerated error vs current error\n",
        "Multi-threading\n",
        "Worker bee 3991, Job 0 \n",
        "Worker bee 3992, Job 1 \n",
        "Loaded ODE model 'microgliav50' with:\n",
        "Loaded ODE model 'microgliav50' with:\n",
        "     Num full states: 42\n",
        "     Num full states: 42\n",
        "      Num parameters: 133\n",
        "      Num parameters: 133\n",
        "Calling GOTRAN just-in-time (JIT) compiler, this may take some time...Calling GOTRAN just-in-time (JIT) compiler, this may take some time... done\n",
        " done\n"
       ]
      },
      {
       "output_type": "stream",
       "stream": "stderr",
       "text": [
        "INFO:ModelParameters:Loaded ODE model 'microgliav50' with:\n",
        "INFO:ModelParameters:Loaded ODE model 'microgliav50' with:\n",
        "INFO:ModelParameters:     Num full states: 42\n",
        "INFO:ModelParameters:     Num full states: 42\n",
        "INFO:ModelParameters:      Num parameters: 133\n",
        "INFO:ModelParameters:      Num parameters: 133\n",
        "INFO:ModelParameters:Calling GOTRAN just-in-time (JIT) compiler, this may take some time...\n",
        "INFO:ModelParameters:Calling GOTRAN just-in-time (JIT) compiler, this may take some time...\n",
        "INFO:ModelParameters: done\n",
        "In instant.build_module: Path '/home/AD/bch265/.cache/instant/python2.7/cache/gotran_compiled_module_Microgliav50_a48697f4ae3ce07413080a97421728abdf4cdc0f' already exists, but module wasn't found in cache previously. Not overwriting, assuming this module is valid.\n",
        "WARNING:instant:In instant.build_module: Path '/home/AD/bch265/.cache/instant/python2.7/cache/gotran_compiled_module_Microgliav50_a48697f4ae3ce07413080a97421728abdf4cdc0f' already exists, but module wasn't found in cache previously. Not overwriting, assuming this module is valid.\n",
        "INFO:ModelParameters: done\n"
       ]
      },
      {
       "output_type": "stream",
       "stream": "stdout",
       "text": [
        "result:  [ -7.25068370e-11  -2.10801338e-08  -2.66490940e-08  -2.48589962e-08\n",
        "  -2.20175407e-08  -1.93285692e-08  -1.23798726e-08  -2.16452681e-09] truthValue:  [  0.00000000e+00  -3.01288937e-09  -2.81899192e-08  -1.70412141e-08\n",
        "  -6.42857143e-09  -3.98625875e-09  -1.54394607e-09   0.00000000e+00]\n",
        "result:  [ -7.25068372e-11  -2.10801549e-08  -2.66492238e-08  -2.48593302e-08\n",
        "  -2.20181485e-08  -1.93294977e-08  -1.23807397e-08  -2.16467807e-09] truthValue:  [  0.00000000e+00  -3.01288937e-09  -2.81899192e-08  -1.70412141e-08\n",
        "  -6.42857143e-09  -3.98625875e-09  -1.54394607e-09   0.00000000e+00]\n",
        "myDataFrame: \n",
        "            H7_ptxs                                                  I  \\\n",
        "0_4030  8.84289e-08  [-7.25068370343e-11, -2.10801337929e-08, -2.66...   \n",
        "1_4031  1.15213e-07  [-7.25068371675e-11, -2.10801549459e-08, -2.66...   \n",
        "\n",
        "         jobID jobNum       fitness  \n",
        "0_4030  0_4030      0  3.147106e-08  \n",
        "1_4031  1_4031      1  3.147221e-08  \n",
        "jobFitnesses:  [  3.14710561e-08   3.14722075e-08]\n",
        "jobIndex:  0\n",
        "bestVarDict:  {'H7_ptxs': 8.8428853127124386e-08}\n",
        "iter 2  out of 3\n",
        "\n",
        "######\n",
        "\n",
        "iter 3  out of 3\n",
        "parmDict:  {'H7_ptxs': [8.8428853127124386e-08, 0.2]}\n",
        "Inputs:  H7_ptxs 8.84288531271e-08\n",
        "Using 2 cores for 2 jobs\n",
        "Should probably rescale sigma by the tolerated error vs current error\n",
        "Multi-threading\n",
        "Worker bee 4030, Job 0 \n",
        "Worker bee 4031, Job 1 \n",
        "Loaded ODE model 'microgliav50' with:\n",
        "Loaded ODE model 'microgliav50' with:\n",
        "     Num full states: 42\n",
        "     Num full states: 42\n",
        "      Num parameters: 133\n",
        "      Num parameters: 133\n"
       ]
      },
      {
       "output_type": "stream",
       "stream": "stderr",
       "text": [
        "INFO:ModelParameters:Loaded ODE model 'microgliav50' with:\n",
        "INFO:ModelParameters:Loaded ODE model 'microgliav50' with:\n",
        "INFO:ModelParameters:     Num full states: 42\n",
        "INFO:ModelParameters:     Num full states: 42\n",
        "INFO:ModelParameters:      Num parameters: 133\n",
        "INFO:ModelParameters:      Num parameters: 133\n"
       ]
      },
      {
       "output_type": "stream",
       "stream": "stdout",
       "text": [
        "result:  [ -7.25068370e-11  -2.10801277e-08  -2.66490506e-08  -2.48588857e-08\n",
        "  -2.20173374e-08  -1.93282598e-08  -1.23795877e-08  -2.16447701e-09] truthValue:  [  0.00000000e+00  -3.01288937e-09  -2.81899192e-08  -1.70412141e-08\n",
        "  -6.42857143e-09  -3.98625875e-09  -1.54394607e-09   0.00000000e+00]\n",
        "result:  [ -7.25068368e-11  -2.10801404e-08  -2.66491354e-08  -2.48591014e-08\n",
        "  -2.20177333e-08  -1.93288653e-08  -1.23801470e-08  -2.16457449e-09] truthValue:  [  0.00000000e+00  -3.01288937e-09  -2.81899192e-08  -1.70412141e-08\n",
        "  -6.42857143e-09  -3.98625875e-09  -1.54394607e-09   0.00000000e+00]\n",
        "myDataFrame: \n",
        "            H7_ptxs                                                  I  \\\n",
        "0_4050  7.94802e-08  [-7.25068369857e-11, -2.10801276657e-08, -2.66...   \n",
        "1_4051   9.6956e-08  [-7.25068368212e-11, -2.10801403545e-08, -2.66...   \n",
        "\n",
        "         jobID jobNum       fitness  \n",
        "0_4050  0_4050      0  3.147067e-08  \n",
        "1_4051  1_4051      1  3.147142e-08  \n",
        "jobFitnesses:  [  3.14706742e-08   3.14714214e-08]\n",
        "jobIndex:  0\n",
        "bestVarDict:  {'H7_ptxs': 7.9480190019431527e-08}\n",
        "iter 3  out of 3\n",
        "\n",
        "######\n",
        "\n",
        "Best fit parameter 7.94801900194e-08\n",
        "Leaving!!\n",
        "Worker bee 2736, Job 0 \n",
        "Loaded ODE model 'microgliav50' with:\n",
        "Worker bee 4050, Job 0 \n",
        "Worker bee 4051, Job 1 \n",
        "Loaded ODE model 'microgliav50' with:\n",
        "Loaded ODE model 'microgliav50' with:\n",
        "     Num full states: 42\n",
        "     Num full states: 42\n",
        "      Num parameters: 133\n",
        "      Num parameters: 133\n"
       ]
      },
      {
       "output_type": "stream",
       "stream": "stderr",
       "text": [
        "INFO:ModelParameters:Loaded ODE model 'microgliav50' with:\n",
        "INFO:ModelParameters:Loaded ODE model 'microgliav50' with:\n",
        "INFO:ModelParameters:Loaded ODE model 'microgliav50' with:\n",
        "INFO:ModelParameters:     Num full states: 42\n",
        "INFO:ModelParameters:     Num full states: 42\n",
        "INFO:ModelParameters:      Num parameters: 133\n",
        "INFO:ModelParameters:      Num parameters: 133\n"
       ]
      },
      {
       "output_type": "stream",
       "stream": "stdout",
       "text": [
        "     Num full states: 42\n"
       ]
      },
      {
       "output_type": "stream",
       "stream": "stderr",
       "text": [
        "INFO:ModelParameters:     Num full states: 42\n"
       ]
      },
      {
       "output_type": "stream",
       "stream": "stdout",
       "text": [
        "      Num parameters: 133\n"
       ]
      },
      {
       "output_type": "stream",
       "stream": "stderr",
       "text": [
        "INFO:ModelParameters:      Num parameters: 133\n"
       ]
      },
      {
       "metadata": {},
       "output_type": "display_data",
       "png": "[encoded data removed]",
       "text": [
        "<matplotlib.figure.Figure at 0x7f3071842810>"
       ]
      }
     ],
     "prompt_number": 16
    },
    {
     "cell_type": "markdown",
     "metadata": {},
     "source": [
      "Should you wish to compare the results on your own, you can run the following. \n",
      "The code saves a figure like this automatically though"
     ]
    },
    {
     "cell_type": "code",
     "collapsed": false,
     "input": [
      "#print results['outputList']['I'].timeInterpolations\n",
      "data = results['data']\n",
      "#data = aG.readPickle(\"test_cat.pickle\")\n",
      "stateLabel = \"I_ptxf\"\n",
      "subData = aG.GetData(data,stateLabel)\n",
      "i=0\n",
      "ts = subData.t[i:]\n",
      "vals = subData.valsIdx[i:]\n",
      "print np.shape(subData.valsIdx)\n",
      "\n",
      "#normedPred = vals/np.min(vals)\n",
      "plt.plot(ts,vals,label=\"pred\")\n",
      "\n",
      "plt.scatter(expInterpTs, expInterpVals)\n"
     ],
     "language": "python",
     "metadata": {},
     "outputs": [
      {
       "output_type": "stream",
       "stream": "stdout",
       "text": [
        "(200001,)\n"
       ]
      },
      {
       "metadata": {},
       "output_type": "pyout",
       "prompt_number": 10,
       "text": [
        "<matplotlib.collections.PathCollection at 0x7f07002a4210>"
       ]
      },
      {
       "metadata": {},
       "output_type": "display_data",
       "png": "[encoded data removed]",
       "text": [
        "<matplotlib.figure.Figure at 0x7f07003a91d0>"
       ]
      }
     ],
     "prompt_number": 10
    }
   ],
   "metadata": {}
  }
 ]
}