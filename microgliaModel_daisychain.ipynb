{
 "metadata": {
  "name": "",
  "signature": "sha256:e683e7168442376d87ca4a3f9370bebb891dcb1be82a909d85f0fe72b0297809"
 },
 "nbformat": 3,
 "nbformat_minor": 0,
 "worksheets": [
  {
   "cells": [
    {
     "cell_type": "code",
     "collapsed": false,
     "input": [
      "%load_ext autoreload\n",
      "%autoreload 2"
     ],
     "language": "python",
     "metadata": {},
     "outputs": [],
     "prompt_number": 1
    },
    {
     "cell_type": "code",
     "collapsed": false,
     "input": [
      "import math\n",
      "import gotranJIT\n",
      "from gotran.model.loadmodel import load_ode\n",
      "import analyzeODE as ao\n",
      "import numpy as np\n",
      "import matplotlib.pylab as plt\n",
      "import downSamplePickles as dsp\n",
      "import json\n",
      "import Case \n",
      "import os.path\n",
      "cases = dict()\n",
      "class empty:pass\n",
      "\n",
      "ms_to_s = 1.0e-3\n",
      "mM_to_uM = 1.0e-3"
     ],
     "language": "python",
     "metadata": {},
     "outputs": [],
     "prompt_number": 16
    },
    {
     "cell_type": "code",
     "collapsed": false,
     "input": [
      "\n",
      "### out put to directory for despa paper\n",
      "rootOutput = \"/net/share/bdst227/microglia/figs/\"\n"
     ],
     "language": "python",
     "metadata": {},
     "outputs": [],
     "prompt_number": 17
    },
    {
     "cell_type": "code",
     "collapsed": false,
     "input": [
      "root = \"/home/AD/bdst227/ipython/ipython-notebooks/microglia/\"\n",
      "doReload=True\n",
      "\n",
      "if doReload:\n",
      "      \n",
      "    caseTest = empty()\n",
      "    cases[\"Test\"] = caseTest\n",
      "    caseTest.caseName = \"test_cat\" \n",
      "    caseTest.name = root+caseTest.caseName+\".pkl\"\n",
      "\n",
      "ao.LoadPickles(cases,noOverwrite=True)"
     ],
     "language": "python",
     "metadata": {},
     "outputs": [
      {
       "output_type": "stream",
       "stream": "stdout",
       "text": [
        "#  Test\n",
        "Loading /home/AD/bdst227/ipython/ipython-notebooks/microglia/test_cat.pkl\n",
        "Reading /home/AD/bdst227/ipython/ipython-notebooks/microglia/test_cat.pkl\n"
       ]
      }
     ],
     "prompt_number": 18
    },
    {
     "cell_type": "code",
     "collapsed": false,
     "input": [
      "states = [\"Ca_jct1\",\"i_P2X\",\"i_BDNF\",\"V\"]\n",
      "datas = [caseTest.data]\n",
      "colors = [\"b\",\"b--\",\"k\",\"k--\"]\n",
      "xlabel = \"time [s]\"\n",
      "ylabels = [\"Ca_jct1 [mM]\",\"i_P2X\",\"i_BDNF\",\"V [mV]\"]\n",
      "legends = [\"Test\"]\n",
      "time_range = [10.0e3,15.0e3]\n",
      "time_range_array = np.asarray(time_range)\n",
      "Full_image_xlim = [0,15]\n",
      "Zoomed_image_xlim = time_range_array * ms_to_s\n",
      "unit_scalers = [[1.0],[1.0],[1.0],[1.0],[1.0]]\n",
      "plots_ylim = [[0,1.2],[-10,10],[-10,10],[-90,30]]\n",
      "legendPlacer = \"i_P2X\"\n",
      "legendMover1 = 2.75\n",
      "legendMover2 = 1.025\n",
      "for i,state in enumerate(states):\n",
      "    ao.Plot_Pickle_Data(rootOutput,datas,state,colors,xlabel,ylabels[i],Full_image_xlim,Zoomed_image_xlim,\n",
      "                     plots_ylim[i],unit_scalers[i],legends,time_range_array,legendMover1,legendMover2,legendPlacer)"
     ],
     "language": "python",
     "metadata": {},
     "outputs": [
      {
       "output_type": "stream",
       "stream": "stdout",
       "text": [
        "/net/share/bdst227/microglia/figs/Intracellular_Ca_jct1_Test_plots.png\n"
       ]
      },
      {
       "metadata": {},
       "output_type": "display_data",
       "png": "[encoded data removed]",
       "text": [
        "<matplotlib.figure.Figure at 0x7f540485e9d0>"
       ]
      },
      {
       "output_type": "stream",
       "stream": "stdout",
       "text": [
        "/net/share/bdst227/microglia/figs/Intracellular_i_P2X_Test_plots.png\n"
       ]
      },
      {
       "metadata": {},
       "output_type": "display_data",
       "png": "[encoded data removed]",
       "text": [
        "<matplotlib.figure.Figure at 0x7f54046b8f50>"
       ]
      },
      {
       "output_type": "stream",
       "stream": "stdout",
       "text": [
        "/net/share/bdst227/microglia/figs/Intracellular_i_BDNF_Test_plots.png\n"
       ]
      },
      {
       "metadata": {},
       "output_type": "display_data",
       "png": "[encoded data removed]",
       "text": [
        "<matplotlib.figure.Figure at 0x7f5404b5ef90>"
       ]
      },
      {
       "output_type": "stream",
       "stream": "stdout",
       "text": [
        "/net/share/bdst227/microglia/figs/Intracellular_V_Test_plots.png\n"
       ]
      },
      {
       "metadata": {},
       "output_type": "display_data",
       "png": "[encoded data removed]",
       "text": [
        "<matplotlib.figure.Figure at 0x7f54046b3a10>"
       ]
      }
     ],
     "prompt_number": 25
    },
    {
     "cell_type": "code",
     "collapsed": false,
     "input": [],
     "language": "python",
     "metadata": {},
     "outputs": []
    }
   ],
   "metadata": {}
  }
 ]
}