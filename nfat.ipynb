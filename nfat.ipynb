{
 "cells": [
  {
   "cell_type": "code",
   "execution_count": 256,
   "metadata": {
    "collapsed": false
   },
   "outputs": [
    {
     "name": "stdout",
     "output_type": "stream",
     "text": [
      "Populating the interactive namespace from numpy and matplotlib\n"
     ]
    }
   ],
   "source": [
    "import numpy as np\n",
    "%pylab inline\n",
    "import matplotlib.pylab as plt"
   ]
  },
  {
   "cell_type": "code",
   "execution_count": 406,
   "metadata": {
    "collapsed": false
   },
   "outputs": [
    {
     "data": {
      "text/plain": [
       "u'/Users/huskeypm'"
      ]
     },
     "execution_count": 406,
     "metadata": {},
     "output_type": "execute_result"
    }
   ],
   "source": [
    "pwd"
   ]
  },
  {
   "cell_type": "code",
   "execution_count": 407,
   "metadata": {
    "collapsed": true
   },
   "outputs": [],
   "source": [
    "Ccn = 50.0\n",
    "#Kd1 = 1760\n",
    "per_sec_to_per_ms =1 # Nevermind for now / 1e-3\n",
    "K_dN = 1760.\n",
    "k_f1 = 7.69e-6*per_sec_to_per_ms\n",
    "k_r1 = 1.93e-2*per_sec_to_per_ms\n",
    "k_f2 = 1.44e-3*per_sec_to_per_ms\n",
    "k_f3 = 3.62e-4*per_sec_to_per_ms\n",
    "k_r3 = 4.71e-5*per_sec_to_per_ms\n",
    "k_f4 = 4.45e-4*per_sec_to_per_ms\n",
    "K_mN = 535.\n",
    "M = 6000.\n",
    "n = 2.92\n",
    "Ntot = 1000.\n",
    "Ca = 100. # nM \n",
    "NFATp_c = 9.83e-1  # nM\n",
    "NFATp_n = 2.76e-1\n",
    "NFATN_c =1.70e-3\n",
    "NFATN_n=5.09e-1\n",
    "\n",
    "# J1 only\n",
    "#k_f2=0; k_f3=0; k_r3=0; k_f4=0;\n",
    "\n",
    "def ActN(Ca):\n",
    "    act_N = np.power(Ca, n) / (np.power(Ca, n) + np.power(K_mN, n) * (1  + K_dN / M))\n",
    "    return act_N\n",
    "\n",
    "def Cooling(Ca,NFATp_c,NFATp_n,NFATN_c,NFATN_n):\n",
    "    # fract activated N\n",
    "    act_N = ActN(Ca)\n",
    "    act_N = 1\n",
    "    J1 = k_f1 * NFATp_c * Ntot * act_N - k_r1 * NFATN_c * (1 - act_N)\n",
    "    J2 = k_f2 * NFATN_c\n",
    "    J3 = k_f3 * NFATN_n * (1  - act_N) - k_r3 * NFATp_n * Ntot * act_N\n",
    "    J4 = k_f4 * NFATp_n\n",
    "    dNFATp_c_dt = J4 / Ccn - J1\n",
    "    dNFATp_n_dt = J3 - J4\n",
    "    dNFATN_c_dt = J1 - J2\n",
    "    dNFATN_n_dt = J2 * Ccn - J3\n",
    "    return dNFATp_c_dt,dNFATp_n_dt,dNFATN_c_dt,dNFATN_n_dt\n",
    "#nuclearNFAT = NFATN_n + NFATp_n\n"
   ]
  },
  {
   "cell_type": "code",
   "execution_count": 405,
   "metadata": {
    "collapsed": false
   },
   "outputs": [
    {
     "data": {
      "image/png": "[encoded data removed]",
      "text/plain": [
       "<matplotlib.figure.Figure at 0x1193f05d0>"
      ]
     },
     "metadata": {},
     "output_type": "display_data"
    }
   ],
   "source": [
    "tsLong = np.linspace(0,60*600,36000) # 60s*60m \n",
    "y0=[500,NFATp_c,NFATp_n,NFATN_c,NFATN_n]\n",
    "ys = odeint(dydt,y0,tsLong,args=(0,0))\n",
    "Plotting(tsLong,ys)"
   ]
  },
  {
   "cell_type": "code",
   "execution_count": 397,
   "metadata": {
    "collapsed": false
   },
   "outputs": [
    {
     "name": "stdout",
     "output_type": "stream",
     "text": [
      "(3.5266399923817144e-05, 6.1437999867706386e-05, -3.5257999923817145e-05, -6.1857999867706386e-05)\n",
      "(-8.3205764289381051e-06, -1.4251996402628384e-05, 8.3289764289381032e-06, 1.3831996402628385e-05)\n",
      "(-0.0075549135913018971, -0.013119120582070456, 0.0075549219913018965, 0.013118700582070457)\n",
      "0.82767005246\n"
     ]
    }
   ],
   "source": [
    "print Cooling(1e-1, NFATp_c,NFATp_n,NFATN_c,NFATN_n)\n",
    "print Cooling(100, NFATp_c,NFATp_n,NFATN_c,NFATN_n)\n",
    "print Cooling(10000, NFATp_c,NFATp_n,NFATN_c,NFATN_n)\n",
    "\n",
    "print ActN(1e-6 * 1e9) # Ca: 1 uM -> nM"
   ]
  },
  {
   "cell_type": "markdown",
   "metadata": {},
   "source": [
    "#### Pulse train for Ca"
   ]
  },
  {
   "cell_type": "code",
   "execution_count": 550,
   "metadata": {
    "collapsed": false
   },
   "outputs": [],
   "source": [
    "# Create periodic exponential decay\n",
    "def caSign(t,decay=10.,pulseAmplitude=700.,dom=20.):\n",
    "    z = t/dom - np.floor(t/dom);\n",
    "    z = pulseAmplitude*np.exp(-decay*z)\n",
    "    return z\n",
    "\n",
    "# Single rate \n",
    "def caRemove(t,rate=1.):\n",
    "    return -rate\n",
    "    \n",
    "    \n",
    "# Fermi dirac potential (behaves like a 'smooth' heavyside function)    \n",
    "def fermiDirac(t,rate=1.,offset=50):\n",
    "    ts = t-offset\n",
    "    z = 1/(1 + np.exp(-ts*rate))\n",
    "    return z\n",
    "\n",
    "# creates a 'notch' by taking the difference of two fermidiracs\n",
    "def notch(t,offset=50,deltaT=20):\n",
    "    gr = fermiDirac(t,rate=1.,offset=offset)\n",
    "    gl = fermiDirac(t,rate=1.,offset=offset+deltaT)\n",
    "    g = gr -gl\n",
    "    return g\n",
    "\n",
    "# creates periodic signal with two phase decay\n",
    "def caSignTwoPhase(t,decay1=1.,pulseAmplitude=700.,period=20.,\n",
    "                     decay2=5.,phaseOffset=0.7):\n",
    "    modulo = t/period - np.floor(t/period);\n",
    "    firstPhase = pulseAmplitude*np.exp(-decay1*modulo)\n",
    "    secondPhase= 1-fermiDirac(modulo,rate=decay2,offset=phaseOffset)\n",
    "    result = firstPhase*secondPhase\n",
    "    #z3 = z2\n",
    "    return result\n"
   ]
  },
  {
   "cell_type": "code",
   "execution_count": 552,
   "metadata": {
    "collapsed": false
   },
   "outputs": [
    {
     "data": {
      "text/plain": [
       "[<matplotlib.lines.Line2D at 0x11ddd7090>]"
      ]
     },
     "execution_count": 552,
     "metadata": {},
     "output_type": "execute_result"
    },
    {
     "data": {
      "image/png": "[encoded data removed]",
      "text/plain": [
       "<matplotlib.figure.Figure at 0x11ddd7210>"
      ]
     },
     "metadata": {},
     "output_type": "display_data"
    }
   ],
   "source": [
    "ts= np.linspace(0,120,1200)    \n",
    "g = caSign(ts,pulseAmplitude=700.,decay=10.)    \n",
    "plt.plot(ts,g)\n",
    "g = caSignTwoPhase(ts,pulseAmplitude=700.,decay1=1.0,decay2=40.,phaseOffset=0.5)    \n",
    "plt.plot(ts,g)\n",
    "#plt.plot(ts,notch(ts))"
   ]
  },
  {
   "cell_type": "markdown",
   "metadata": {},
   "source": [
    "#### Determine compensating flux for Ca removal "
   ]
  },
  {
   "cell_type": "code",
   "execution_count": 351,
   "metadata": {
    "collapsed": false
   },
   "outputs": [
    {
     "name": "stdout",
     "output_type": "stream",
     "text": [
      "0.0720631833838\n"
     ]
    }
   ],
   "source": [
    "dt = (ts[1]-ts[0])\n",
    "caAdd = np.sum(g[0:199])*dt  # nM\n",
    "Deltat = ts[199]-ts[0] # [s]\n",
    "rate_nM_s = caAdd/Deltat # [nM/s]\n",
    "rate_nM_ms= rate_nM_s/1000.\n",
    "print rate_nM_ms"
   ]
  },
  {
   "cell_type": "markdown",
   "metadata": {},
   "source": [
    "#### Integratation function"
   ]
  },
  {
   "cell_type": "code",
   "execution_count": 384,
   "metadata": {
    "collapsed": false
   },
   "outputs": [],
   "source": [
    "#  [Ca]\n",
    "#Ca = 100 # nM \n",
    "#NFATp_c = 9.83e-1  # nM\n",
    "#NFATp_n = 2.76e-1\n",
    "#NFATN_c =1.70e-3\n",
    "#NFATN_n=5.09e-1\n",
    "\n",
    "y0=[Ca,NFATp_c,NFATp_n,NFATN_c,NFATN_n]\n",
    "def dydt(y,t,removalRate,pulseAmplitude):\n",
    "    # Ca\n",
    "    dCa_dt = caSign(t,pulseAmplitude=pulseAmplitude)\n",
    "    dCa_dt+= caRemove(t,rate=removalRate)\n",
    "    \n",
    "    Ca,NFATp_c,NFATp_n,NFATN_c,NFATN_n = y\n",
    "    dNFATp_c_dt,dNFATp_n_dt,dNFATN_c_dt,dNFATN_n_dt =Cooling(\n",
    "        Ca,NFATp_c,NFATp_n,NFATN_c,NFATN_n)\n",
    "    return dCa_dt,dNFATp_c_dt,dNFATp_n_dt,dNFATN_c_dt,dNFATN_n_dt\n"
   ]
  },
  {
   "cell_type": "code",
   "execution_count": 382,
   "metadata": {
    "collapsed": false
   },
   "outputs": [],
   "source": [
    "def Plotting(ts,ys) :   \n",
    "    #plt.plot(ts,ys[:,0],label= \"Ca\")\n",
    "\n",
    "    plt.figure()\n",
    "    plt.plot(ts,ys[:,1],label=\"NFATp_c\")\n",
    "    plt.plot(ts,ys[:,2],label=\"NFATp_n\")\n",
    "    plt.plot(ts,ys[:,3],label=\"NFATN_c\")\n",
    "    plt.plot(ts,ys[:,4],label=\"NFATN_n\")\n",
    "    plt.legend(loc=0)\n",
    "    \n",
    "    #plt.figure()\n",
    "    Cas = ys[:,0]\n",
    "    Nact = ActN(Cas)*Ntot\n",
    "    #plt.plot(ts,Nact)\n",
    "    "
   ]
  },
  {
   "cell_type": "markdown",
   "metadata": {},
   "source": [
    "#### Ca removal offsets Ca entry"
   ]
  },
  {
   "cell_type": "code",
   "execution_count": 386,
   "metadata": {
    "collapsed": false
   },
   "outputs": [
    {
     "data": {
      "image/png": "[encoded data removed]",
      "text/plain": [
       "<matplotlib.figure.Figure at 0x11731e7d0>"
      ]
     },
     "metadata": {},
     "output_type": "display_data"
    }
   ],
   "source": [
    "ys = odeint(dydt,y0,ts,args=(rate_nM_s*0.97,700))\n",
    "Plotting(ts,ys)"
   ]
  },
  {
   "cell_type": "code",
   "execution_count": 355,
   "metadata": {
    "collapsed": false
   },
   "outputs": [],
   "source": [
    "#ys = odeint(dydt,y0,ts,args=(rate_nM_s*0.57,700))\n",
    "#Plotting(ts,ys)"
   ]
  },
  {
   "cell_type": "code",
   "execution_count": 356,
   "metadata": {
    "collapsed": false
   },
   "outputs": [
    {
     "data": {
      "image/png": "[encoded data removed]",
      "text/plain": [
       "<matplotlib.figure.Figure at 0x116d73bd0>"
      ]
     },
     "metadata": {},
     "output_type": "display_data"
    },
    {
     "data": {
      "image/png": "[encoded data removed]",
      "text/plain": [
       "<matplotlib.figure.Figure at 0x114cbd490>"
      ]
     },
     "metadata": {},
     "output_type": "display_data"
    },
    {
     "data": {
      "image/png": "[encoded data removed]",
      "text/plain": [
       "<matplotlib.figure.Figure at 0x11532b050>"
      ]
     },
     "metadata": {},
     "output_type": "display_data"
    }
   ],
   "source": [
    "tsLong = np.linspace(0,60*6000,3600) # 60s*60m \n",
    "y0=[500,NFATp_c,NFATp_n,NFATN_c,NFATN_n]\n",
    "ys = odeint(dydt,y0,tsLong,args=(0,0))\n",
    "Plotting(tsLong,ys)"
   ]
  },
  {
   "cell_type": "code",
   "execution_count": null,
   "metadata": {
    "collapsed": true
   },
   "outputs": [],
   "source": []
  },
  {
   "cell_type": "markdown",
   "metadata": {},
   "source": []
  },
  {
   "cell_type": "markdown",
   "metadata": {},
   "source": []
  },
  {
   "cell_type": "code",
   "execution_count": null,
   "metadata": {
    "collapsed": true
   },
   "outputs": [],
   "source": []
  }
 ],
 "metadata": {
  "kernelspec": {
   "display_name": "Python 2",
   "language": "python",
   "name": "python2"
  },
  "language_info": {
   "codemirror_mode": {
    "name": "ipython",
    "version": 2
   },
   "file_extension": ".py",
   "mimetype": "text/x-python",
   "name": "python",
   "nbconvert_exporter": "python",
   "pygments_lexer": "ipython2",
   "version": "2.7.13"
  }
 },
 "nbformat": 4,
 "nbformat_minor": 2
}
