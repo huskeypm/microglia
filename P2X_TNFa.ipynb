{
 "cells": [
  {
   "cell_type": "markdown",
   "metadata": {},
   "source": [
    "### Ca/ATP coordinated TNFa release in microglia\n",
    "Largely based on Hide, I., Tanaka, M., Inoue, A., Nakajima, K., Kohsaka, S., Inoue, K., & Nakata, Y. (2000). Extracellular ATP triggers tumor necrosis factor-alpha release from rat microglia. Journal of Neurochemistry, 75(3), 965–972. https://doi.org/10.1046/j.1471-4159.2000.0750965.x"
   ]
  },
  {
   "cell_type": "markdown",
   "metadata": {},
   "source": [
    "Key factors from paper: \n",
    "- $\\Delta Ca$ and TNFa release are similarly correlated with ATP, following 1 hr incubation (Figs 1B, 3B)\n",
    "- $\\Delta Ca$ transient is ATP dose and time dependent \n",
    "- Signal mediated through P2X7??\n",
    "- ATP incubation increases TNFa mRNA ratio from 2 to 10 \n",
    "- Extracellular Ca chelation substantially reduces TNFa release \n",
    "- p38/ERK inhibition strongly reduce TNFa release, ATP required, not Ca \n",
    "- Provides reference that NFAT responsible for TNFa transcription (verify)\n",
    "- Suggests p38 operates post-transcription\n",
    "\n"
   ]
  },
  {
   "cell_type": "markdown",
   "metadata": {},
   "source": [
    "Model assumptions \n",
    "- 'Released' BDNF depends on three terms: rTranscription, rTranslation, rRelease\n",
    "- Ca-dependent NFAT activation drives rTranscription\n",
    "- X-dependent (unknown substrate) p38/ERK increase rTranslate\n",
    "- ATP-dependent P2X(4/7?) activation promotes Ca/X entry \n"
   ]
  },
  {
   "cell_type": "code",
   "execution_count": 2,
   "metadata": {
    "collapsed": true
   },
   "outputs": [],
   "source": [
    "from scipy.integrate import odeint\n",
    "%matplotlib inline\n",
    "import matplotlib.pylab as plt\n",
    "import numpy as np"
   ]
  },
  {
   "cell_type": "code",
   "execution_count": 85,
   "metadata": {
    "collapsed": true
   },
   "outputs": [],
   "source": [
    "def dTNFdt_basic(y,t,rTranscribe, rTranslation, rDegrade,rRelease):\n",
    "    transcribedTNF, translatedTNF,releasedTNF = y\n",
    "\n",
    "    dtranscribedTNF_dt = rTranscribe - transcribedTNF*rTranslation\n",
    "    dtranslatedTNF_dt =  transcribedTNF*rTranslation - translatedTNF*(rRelease+rDegrade)\n",
    "    dreleasedTNF_dt =    translatedTNF*rRelease\n",
    "    \n",
    "    dydt = [dtranscribedTNF_dt,dtranslatedTNF_dt,dreleasedTNF_dt]\n",
    "    return dydt\n",
    "\n"
   ]
  },
  {
   "cell_type": "markdown",
   "metadata": {},
   "source": [
    "#### Steady state conditions"
   ]
  },
  {
   "cell_type": "code",
   "execution_count": 86,
   "metadata": {
    "collapsed": false
   },
   "outputs": [],
   "source": [
    "ts = np.linspace(0,10,100)\n",
    "\n",
    "rTranscribe = 0.1 # [nM/s]\n",
    "rTranslation=0.05 # [1/s] , \n",
    "rRelease = 0.00 # [1/s]\n",
    "rDegrade = 0.075\n",
    "\n",
    "# from steady state \n",
    "transcribedTNF=rTranscribe/rTranslation # [nM/cell]\n",
    "translatedTNF=transcribedTNF*rTranslation/rDegrade  # [nM/cell]\n",
    "releasedTNF=  0.  # [nm/cell]\n",
    "\n",
    "\n",
    "y0s = [transcribedTNF, translatedTNF,releasedTNF]\n"
   ]
  },
  {
   "cell_type": "code",
   "execution_count": 87,
   "metadata": {
    "collapsed": false
   },
   "outputs": [
    {
     "name": "stdout",
     "output_type": "stream",
     "text": [
      "(100, 3)\n"
     ]
    }
   ],
   "source": [
    "ys = odeint(dTNFdt_basic,y0s,ts,args=(rTranscribe, rTranslation, rDegrade,rRelease))\n",
    "print np.shape(ys)"
   ]
  },
  {
   "cell_type": "code",
   "execution_count": 88,
   "metadata": {
    "collapsed": false
   },
   "outputs": [
    {
     "data": {
      "text/plain": [
       "<matplotlib.legend.Legend at 0x10d9cde10>"
      ]
     },
     "execution_count": 88,
     "metadata": {},
     "output_type": "execute_result"
    },
    {
     "data": {
      "image/png": "[encoded data removed]",
      "text/plain": [
       "<matplotlib.figure.Figure at 0x10da41150>"
      ]
     },
     "metadata": {},
     "output_type": "display_data"
    }
   ],
   "source": [
    "plt.plot(ts, ys[:,0],'k',label=\"transcribed\")\n",
    "plt.plot(ts, ys[:,1],'k--',label=\"translated\")\n",
    "plt.plot(ts, ys[:,2],'k-.',label=\"released\")\n",
    "plt.legend(loc=0)\n"
   ]
  },
  {
   "cell_type": "markdown",
   "metadata": {},
   "source": [
    "### Add Ca dependence of release"
   ]
  },
  {
   "cell_type": "code",
   "execution_count": 313,
   "metadata": {
    "collapsed": true
   },
   "outputs": [],
   "source": [
    "def dTNFdt_CaRelease(y,t,rTranscribe, rTranslation, rDegrade,Ca_basal,Ca_active):\n",
    "    transcribedTNF, translatedTNF,releasedTNF = y\n",
    "\n",
    "    if t>5:\n",
    "        Ca_t = Ca_active\n",
    "    else:\n",
    "        Ca_t = Ca_basal\n",
    "        \n",
    "    rRelease = calc_rRelease(Ca_t)\n",
    "    \n",
    "    dtranscribedTNF_dt = rTranscribe - transcribedTNF*rTranslation\n",
    "    dtranslatedTNF_dt =  transcribedTNF*rTranslation - translatedTNF*(rRelease+rDegrade)\n",
    "    #dtranslatedTNF_dt =    -translatedTNF*rRelease\n",
    "    dreleasedTNF_dt =    translatedTNF*rRelease\n",
    "    \n",
    "    dydt = [dtranscribedTNF_dt,dtranslatedTNF_dt,dreleasedTNF_dt]\n",
    "    return dydt\n",
    "\n",
    "def calc_rRelease(Ca=1e-7,KD=1e-6,n=3,rReleaseBasal=1.):\n",
    "    return rReleaseBasal/(1 + (KD/Ca)**n) \n",
    "    "
   ]
  },
  {
   "cell_type": "code",
   "execution_count": 314,
   "metadata": {
    "collapsed": false
   },
   "outputs": [
    {
     "data": {
      "image/png": "[encoded data removed]",
      "text/plain": [
       "<matplotlib.figure.Figure at 0x118c1a090>"
      ]
     },
     "metadata": {},
     "output_type": "display_data"
    }
   ],
   "source": [
    "cas = 10**np.linspace(-7,-4,100)\n",
    "plt.plot(cas,calc_rRelease(cas))\n",
    "plt.xscale('log')"
   ]
  },
  {
   "cell_type": "code",
   "execution_count": 305,
   "metadata": {
    "collapsed": false
   },
   "outputs": [
    {
     "name": "stdout",
     "output_type": "stream",
     "text": [
      "(10000, 3)\n"
     ]
    }
   ],
   "source": [
    "rTranscribe = 0.1 # [nM/s]\n",
    "rTranslation=0.025 # [1/s] , \n",
    "rDegrade = 0.075\n",
    "\n",
    "\n",
    "# Verify that we deplete translated TNF pools in a Ca dependent fashion \n",
    "#rTranscribe = 0.0 # [nM/s]\n",
    "#rTranslation=0.00 # [1/s] , \n",
    "#rDegrade = 0.00\n",
    "\n",
    "# from steady state\n",
    "if rTranslation>0.:\n",
    "    transcribedTNF=rTranscribe/rTranslation # [nM/cell]\n",
    "else: \n",
    "    transcribedTNF=1. \n",
    "if rDegrade>0. and rTranslation>0. :\n",
    "    translatedTNF=transcribedTNF*rTranslation/rDegrade  # [nM/cell]\n",
    "else:\n",
    "    translatedTNF = 0.5\n",
    "releasedTNF=  0.  # [nm/cell]\n",
    "\n",
    "ts = np.linspace(0,10,10000)\n",
    "\n",
    "\n",
    "Ca_basal = 1e-7\n",
    "Ca_active= 1e-6\n",
    "y0s = [transcribedTNF, translatedTNF,releasedTNF]\n",
    "ys = odeint(dTNFdt_CaRelease,y0s,ts,\n",
    "            args=(rTranscribe, rTranslation, rDegrade,Ca_basal,Ca_active))\n",
    "print np.shape(ys)"
   ]
  },
  {
   "cell_type": "code",
   "execution_count": 306,
   "metadata": {
    "collapsed": false
   },
   "outputs": [
    {
     "data": {
      "text/plain": [
       "<matplotlib.legend.Legend at 0x118a6e3d0>"
      ]
     },
     "execution_count": 306,
     "metadata": {},
     "output_type": "execute_result"
    },
    {
     "data": {
      "image/png": "[encoded data removed]",
      "text/plain": [
       "<matplotlib.figure.Figure at 0x1188a9ed0>"
      ]
     },
     "metadata": {},
     "output_type": "display_data"
    }
   ],
   "source": [
    "\n",
    "\n",
    "plt.plot(ts, ys[:,0],'k',label=\"transcribed\")\n",
    "plt.plot(ts, ys[:,1],'k--',label=\"translated\")\n",
    "plt.plot(ts, ys[:,2],'k-.',label=\"released\")\n",
    "plt.legend(loc=0)"
   ]
  },
  {
   "cell_type": "markdown",
   "metadata": {},
   "source": [
    "#### Add ATP dependent p38/ERK activation w subsequent translation"
   ]
  },
  {
   "cell_type": "code",
   "execution_count": 324,
   "metadata": {
    "collapsed": true
   },
   "outputs": [],
   "source": [
    "def dTNFdt_CaRelease_p38ERK(y,t,\n",
    "    rTranscribe, rDegrade,\n",
    "    Ca_basal,Ca_active,\n",
    "    X_basal, X_active):\n",
    "    transcribedTNF, translatedTNF,releasedTNF,activep38ERK = y\n",
    "\n",
    "    ### Ca-dependent TNF release \n",
    "    if t>5:\n",
    "        Ca_t = Ca_active\n",
    "    else:\n",
    "        Ca_t = Ca_basal\n",
    "    rReleaseBasal = 0.15    \n",
    "    rRelease = calc_rRelease(Ca_t,rReleaseBasal = rReleaseBasal)\n",
    "    \n",
    "    ### X-dependent p38/ERK activation \n",
    "    if t>5:\n",
    "        X_t = X_active\n",
    "    else:\n",
    "        X_t = X_basal\n",
    "    rp38ERKactication = calc_p38ERKactivation(X_t)\n",
    "\n",
    "    ### activated p38-dependent TNF transcription     \n",
    "    rTranslation = calc_rTranslation(activep38ERK) \n",
    "    \n",
    "    ### TNF\n",
    "    dtranscribedTNF_dt = rTranscribe - transcribedTNF*rTranslation\n",
    "    dtranslatedTNF_dt =  transcribedTNF*rTranslation - translatedTNF*(rRelease+rDegrade)\n",
    "    dreleasedTNF_dt =    translatedTNF*rRelease\n",
    "    \n",
    "    ### p38/ERK active\n",
    "    p38T = 3.\n",
    "    kInactive = 30. * calc_p38ERKactivation(X_basal)\n",
    "    dactivep38ERK_dt = rp38ERKactication*(p38T - activep38ERK) - kInactive*activep38ERK\n",
    "    \n",
    "    dydt = [dtranscribedTNF_dt,dtranslatedTNF_dt,dreleasedTNF_dt,dactivep38ERK_dt]\n",
    "    return dydt\n",
    "\n",
    "def calc_p38ERKactivation(X=1e-3,KD=3e-3,n=3):\n",
    "    rBase = 1. # [nM/s]\n",
    "    return rBase/(1 + (KD/X)**n) \n",
    "\n",
    "def calc_rTranslation(pp38ERK=0.1,KD=1.,n=2):\n",
    "    rBase = 1. # [nM/s]\n",
    "    return rBase/(1 + (KD/pp38ERK)**n) "
   ]
  },
  {
   "cell_type": "code",
   "execution_count": 325,
   "metadata": {
    "collapsed": false
   },
   "outputs": [
    {
     "name": "stdout",
     "output_type": "stream",
     "text": [
      "(10000, 4)\n"
     ]
    }
   ],
   "source": [
    "Ca_basal = 1e-7\n",
    "Ca_active= 1e-5\n",
    "X_basal = 1e-3\n",
    "X_active= 5e-3\n",
    "rTranscribe=0.056\n",
    "rDegrade = 0.025\n",
    "\n",
    "activep38ERK = 0.1\n",
    "y0s = [transcribedTNF, translatedTNF,releasedTNF,activep38ERK]\n",
    "ys = odeint(dTNFdt_CaRelease_p38ERK,y0s,ts,\n",
    "            args=(rTranscribe, rDegrade,Ca_basal,Ca_active,X_basal,X_active))\n",
    "print np.shape(ys)"
   ]
  },
  {
   "cell_type": "code",
   "execution_count": 326,
   "metadata": {
    "collapsed": false
   },
   "outputs": [
    {
     "data": {
      "text/plain": [
       "<matplotlib.legend.Legend at 0x119e10f50>"
      ]
     },
     "execution_count": 326,
     "metadata": {},
     "output_type": "execute_result"
    },
    {
     "data": {
      "image/png": "[encoded data removed]",
      "text/plain": [
       "<matplotlib.figure.Figure at 0x119d6e190>"
      ]
     },
     "metadata": {},
     "output_type": "display_data"
    }
   ],
   "source": [
    "\n",
    "plt.plot(ts, ys[:,0],'k',label=\"transcribed\")\n",
    "plt.plot(ts, ys[:,1],'k--',label=\"translated\")\n",
    "plt.plot(ts, ys[:,2],'k-.',label=\"released\")\n",
    "plt.plot(ts, ys[:,3],'r',label=\"p38ERKActive\")\n",
    "plt.legend(loc=0)"
   ]
  },
  {
   "cell_type": "markdown",
   "metadata": {},
   "source": [
    "#### Add P2X activation "
   ]
  },
  {
   "cell_type": "code",
   "execution_count": 490,
   "metadata": {
    "collapsed": true
   },
   "outputs": [],
   "source": [
    "def dTNFdt_CaRelease_p38ERK_P2X(y,t,\n",
    "    rTranscribe, rDegrade,tActive,params):\n",
    "    transcribedTNF, translatedTNF,releasedTNF,activep38ERK,Ca,X = y\n",
    "\n",
    "    ### P2X activation --> Ca, X \n",
    "    volCell = 1.\n",
    "    iCa,iX = iP2X(t,tActive,iCa=params['iCa'])\n",
    "    dCa_dt = iCa/volCell    \n",
    "    dX_dt = iX/volCell\n",
    "    \n",
    "    ### Ca-dependent TNF release \n",
    "    rReleaseBasal = 0.15    \n",
    "    rRelease = calc_rRelease(Ca,rReleaseBasal = rReleaseBasal)\n",
    "    \n",
    "    ### X-dependent p38/ERK activation \n",
    "    rp38ERKactication = calc_p38ERKactivation(X)\n",
    "\n",
    "    ### activated p38-dependent TNF transcription     \n",
    "    rTranslation = calc_rTranslation(activep38ERK) \n",
    "    \n",
    "    ### TNF\n",
    "    dtranscribedTNF_dt = rTranscribe - transcribedTNF*rTranslation\n",
    "    dtranslatedTNF_dt =  transcribedTNF*rTranslation - translatedTNF*(rRelease+rDegrade)\n",
    "    dreleasedTNF_dt =    translatedTNF*rRelease\n",
    "    \n",
    "    ### p38/ERK active\n",
    "    p38T = 3.\n",
    "    kInactive = 30. * calc_p38ERKactivation(X_basal)\n",
    "    dactivep38ERK_dt = rp38ERKactication*(p38T - activep38ERK) - kInactive*activep38ERK\n",
    "    \n",
    "    dydt = [dtranscribedTNF_dt,dtranslatedTNF_dt,dreleasedTNF_dt,dactivep38ERK_dt,\n",
    "            dCa_dt,dX_dt]\n",
    "    return dydt\n",
    "\n",
    "def iP2X(t,tActive=5.,iCa=1e-4,iX=5e-3,tau=2.):\n",
    "    if t<tActive:\n",
    "        iP2Xs=[0.,0.,]\n",
    "    else:\n",
    "        iP2Xs = np.array([iCa,iX])\n",
    "        iP2Xs= 1/np.sqrt(t) * np.exp(-(t-tActive)/tau)*iP2Xs\n",
    "    iCa,iX = iP2Xs[0],iP2Xs[1]\n",
    "    return iCa,iX"
   ]
  },
  {
   "cell_type": "code",
   "execution_count": 491,
   "metadata": {
    "collapsed": false
   },
   "outputs": [
    {
     "name": "stdout",
     "output_type": "stream",
     "text": [
      "(10000, 6)\n"
     ]
    }
   ],
   "source": [
    "Ca_basal = 1e-7\n",
    "X_basal = 1e-3\n",
    "rTranscribe=0.045\n",
    "rDegrade = 0.025\n",
    "tActive = 5.\n",
    "activep38ERK = 0.1\n",
    "params = dict()\n",
    "params['iCa']=1e-4 # pA\n",
    "\n",
    "y0s = [transcribedTNF, translatedTNF,releasedTNF,activep38ERK,Ca_basal,X_basal]\n",
    "ys = odeint(dTNFdt_CaRelease_p38ERK_P2X,y0s,ts,\n",
    "            args=(rTranscribe, rDegrade,tActive,params))\n",
    "print np.shape(ys)"
   ]
  },
  {
   "cell_type": "code",
   "execution_count": 503,
   "metadata": {
    "collapsed": false
   },
   "outputs": [
    {
     "data": {
      "image/png": "[encoded data removed]",
      "text/plain": [
       "<matplotlib.figure.Figure at 0x11edea510>"
      ]
     },
     "metadata": {},
     "output_type": "display_data"
    }
   ],
   "source": [
    "plt.subplot(1,2,1)\n",
    "plt.plot(ts, ys[:,0],'k',label=\"transcribed\")\n",
    "plt.plot(ts, ys[:,1],'k--',label=\"translated\")\n",
    "plt.plot(ts, ys[:,2],'k-.',label=\"released\")\n",
    "plt.plot(ts, ys[:,3],'r',label=\"p38ERKActive\")\n",
    "plt.legend(loc=0)\n",
    "\n",
    "plt.subplot(1,2,2)\n",
    "plt.plot(ts, ys[:,4],'b',label=\"Ca\")\n",
    "plt.plot(ts, ys[:,5],'g',label=\"X\")\n",
    "plt.yscale('log')\n",
    "plt.legend(loc=0)\n",
    "plt.tight_layout()\n",
    "plt.gcf().savefig(\"TNF_time.png\",dpi=300)"
   ]
  },
  {
   "cell_type": "markdown",
   "metadata": {},
   "source": [
    "#### Give tests"
   ]
  },
  {
   "cell_type": "code",
   "execution_count": 497,
   "metadata": {
    "collapsed": false
   },
   "outputs": [],
   "source": [
    "## Common\n",
    "cases = dict()\n",
    "class empty:pass\n",
    "y0s = [transcribedTNF, translatedTNF,releasedTNF,activep38ERK,Ca_basal,X_basal]\n",
    "\n",
    "\n",
    "\n",
    "# noATP (don't have P2X model, so just assume t>tlag will activate channel )\n",
    "tActive = 1e9\n",
    "case = empty()\n",
    "case.ts = ts\n",
    "params['iCa']=1e-4 # pA\n",
    "case.ys = odeint(dTNFdt_CaRelease_p38ERK_P2X,y0s,ts,\n",
    "            args=(rTranscribe, rDegrade,tActive,params))\n",
    "cases['noATP']=case\n",
    "\n",
    "# w ATP\n",
    "tActive = 5\n",
    "params['iCa']=1e-4 # pA\n",
    "case = empty()\n",
    "case.ts = ts\n",
    "case.ys = odeint(dTNFdt_CaRelease_p38ERK_P2X,y0s,ts,\n",
    "            args=(rTranscribe, rDegrade,tActive,params))\n",
    "cases['wATP']=case\n",
    "\n",
    "# 'remove' extracellular Ca via EGTA as in TNFa paper\n",
    "tActive = 5\n",
    "params['iCa']=1e-7 # pA\n",
    "case = empty()\n",
    "case.ts = ts\n",
    "case.ys = odeint(dTNFdt_CaRelease_p38ERK_P2X,y0s,ts,\n",
    "            args=(rTranscribe, rDegrade,tActive,params))\n",
    "cases['wATP_noCa']=case"
   ]
  },
  {
   "cell_type": "code",
   "execution_count": 498,
   "metadata": {
    "collapsed": false
   },
   "outputs": [
    {
     "data": {
      "image/png": "[encoded data removed]",
      "text/plain": [
       "<matplotlib.figure.Figure at 0x11ccac350>"
      ]
     },
     "metadata": {},
     "output_type": "display_data"
    }
   ],
   "source": [
    "case = cases['wATP_noCa']\n",
    "ys = case.ys\n",
    "plt.subplot(1,2,1)\n",
    "plt.plot(ts, ys[:,0],'k',label=\"transcribed\")\n",
    "plt.plot(ts, ys[:,1],'k--',label=\"translated\")\n",
    "plt.plot(ts, ys[:,2],'k-.',label=\"released\")\n",
    "plt.plot(ts, ys[:,3],'r',label=\"p38ERKActive\")\n",
    "plt.legend(loc=0)\n",
    "\n",
    "plt.subplot(1,2,2)\n",
    "plt.plot(ts, ys[:,4],'b',label=\"Ca\")\n",
    "plt.plot(ts, ys[:,5],'g',label=\"X\")\n",
    "plt.yscale('log')\n",
    "plt.legend(loc=0)\n",
    "plt.tight_layout()"
   ]
  },
  {
   "cell_type": "code",
   "execution_count": 499,
   "metadata": {
    "collapsed": false
   },
   "outputs": [],
   "source": [
    "def DoBarPlot(cases,label=\"released\",index=2):\n",
    "    \n",
    "    nItems  =len(cases.keys())\n",
    "    vals = np.zeros( nItems )\n",
    "    for i,key in enumerate(cases.iterkeys()):\n",
    "        # get point\n",
    "        case= cases[key]\n",
    "        ys = case.ys\n",
    "        tf = case.ts[-1]\n",
    "        # get last time point \n",
    "        ysReleased = ys[:,index]\n",
    "        yVal = ysReleased[-1]\n",
    "        vals[i]=yVal\n",
    "    print vals\n",
    "\n",
    "\n",
    "    fig, ax = plt.subplots()\n",
    "    ind = range(nItems)\n",
    "    ax.bar(range(nItems),vals)\n",
    "    #ax.set_ylim([-0.1,2])\n",
    "    ax.set_xticks(ind )\n",
    "    ax.set_xticklabels(cases.keys())\n",
    "    ax.set_title(\"%s after %3.1f\"%(label,tf))\n",
    "    \n"
   ]
  },
  {
   "cell_type": "code",
   "execution_count": 502,
   "metadata": {
    "collapsed": false
   },
   "outputs": [
    {
     "name": "stdout",
     "output_type": "stream",
     "text": [
      "[ 0.01032414  1.74522703  0.002027  ]\n",
      "[  1.72623004e-07   7.27230044e-05   1.00000000e-07]\n"
     ]
    },
    {
     "data": {
      "image/png": "[encoded data removed]",
      "text/plain": [
       "<matplotlib.figure.Figure at 0x11b30e890>"
      ]
     },
     "metadata": {},
     "output_type": "display_data"
    },
    {
     "data": {
      "image/png": "[encoded data removed]",
      "text/plain": [
       "<matplotlib.figure.Figure at 0x11bf44250>"
      ]
     },
     "metadata": {},
     "output_type": "display_data"
    }
   ],
   "source": [
    "# TNF release\n",
    "DoBarPlot(cases,label=\"release\",index=2)\n",
    "plt.gcf().savefig(\"TNF_release.png\",dpi=300)\n",
    "\n",
    "# Ca\n",
    "DoBarPlot(cases,label=\"Ca\",index=4)\n",
    "plt.yscale('log')\n"
   ]
  },
  {
   "cell_type": "code",
   "execution_count": null,
   "metadata": {
    "collapsed": true
   },
   "outputs": [],
   "source": []
  }
 ],
 "metadata": {
  "kernelspec": {
   "display_name": "Python 2",
   "language": "python",
   "name": "python2"
  },
  "language_info": {
   "codemirror_mode": {
    "name": "ipython",
    "version": 2
   },
   "file_extension": ".py",
   "mimetype": "text/x-python",
   "name": "python",
   "nbconvert_exporter": "python",
   "pygments_lexer": "ipython2",
   "version": "2.7.13"
  }
 },
 "nbformat": 4,
 "nbformat_minor": 2
}
