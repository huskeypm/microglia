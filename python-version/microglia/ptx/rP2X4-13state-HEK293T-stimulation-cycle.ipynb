{
 "cells": [
  {
   "cell_type": "markdown",
   "metadata": {},
   "source": [
    "### Benchmarking \"Allosteric Regulation of the P2X4 Recepter Channel Pore Dilation\"\n",
    "\n",
    "Zemkova, Khadra, Rokic, Tvrdonova, Sherman, and Stojikovic\n",
    "\n",
    "1. Cell type: HEK293T\n",
    "2. rP2X4\n",
    "3. 13-state model"
   ]
  },
  {
   "cell_type": "code",
   "execution_count": 1,
   "metadata": {
    "collapsed": true
   },
   "outputs": [],
   "source": [
    "# Required Packages\n",
    "## Function for integreating ODE and displaying results\n",
    "import scipy.integrate\n",
    "from scipy.integrate import odeint\n",
    "import numpy as np\n",
    "import matplotlib.pylab as plt\n",
    "import math\n",
    "from scipy.interpolate import spline\n",
    "import pickle as pk\n",
    "%matplotlib inline"
   ]
  },
  {
   "cell_type": "code",
   "execution_count": 3,
   "metadata": {
    "collapsed": true
   },
   "outputs": [],
   "source": [
    "def ft(y,t,A,IVM):\n",
    "    D1, D2, D3, D4, C1, C2, C3, C4, Q1, Q2, Q3, Q4, N = y\n",
    "    \n",
    "    k = np.array([0.4, 600000, 0.5, 500000, 0.6, 400000]) # k1[1/s],k2[1/(M*s)],k3[1/s],k4[1/(M*s)],k5[1/s],k6[1/(M*s)]\n",
    "    L = np.array([0.01, 0.04, 0.5])                       # L1[1/s], L2[1/s], L3[1/s]\n",
    "    H = np.array([0.013, 0.35, 1.4, 0.001])               # H1[1/s], H2[1/s], H3[1/s], H4[1/s]\n",
    "    al = 100 # unitless\n",
    "    be = 1.4e-6 # [M]\n",
    "    KIVM = IVM/(be + IVM)\n",
    "    G = 1 + al*KIVM\n",
    "    F = 1 - KIVM\n",
    "    \n",
    "    dD1dt = k[0]*D2 - (3*k[1]*A + H[0])*D1\n",
    "    dD2dt = 3*k[1]*A*D1 + 2*k[2]*D3 + H[1]*C2 - (k[0] + 2*k[3]*A)*D2\n",
    "    dD3dt = 2*k[3]*A*D2 + 3*k[4]*D4 + H[1]*Q1 - (2*k[2] + k[5]*A)*D3\n",
    "    dD4dt = k[5]*A*D3 + H[1]*Q2 - (3*k[4] + H[2])*D4\n",
    "    \n",
    "    dC1dt = H[0]*D1 + k[0]*G*C2 + L[0]*C4 + H[3]*N - 3*k[1]*A*F*C1\n",
    "    dC2dt = 3*k[1]*A*F*C1 + 2*k[2]*G*Q1 - (k[0]*G + 2*k[3]*A*F + H[1])*C2\n",
    "    dC3dt = 3*k[1]*A*F*C4 + 2*k[0]*G*Q4 - (k[0]*G + 2*k[1]*A*F)*C3\n",
    "    dC4dt = k[0]*G*C3 - (L[0] + 3*k[1]*A*F)*C4\n",
    "    \n",
    "    dQ1dt = 2*k[3]*A*F*C2 + 3*k[4]*G*Q2 - (2*k[2]*G + k[5]*A*F + H[1])*Q1\n",
    "    dQ2dt = k[5]*A*F*Q1 + L[1]*Q3 - (3*k[4]*G + L[2]*(1-G) + H[1])*Q2\n",
    "    dQ3dt = k[1]*A*F*Q4 + L[2]*(1-G)*Q2 - (3*k[0]*G + L[1])*Q3\n",
    "    dQ4dt = 2*k[1]*A*F*C3 + 3*k[0]*G*Q3 - (2*k[0]*G + k[1]*A*F)*Q4\n",
    "    \n",
    "    dNdt = H[2]*D4 - H[3]*N\n",
    "    \n",
    "    dydt = [dD1dt, dD2dt, dD3dt, dD4dt, dC1dt, dC2dt, dC3dt, dC4dt, dQ1dt, dQ2dt, dQ3dt, dQ4dt, dNdt]\n",
    "    \n",
    "    return dydt "
   ]
  },
  {
   "cell_type": "code",
   "execution_count": 4,
   "metadata": {
    "collapsed": true
   },
   "outputs": [],
   "source": [
    "def Ip2x4(st, du, step, interval, ATP, IVM):\n",
    "    # Input info.\n",
    "    ## st : stimulation time -> 2 seconds\n",
    "    ## du : total duration in 0.5 minutes -> 2 [du] = 1 min\n",
    "    ## ATP : ATP concentration in uM\n",
    "    ## IVM : IVM concentration in uM -> will be set to zero\n",
    "    ## interval : the time interval between stimulation (end to begin)\n",
    "    ## step : a number of steps between seconds\n",
    "    \n",
    "    iters = np.arange(du)\n",
    "    Ivm = IVM*10**-6  # IVM concentration in [M]\n",
    "    # Empty Shell for each state\n",
    "    D1 = []\n",
    "    D2 = []\n",
    "    D3 = []\n",
    "    D4 = []\n",
    "    C1 = []\n",
    "    C2 = []\n",
    "    C3 = []\n",
    "    C4 = []\n",
    "    Q1 = []\n",
    "    Q2 = []\n",
    "    Q3 = []\n",
    "    Q4 = []\n",
    "    N = []\n",
    "    time = [] \n",
    "    \n",
    "    for i in iters:\n",
    "        \n",
    "        ti = i*interval          # 0, 30, 60, 90 .... \n",
    "        tf = (i+1)*interval-st   # 28, 58, 88, 118 ....\n",
    "        \n",
    "        trs = scipy.linspace(ti,tf,(interval*step+1))  # time without ATP stimulation\n",
    "        tst = scipy.linspace(tf,(tf+st),(st*step+1))  # time with ATP stimulation\n",
    "        \n",
    "        \n",
    "        if i == 0 : # Very first step of calculation\n",
    "            A = 0   # Turn off the ATP concentration\n",
    "            y0 = np.array([0, 0, 0, 0, 1, 0, 0, 0, 0, 0, 0, 0, 0]) # Very first step\n",
    "        else :            \n",
    "            y0 = np.array([D1[-1],D2[-1],D3[-1],D4[-1],C1[-1],C2[-1],C3[-1],C4[-1],Q1[-1],Q2[-1],Q3[-1],Q4[-1],N[-1]]) \n",
    "        \n",
    "        ## Solving equation during the resting state\n",
    "        A = 0  # ATP concentration in [M] -> off\n",
    "        yrs = scipy.integrate.odeint(ft,y0,trs,args=(A,IVM,))\n",
    "        ### Storing data from the resting state\n",
    "        D1 = np.append(D1,yrs[:,0])\n",
    "        D2 = np.append(D2,yrs[:,1])\n",
    "        D3 = np.append(D3,yrs[:,2])\n",
    "        D4 = np.append(D4,yrs[:,3])\n",
    "        C1 = np.append(C1,yrs[:,4])\n",
    "        C2 = np.append(C2,yrs[:,5])\n",
    "        C3 = np.append(C3,yrs[:,6])\n",
    "        C4 = np.append(C4,yrs[:,7])        \n",
    "        Q1 = np.append(Q1,yrs[:,8])\n",
    "        Q2 = np.append(Q2,yrs[:,9])\n",
    "        Q3 = np.append(Q3,yrs[:,10])\n",
    "        Q4 = np.append(Q4,yrs[:,11])\n",
    "        N = np.append(N,yrs[:,12])\n",
    "        time = np.append(time,trs)\n",
    "        \n",
    "        ## Solving equation during the stimulation\n",
    "        ### Updating the new initial values \n",
    "        A = ATP*(10**-6)  # ATP concentration in [M] -> on\n",
    "        y1 = np.array([D1[-1],D2[-1],D3[-1],D4[-1],C1[-1],C2[-1],C3[-1],C4[-1],Q1[-1],Q2[-1],Q3[-1],Q4[-1],N[-1]])\n",
    "        yst = scipy.integrate.odeint(ft,y1,tst,args=(A,IVM,))\n",
    "        ### Storing data from the stimulation                 \n",
    "        D1 = np.append(D1,yst[:,0])\n",
    "        D2 = np.append(D2,yst[:,1])\n",
    "        D3 = np.append(D3,yst[:,2])\n",
    "        D4 = np.append(D4,yst[:,3])\n",
    "        C1 = np.append(C1,yst[:,4])\n",
    "        C2 = np.append(C2,yst[:,5])\n",
    "        C3 = np.append(C3,yst[:,6])\n",
    "        C4 = np.append(C4,yst[:,7])        \n",
    "        Q1 = np.append(Q1,yst[:,8])\n",
    "        Q2 = np.append(Q2,yst[:,9])\n",
    "        Q3 = np.append(Q3,yst[:,10])\n",
    "        Q4 = np.append(Q4,yst[:,11])\n",
    "        N = np.append(N,yst[:,12])                             \n",
    "        time = np.append(time,tst)\n",
    "        \n",
    "        ## Removing variables for memory efficiency\n",
    "        y0 = None\n",
    "        y1 = None\n",
    "        tst = None\n",
    "        trs = None                                              \n",
    "    \n",
    "    # Current conversion\n",
    "    g12 = 3e-8  # [S]\n",
    "    g34 = 8e-8  # [S]\n",
    "    V = -0.06   # [V]\n",
    "    E12 = 0     # [V]\n",
    "    E34 = 0     # [V]\n",
    "    \n",
    "    I1 = (g12*(Q1 + Q2)*(V - E12) + g34*(Q3 + Q4)*(V - E34))*10**9 # in [nA]\n",
    "    \n",
    "    results = np.array([time,I1])\n",
    "    \n",
    "    pk.dump(results,open(\"pythonp2x4.p\",\"wb\"))\n",
    "    \n",
    "    # Khadra P2X4 HEK ATP st 63s 100 uM 1st pulse\n",
    "    t16 = np.array([0,0.75,6,11.25,18.75,30.75,75])+190\n",
    "    # Khadra P2X4 HEK ATP st 63s 100 uM 2nd pulse\n",
    "    t17 = np.array([0,1.2,3.3,6.3,8.7,33,63])+430\n",
    "    # Toulme P2X4 MG ATP st 30s 100 uM\n",
    "    t18 = np.array([0,0.2040816327,1.734693878,4.693877551,8.571428571,13.7755102,24.08163265,34.69387755])+190\n",
    "    t19 = np.array([0,0.2040816327,1.734693878,4.693877551,8.571428571,13.7755102,24.08163265,34.69387755])+430\n",
    "\n",
    "    y16 = np.array([0,-2.337552743,-0.7257383966,-0.3037974684,-0.1434599156,-0.08438818565,-0.01687763713])\n",
    "    y17 = np.array([0,-0.5518987342,-0.1181434599,-0.04556962025,-0.01687763713,-0.01687763713,0.005063291139])\n",
    "    y18 = 0.001*np.array([0,-366.8965517,-270.3448276,-171.0344828,-107.5862069,-57.93103448,-22.06896552,2.75862069])\n",
    "    y19 = 0.001*np.array([0,-366.8965517,-270.3448276,-171.0344828,-107.5862069,-57.93103448,-22.06896552,2.75862069])\n",
    "\n",
    "    ATPkha = np.array([0.08,0.08,0.08,0.08,0.08,0.08,0.08])+0.05\n",
    "    ATPtou = np.array([0.09,0.09,0.09,0.09,0.09,0.09,0.09,0.09])\n",
    "    tmodel1 = np.array([0,50])+190\n",
    "    tmodel2 = np.array([0,50])+430\n",
    "    ATPmodel = np.array([0.17,0.17])\n",
    "    plt.figure(figsize=(7,7))\n",
    "    plt.tick_params(labelsize=12)\n",
    "    \n",
    "    plt.plot(time,I1,'k--',lw = 3,label=\"Model\")\n",
    "    plt.plot(tmodel1,ATPmodel,'black',lw=5,label=\"ATP-Model\")\n",
    "    plt.plot(tmodel2,ATPmodel,'black',lw=5)\n",
    "    plt.plot(t16,y16,'r-x',alpha=0.5,label=\"Zemkova-rP2X4-HEK\")\n",
    "    plt.plot(t17,y17,'r-x',alpha=0.5)\n",
    "    plt.plot(t16,ATPkha,'red',lw=5,alpha=1,label=\"ATP-Zemkova\")\n",
    "    plt.plot(t17,ATPkha,'red',lw=5,alpha=1)\n",
    "    plt.plot(t18,y18,'b-o',alpha=0.3,ms=10,label=\"Toulme-rP2X4-MG\")\n",
    "    plt.plot(t19,y19,'b-o',alpha=0.3,ms=10)\n",
    "    plt.plot(t18,ATPtou,'blue',lw=5,alpha=1,label=\"ATP-Toulme\")\n",
    "    plt.plot(t19,ATPtou,'blue',lw=5,alpha=1)\n",
    "    plt.xlabel(\"time (s)\",fontsize=15)\n",
    "    plt.ylabel(\"current (nA)\",fontsize=15)\n",
    "    plt.legend(loc=0,fontsize=12) \n",
    "    plt.ylim((-2.5,0.2))\n",
    "    plt.savefig(\"p2x4vali.png\")\n",
    "    \n",
    "    return"
   ]
  },
  {
   "cell_type": "code",
   "execution_count": 4,
   "metadata": {},
   "outputs": [
    {
     "data": {
      "image/png": "[encoded data removed]",
      "text/plain": [
       "<matplotlib.figure.Figure at 0x7f8d23633b38>"
      ]
     },
     "metadata": {},
     "output_type": "display_data"
    }
   ],
   "source": [
    "Ip2x4(50, 2, 1000, 240, 10, 0) #st, du, step, interval, ATP, IVM"
   ]
  },
  {
   "cell_type": "code",
   "execution_count": 6,
   "metadata": {},
   "outputs": [
    {
     "name": "stdout",
     "output_type": "stream",
     "text": [
      "4\n"
     ]
    }
   ],
   "source": [
    "A = np.array([1 ,2, 3, 4.6])\n",
    "B =[]\n",
    "B = np.append(B,A)\n",
    "C = int(B[-1])\n",
    "\n",
    "print(C)"
   ]
  },
  {
   "cell_type": "code",
   "execution_count": null,
   "metadata": {
    "collapsed": true
   },
   "outputs": [],
   "source": []
  }
 ],
 "metadata": {
  "kernelspec": {
   "display_name": "Python 3",
   "language": "python",
   "name": "python3"
  },
  "language_info": {
   "codemirror_mode": {
    "name": "ipython",
    "version": 3
   },
   "file_extension": ".py",
   "mimetype": "text/x-python",
   "name": "python",
   "nbconvert_exporter": "python",
   "pygments_lexer": "ipython3",
   "version": "3.6.3"
  }
 },
 "nbformat": 4,
 "nbformat_minor": 2
}
