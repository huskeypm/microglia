{
 "cells": [
  {
   "cell_type": "markdown",
   "metadata": {},
   "source": [
    "### Intracellular Ca signalling model\n",
    "\n",
    "1. Markov state model was built based on \"Allosteric Regulation of the P2X4 Recepter Channel Pore Dilation\" by Zemkova, Khadra, Rokic, Tvrdonova, Sherman, and Stojikovic.\n",
    "\n",
    "- This is the 13-state model\n",
    "\n",
    "2. The relative contribution of Ca to total inward current in the cell (HEK293) was reported to be 8.24 +- 0.36% by Garcia-Guzman. -> This may need to be adjusted for rat P2X4 channel\n",
    "3. The diameter of HEK293 cell body is approximated to be 13 microns -> r = 6.5 microns\n",
    "4. The diameter of microglia cell body is approximated to be 5.2 microns -> r = 2.6 microns (https://www.ncbi.nlm.nih.gov/pmc/articles/PMC4213482/)\n",
    "5. Beyond the buffering effects of calmodulin was handled by Rachel\n",
    "6. The intermediate product of this code is \"intracellular Ca transient\"\n",
    "7. The final outcome of this code is \"TNF-alpha transient\"\n",
    "\n",
    "*1. Markov state model was built based on \"Dual gating mechanism and function of P2X7 receptor channels\" by Khadra and modified to adjust the current profile from the activation by BzATP to ATP. \n",
    "\n",
    "- This is the 12-state model\n",
    "- BzATP = 4.11863563exp(ATP*0.00479906) \n",
    "\n",
    "#### Limitations & Assumptions\n",
    "\n",
    "1. NFAT terms with no detail connection to buffering effects.\n",
    "\n",
    "2. No TNF terms\n",
    "\n",
    "#### NFATNn Profile & TNF-alpha release\n",
    "\n",
    "1. Even after adjusting some of parameters, there is no supporting data to explain or indicating the scale of concentrations. \n",
    "2. The pattern of profile will be used as a switch of TNF-alpha release and the concentration of NFATNn will not influence on the degree of release\n",
    "3. The release of TNF-alpha will be fully assumed based on general RNA transcription and translation. https://www.mathworks.com/help/simbio/gs/-model-a-gene-regulation-pathway.html?requestedDomain=true"
   ]
  },
  {
   "cell_type": "code",
   "execution_count": 3,
   "metadata": {
    "collapsed": true
   },
   "outputs": [],
   "source": [
    "# Function for integreating ODE and displaying results\n",
    "import scipy.integrate\n",
    "from scipy.integrate import odeint\n",
    "import numpy as np\n",
    "import matplotlib.pylab as plt\n",
    "import math\n",
    "from math import exp\n",
    "from scipy.interpolate import spline\n",
    "import pickle as pk\n",
    "%matplotlib inline\n",
    "\n",
    "# Importing the microglia related packages\n",
    "import calculator_v9 as ca\n"
   ]
  },
  {
   "cell_type": "code",
   "execution_count": 4,
   "metadata": {
    "collapsed": true,
    "scrolled": true
   },
   "outputs": [],
   "source": [
    "results1 = ca.total(3600,5,10,7200,1000,0.1,0.1,0,-0.75,0) \n",
    "            #st,Du,step,interval,ATP,rhop2x4,rhop2x7,fracNFAT,fracCa,fracpp38\n",
    "pk.dump(results1,open(\"1mMATP_60minST_10perboth_NFAT0per_Cam75per_pp380per.p\",\"wb\"))"
   ]
  },
  {
   "cell_type": "code",
   "execution_count": 5,
   "metadata": {
    "collapsed": true
   },
   "outputs": [],
   "source": [
    "results2 = ca.total(3600,5,10,7200,1000,0.1,0.1,0,-0.50,0) \n",
    "            #st,Du,step,interval,ATP,rhop2x4,rhop2x7,fracNFAT,fracCa,fracpp38\n",
    "pk.dump(results2,open(\"1mMATP_60minST_10perboth_NFAT0per_Cam50per_pp380per.p\",\"wb\"))"
   ]
  },
  {
   "cell_type": "code",
   "execution_count": 6,
   "metadata": {
    "collapsed": true
   },
   "outputs": [],
   "source": [
    "results3 = ca.total(3600,5,10,7200,1000,0.1,0.1,0,-0.25,0) \n",
    "            #st,Du,step,interval,ATP,rhop2x4,rhop2x7,fracNFAT,fracCa,fracpp38\n",
    "pk.dump(results3,open(\"1mMATP_60minST_10perboth_NFAT0per_Cam25per_pp380per.p\",\"wb\"))"
   ]
  },
  {
   "cell_type": "code",
   "execution_count": 7,
   "metadata": {
    "collapsed": true
   },
   "outputs": [],
   "source": [
    "results4 = ca.total(3600,5,10,7200,1000,0.1,0.1,0,-0.10,0) \n",
    "            #st,Du,step,interval,ATP,rhop2x4,rhop2x7,fracNFAT,fracCa,fracpp38\n",
    "pk.dump(results4,open(\"1mMATP_60minST_10perboth_NFAT0per_Cam10per_pp380per.p\",\"wb\"))"
   ]
  },
  {
   "cell_type": "code",
   "execution_count": 8,
   "metadata": {
    "collapsed": true
   },
   "outputs": [],
   "source": [
    "results5 = ca.total(3600,5,10,7200,1000,0.1,0.1,0,0,0) \n",
    "            #st,Du,step,interval,ATP,rhop2x4,rhop2x7,fracNFAT,fracCa,fracpp38\n",
    "pk.dump(results5,open(\"1mMATP_60minST_10perboth_NFAT0per_Ca0per_pp380per.p\",\"wb\"))"
   ]
  },
  {
   "cell_type": "code",
   "execution_count": 9,
   "metadata": {
    "collapsed": true
   },
   "outputs": [],
   "source": [
    "results6 = ca.total(3600,5,10,7200,1000,0.1,0.1,0,0.1,0) \n",
    "            #st,Du,step,interval,ATP,rhop2x4,rhop2x7,fracNFAT,fracCa,fracpp38\n",
    "pk.dump(results6,open(\"1mMATP_60minST_10perboth_NFAT0per_Cap10per_pp380per.p\",\"wb\"))"
   ]
  },
  {
   "cell_type": "code",
   "execution_count": 10,
   "metadata": {
    "collapsed": true
   },
   "outputs": [],
   "source": [
    "results7 = ca.total(3600,5,10,7200,1000,0.1,0.1,0,0.25,0) \n",
    "            #st,Du,step,interval,ATP,rhop2x4,rhop2x7,fracNFAT,fracCa,fracpp38\n",
    "pk.dump(results7,open(\"1mMATP_60minST_10perboth_NFAT0per_Cap25per_pp380per.p\",\"wb\"))"
   ]
  },
  {
   "cell_type": "code",
   "execution_count": 11,
   "metadata": {
    "collapsed": true
   },
   "outputs": [],
   "source": [
    "results8 = ca.total(3600,5,10,7200,1000,0.1,0.1,0,0.50,0) \n",
    "            #st,Du,step,interval,ATP,rhop2x4,rhop2x7,fracNFAT,fracCa,fracpp38\n",
    "pk.dump(results8,open(\"1mMATP_60minST_10perboth_NFAT0per_Cap50per_pp380per.p\",\"wb\"))"
   ]
  },
  {
   "cell_type": "code",
   "execution_count": 12,
   "metadata": {
    "collapsed": true
   },
   "outputs": [],
   "source": [
    "results9 = ca.total(3600,5,10,7200,1000,0.1,0.1,0,0.75,0) \n",
    "            #st,Du,step,interval,ATP,rhop2x4,rhop2x7,fracNFAT,fracCa,fracpp38\n",
    "pk.dump(results9,open(\"1mMATP_60minST_10perboth_NFAT0per_Cap75per_pp380per.p\",\"wb\"))"
   ]
  },
  {
   "cell_type": "code",
   "execution_count": 13,
   "metadata": {
    "collapsed": true
   },
   "outputs": [],
   "source": [
    "TNFarel1 = results1[43]\n",
    "TNFarel2 = results2[43]\n",
    "TNFarel3 = results3[43]\n",
    "TNFarel4 = results4[43]\n",
    "TNFarel5 = results5[43]\n",
    "TNFarel6 = results6[43]\n",
    "TNFarel7 = results7[43]\n",
    "TNFarel8 = results8[43]\n",
    "TNFarel9 = results9[43]\n",
    "\n",
    "init = 360000-110000\n",
    "final = 360000\n",
    "\n",
    "TNFareld1 = TNFarel1[init:final]\n",
    "TNFareld2 = TNFarel2[init:final] \n",
    "TNFareld3 = TNFarel3[init:final] \n",
    "TNFareld4 = TNFarel4[init:final]\n",
    "TNFareld5 = TNFarel5[init:final]\n",
    "TNFareld6 = TNFarel6[init:final] \n",
    "TNFareld7 = TNFarel7[init:final] \n",
    "TNFareld8 = TNFarel8[init:final]\n",
    "TNFareld9 = TNFarel9[init:final]\n",
    "\n",
    "TNFmax1 = max(TNFareld1)\n",
    "TNFmax2 = max(TNFareld2)\n",
    "TNFmax3 = max(TNFareld3)\n",
    "TNFmax4 = max(TNFareld4)\n",
    "TNFmax5 = max(TNFareld5)\n",
    "TNFmax6 = max(TNFareld6)\n",
    "TNFmax7 = max(TNFareld7)\n",
    "TNFmax8 = max(TNFareld8)\n",
    "TNFmax9 = max(TNFareld9)\n",
    "\n",
    "TNFMAX4 = np.array([TNFmax1,TNFmax2,TNFmax3,TNFmax4,TNFmax5,TNFmax6,TNFmax7,TNFmax8,TNFmax9])\n",
    "\n",
    "rTNF4 = TNFMAX4/(max(TNFMAX4))*100\n"
   ]
  },
  {
   "cell_type": "code",
   "execution_count": 14,
   "metadata": {},
   "outputs": [
    {
     "data": {
      "image/png": "[encoded data removed]",
      "text/plain": [
       "<matplotlib.figure.Figure at 0x7fa350a290f0>"
      ]
     },
     "metadata": {},
     "output_type": "display_data"
    }
   ],
   "source": [
    "plt.figure(figsize = (7,7))\n",
    "atp = np.array([-75,-50,-25,-10,0,10,25,50,75])\n",
    "plt.tick_params(labelsize=12)\n",
    "plt.plot(atp,rTNF4,'b--x')\n",
    "plt.legend(loc=0,fontsize=12)\n",
    "plt.xlabel(\"$[Ca^{2+}]_{i}$ increase (%)\",fontsize=15)\n",
    "plt.ylabel(\"$[TNFa]_{released}$ (% of max)\",fontsize=15)\n",
    "plt.grid(True)\n",
    "plt.tight_layout()\n",
    "plt.savefig(\"plotTNFvsCavariation.png\")"
   ]
  },
  {
   "cell_type": "code",
   "execution_count": 34,
   "metadata": {
    "collapsed": true,
    "scrolled": true
   },
   "outputs": [],
   "source": [
    "results1 = ca.total(3600,5,10,7200,1000,0.1,0.1,0,0,-0.75) \n",
    "            #st,Du,step,interval,ATP,rhop2x4,rhop2x7,fracNFAT,fracCa,fracpp38\n",
    "pk.dump(results1,open(\"1mMATP_60minST_10perboth_NFAT0per_Ca0per_pp38m75per.p\",\"wb\"))"
   ]
  },
  {
   "cell_type": "code",
   "execution_count": 35,
   "metadata": {
    "collapsed": true
   },
   "outputs": [],
   "source": [
    "results2 = ca.total(3600,5,10,7200,1000,0.1,0.1,0,0,-0.50) \n",
    "            #st,Du,step,interval,ATP,rhop2x4,rhop2x7,fracNFAT,fracCa,fracpp38\n",
    "pk.dump(results2,open(\"1mMATP_60minST_10perboth_NFAT0per_Ca0per_pp38m50per.p\",\"wb\"))"
   ]
  },
  {
   "cell_type": "code",
   "execution_count": 36,
   "metadata": {
    "collapsed": true
   },
   "outputs": [],
   "source": [
    "results3 = ca.total(3600,5,10,7200,1000,0.1,0.1,0,0,-0.25) \n",
    "            #st,Du,step,interval,ATP,rhop2x4,rhop2x7,fracNFAT,fracCa,fracpp38\n",
    "pk.dump(results3,open(\"1mMATP_60minST_10perboth_NFAT0per_Ca0per_pp38m25per.p\",\"wb\"))"
   ]
  },
  {
   "cell_type": "code",
   "execution_count": 37,
   "metadata": {
    "collapsed": true
   },
   "outputs": [],
   "source": [
    "results4 = ca.total(3600,5,10,7200,1000,0.1,0.1,0,0,-0.1) \n",
    "            #st,Du,step,interval,ATP,rhop2x4,rhop2x7,fracNFAT,fracCa,fracpp38\n",
    "pk.dump(results4,open(\"1mMATP_60minST_10perboth_NFAT0per_Ca0per_pp38m10per.p\",\"wb\"))"
   ]
  },
  {
   "cell_type": "code",
   "execution_count": 38,
   "metadata": {
    "collapsed": true
   },
   "outputs": [],
   "source": [
    "results5 = ca.total(3600,5,10,7200,1000,0.1,0.1,0,0,0) \n",
    "            #st,Du,step,interval,ATP,rhop2x4,rhop2x7,fracNFAT,fracCa,fracpp38\n",
    "pk.dump(results5,open(\"1mMATP_60minST_10perboth_NFAT0per_Ca0per_pp380per.p\",\"wb\"))"
   ]
  },
  {
   "cell_type": "code",
   "execution_count": 39,
   "metadata": {
    "collapsed": true
   },
   "outputs": [],
   "source": [
    "results6 = ca.total(3600,5,10,7200,1000,0.1,0.1,0,0,0.1) \n",
    "            #st,Du,step,interval,ATP,rhop2x4,rhop2x7,fracNFAT,fracCa,fracpp38\n",
    "pk.dump(results6,open(\"1mMATP_60minST_10perboth_NFAT0per_Ca0per_pp38p10per.p\",\"wb\"))"
   ]
  },
  {
   "cell_type": "code",
   "execution_count": 40,
   "metadata": {
    "collapsed": true
   },
   "outputs": [],
   "source": [
    "results7 = ca.total(3600,5,10,7200,1000,0.1,0.1,0,0,0.25) \n",
    "            #st,Du,step,interval,ATP,rhop2x4,rhop2x7,fracNFAT,fracCa,fracpp38\n",
    "pk.dump(results7,open(\"1mMATP_60minST_10perboth_NFAT0per_Ca0per_pp38p25per.p\",\"wb\"))"
   ]
  },
  {
   "cell_type": "code",
   "execution_count": 41,
   "metadata": {
    "collapsed": true
   },
   "outputs": [],
   "source": [
    "results8 = ca.total(3600,5,10,7200,1000,0.1,0.1,0,0,0.50) \n",
    "            #st,Du,step,interval,ATP,rhop2x4,rhop2x7,fracNFAT,fracCa,fracpp38\n",
    "pk.dump(results8,open(\"1mMATP_60minST_10perboth_NFAT0per_Ca0per_pp38p50per.p\",\"wb\"))"
   ]
  },
  {
   "cell_type": "code",
   "execution_count": 42,
   "metadata": {
    "collapsed": true
   },
   "outputs": [],
   "source": [
    "results9 = ca.total(3600,5,10,7200,1000,0.1,0.1,0,0,0.75) \n",
    "            #st,Du,step,interval,ATP,rhop2x4,rhop2x7,fracNFAT,fracCa,fracpp38\n",
    "pk.dump(results9,open(\"1mMATP_60minST_10perboth_NFAT0per_Ca0per_pp38p75per.p\",\"wb\"))"
   ]
  },
  {
   "cell_type": "code",
   "execution_count": 43,
   "metadata": {
    "collapsed": true
   },
   "outputs": [],
   "source": [
    "TNFarel1 = results1[43]\n",
    "TNFarel2 = results2[43]\n",
    "TNFarel3 = results3[43]\n",
    "TNFarel4 = results4[43]\n",
    "TNFarel5 = results5[43]\n",
    "TNFarel6 = results6[43]\n",
    "TNFarel7 = results7[43]\n",
    "TNFarel8 = results8[43]\n",
    "TNFarel9 = results9[43]\n",
    "\n",
    "TNFa1 = results1[40]\n",
    "TNFa2 = results2[40]\n",
    "TNFa3 = results3[40]\n",
    "TNFa4 = results4[40]\n",
    "TNFa5 = results5[40]\n",
    "TNFa6 = results6[40]\n",
    "TNFa7 = results7[40]\n",
    "TNFa8 = results8[40]\n",
    "TNFa9 = results9[40]\n",
    "\n",
    "init = 360000-110000\n",
    "final = 360000\n",
    "\n",
    "TNFad1 = TNFa1[init:final]\n",
    "TNFad2 = TNFa2[init:final] \n",
    "TNFad3 = TNFa3[init:final] \n",
    "TNFad4 = TNFa4[init:final]\n",
    "TNFad5 = TNFa5[init:final]\n",
    "TNFad6 = TNFa6[init:final] \n",
    "TNFad7 = TNFa7[init:final] \n",
    "TNFad8 = TNFa8[init:final]\n",
    "TNFad9 = TNFa9[init:final]\n",
    "\n",
    "TNFareld1 = TNFarel1[init:final]\n",
    "TNFareld2 = TNFarel2[init:final] \n",
    "TNFareld3 = TNFarel3[init:final] \n",
    "TNFareld4 = TNFarel4[init:final]\n",
    "TNFareld5 = TNFarel5[init:final]\n",
    "TNFareld6 = TNFarel6[init:final] \n",
    "TNFareld7 = TNFarel7[init:final] \n",
    "TNFareld8 = TNFarel8[init:final]\n",
    "TNFareld9 = TNFarel9[init:final]\n",
    "\n",
    "TNFrmax1 = max(TNFareld1)\n",
    "TNFrmax2 = max(TNFareld2)\n",
    "TNFrmax3 = max(TNFareld3)\n",
    "TNFrmax4 = max(TNFareld4)\n",
    "TNFrmax5 = max(TNFareld5)\n",
    "TNFrmax6 = max(TNFareld6)\n",
    "TNFrmax7 = max(TNFareld7)\n",
    "TNFrmax8 = max(TNFareld8)\n",
    "TNFrmax9 = max(TNFareld9)\n",
    "\n",
    "TNFmax1 = max(TNFad1)\n",
    "TNFmax2 = max(TNFad2)\n",
    "TNFmax3 = max(TNFad3)\n",
    "TNFmax4 = max(TNFad4)\n",
    "TNFmax5 = max(TNFad5)\n",
    "TNFmax6 = max(TNFad6)\n",
    "TNFmax7 = max(TNFad7)\n",
    "TNFmax8 = max(TNFad8)\n",
    "TNFmax9 = max(TNFad9)\n",
    "\n",
    "TNFrMAX4 = np.array([TNFrmax1,TNFrmax2,TNFrmax3,TNFrmax4,TNFrmax5,TNFrmax6,TNFrmax7,TNFrmax8,TNFrmax9])\n",
    "TNFMAX4 = np.array([TNFmax1,TNFmax2,TNFmax3,TNFmax4,TNFmax5,TNFmax6,TNFmax7,TNFmax8,TNFmax9])\n",
    "rTNFr4 = TNFrMAX4/(max(TNFrMAX4))*100\n",
    "rTNF4 = TNFMAX4/(max(TNFMAX4))*100"
   ]
  },
  {
   "cell_type": "code",
   "execution_count": 44,
   "metadata": {},
   "outputs": [
    {
     "data": {
      "image/png": "[encoded data removed]",
      "text/plain": [
       "<matplotlib.figure.Figure at 0x7fa3505a1b70>"
      ]
     },
     "metadata": {},
     "output_type": "display_data"
    }
   ],
   "source": [
    "plt.figure(figsize = (7,7))\n",
    "atp = np.array([-75,-50,-25,-10,0,10,25,50,75])\n",
    "plt.tick_params(labelsize=12)\n",
    "plt.plot(atp,rTNFr4,'b--x')\n",
    "plt.legend(loc=0,fontsize=12)\n",
    "plt.xlabel(\"[pp38] increase (%)\",fontsize=15)\n",
    "plt.ylabel(\"$[TNFa]_{released}$ (% of max)\",fontsize=15)\n",
    "plt.grid(True)\n",
    "plt.tight_layout()\n",
    "plt.savefig(\"plotTNFreleasevspp38variation.png\")"
   ]
  },
  {
   "cell_type": "code",
   "execution_count": 45,
   "metadata": {},
   "outputs": [
    {
     "data": {
      "image/png": "[encoded data removed]",
      "text/plain": [
       "<matplotlib.figure.Figure at 0x7fa350743668>"
      ]
     },
     "metadata": {},
     "output_type": "display_data"
    }
   ],
   "source": [
    "plt.figure(figsize = (7,7))\n",
    "atp = np.array([-75,-50,-25,-10,0,10,25,50,75])\n",
    "plt.tick_params(labelsize=12)\n",
    "plt.plot(atp,rTNF4,'b--x')\n",
    "plt.legend(loc=0,fontsize=12)\n",
    "plt.xlabel(\"[pp38] increase (%)\",fontsize=15)\n",
    "plt.ylabel(\"$[TNFa]_{produced}$ (% of max)\",fontsize=15)\n",
    "plt.grid(True)\n",
    "plt.tight_layout()\n",
    "plt.savefig(\"plotTNFvspp38variation.png\")"
   ]
  },
  {
   "cell_type": "code",
   "execution_count": null,
   "metadata": {
    "collapsed": true
   },
   "outputs": [],
   "source": []
  }
 ],
 "metadata": {
  "kernelspec": {
   "display_name": "Python 3",
   "language": "python",
   "name": "python3"
  },
  "language_info": {
   "codemirror_mode": {
    "name": "ipython",
    "version": 3
   },
   "file_extension": ".py",
   "mimetype": "text/x-python",
   "name": "python",
   "nbconvert_exporter": "python",
   "pygments_lexer": "ipython3",
   "version": "3.6.3"
  }
 },
 "nbformat": 4,
 "nbformat_minor": 2
}
